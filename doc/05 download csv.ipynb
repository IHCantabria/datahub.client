{
 "cells": [
  {
   "cell_type": "code",
   "execution_count": 1,
   "metadata": {},
   "outputs": [],
   "source": [
    "from datahub.thredds import Catalog"
   ]
  },
  {
   "cell_type": "code",
   "execution_count": 2,
   "metadata": {},
   "outputs": [],
   "source": [
    "product = {\n",
    "    \"urlBase\": \"https://ihthredds.ihcantabria.com\",\n",
    "    \"urlXmlLatest\": \"/thredds/catalog/copernicus/CMEMS/GLOBAL_REANALYSIS_WAV_001_032/latest.xml\",\n",
    "    \"urlCatalog\": \"/thredds/catalog/copernicus/CMEMS/GLOBAL_REANALYSIS_WAV_001_032/catalog.xml\",\n",
    "}\n",
    "variables = [\n",
    "    {\n",
    "        \"id\": 317,\n",
    "        \"nameShort\": \"VTPK\",\n",
    "        \"nameLong\": \"Wave period at spectral peak / peak period (Tp)\",\n",
    "        \"alias\": \"Wave period at spectral peak / peak period (Tp)\",\n",
    "        \"units\": \"s\",\n",
    "        \"idVariableTypes\": 1,\n",
    "        \"scaleFactor\": 0.01,\n",
    "        \"offset\": 0.0,\n",
    "        \"productVariable\": [],\n",
    "    },\n",
    "    {\n",
    "        \"id\": 316,\n",
    "        \"nameShort\": \"VMDR\",\n",
    "        \"nameLong\": \"Mean wave direction from (Mdir)\",\n",
    "        \"alias\": \"Mean wave direction from (Mdir)\",\n",
    "        \"units\": \"\\u00ba\",\n",
    "        \"idVariableTypes\": 1,\n",
    "        \"scaleFactor\": 0.01,\n",
    "        \"offset\": 180.0,\n",
    "        \"productVariable\": [],\n",
    "    },\n",
    "]\n",
    "coordinates = {\"lon\": 43.456, \"lat\": -2.883}\n",
    "dates = {\"start\": \"2018-12-24T00:00:00\", \"end\": \"2018-12-24T12:00:00\"}"
   ]
  },
  {
   "cell_type": "code",
   "execution_count": 3,
   "metadata": {},
   "outputs": [
    {
     "name": "stdout",
     "output_type": "stream",
     "text": [
      "2020-05-28 16:23:04.674 INFO thredds - datasets: 1 datasets found\n",
      "2020-05-28 16:23:06.755 INFO thredds - download: downloaded completed in /tmp/test.csv\n"
     ]
    }
   ],
   "source": [
    "filename = \"/tmp/test.csv\"\n",
    "c = Catalog(product)\n",
    "filenames = c.download(coordinates, dates, variables, filename, \"csv\")"
   ]
  },
  {
   "cell_type": "code",
   "execution_count": null,
   "metadata": {},
   "outputs": [],
   "source": []
  }
 ],
 "metadata": {
  "kernelspec": {
   "display_name": "Python 3",
   "language": "python",
   "name": "python3"
  },
  "language_info": {
   "codemirror_mode": {
    "name": "ipython",
    "version": 3
   },
   "file_extension": ".py",
   "mimetype": "text/x-python",
   "name": "python",
   "nbconvert_exporter": "python",
   "pygments_lexer": "ipython3",
   "version": "3.7.3"
  }
 },
 "nbformat": 4,
 "nbformat_minor": 4
}
