{
 "cells": [
  {
   "source": [
    "# Download CSV\n",
    "We can download the data as a csv file.  \n",
    "\\* CSV is only available to download the data of some coordinates, not of an area."
   ],
   "cell_type": "markdown",
   "metadata": {}
  },
  {
   "cell_type": "code",
   "execution_count": 1,
   "metadata": {},
   "outputs": [],
   "source": [
    "import sys\n",
    "sys.path.append(\"..\")\n",
    "\n",
    "from datahub.products import Products\n",
    "from datahub.thredds import Catalog"
   ]
  },
  {
   "cell_type": "code",
   "execution_count": 2,
   "metadata": {},
   "outputs": [],
   "source": [
    "name = \"GLOBAL_REANALYSIS_WAV_001_032\"\n",
    "p = Products()\n",
    "product = p.get_by_name_alias(name)\n",
    "variables = p.get_variables(product)\n",
    "coordinates = {\"lon\": 43.456, \"lat\": -2.883}\n",
    "dates = {\"start\": \"2018-12-24T00:00:00\", \"end\": \"2018-12-24T12:00:00\"}"
   ]
  },
  {
   "cell_type": "code",
   "execution_count": 3,
   "metadata": {},
   "outputs": [
    {
     "output_type": "stream",
     "name": "stdout",
     "text": [
      "2020-10-21 13:15:04.830 INFO thredds - datasets: 1 datasets found\n",
      "2020-10-21 13:15:08.762 INFO thredds - download: downloaded completed in /tmp/test.csv\n"
     ]
    }
   ],
   "source": [
    "filename = \"/tmp/test.csv\"\n",
    "\n",
    "c = Catalog(product)\n",
    "filenames = c.download(coordinates, dates, variables, filename, \"csv\")"
   ]
  },
  {
   "source": [
    "cat /tmp/csv\n",
    "\n",
    "```\n",
    "time,latitude[unit=\"degrees_north\"],longitude[unit=\"degrees_east\"],VMDR_SW2[unit=\"degree\"],VHM0_WW[unit=\"m\"],VHM0_SW2[unit=\"m\"],VTM02[unit=\"s\"],VSDX[unit=\"m s-1\"],VHM0[unit=\"m\"],VTM01_WW[unit=\"s\"],VMDR_SW1[unit=\"degree\"],VTM01_SW1[unit=\"s\"],VHM0_SW1[unit=\"m\"],VTPK[unit=\"s\"],VSDY[unit=\"m s-1\"],VTM01_SW2[unit=\"s\"],VTM10[unit=\"s\"],VMDR[unit=\"degree\"],VPED[unit=\"degree\"],VMDR_WW[unit=\"degree\"]\n",
    "2018-12-24T00:00:00Z,-2.883,43.456,-17581.0,137.0,63.0,512.0,-11.0,197.0,453.0,-13153.0,879.0,86.0,701.0,-6.0,570.0,708.0,-11332.0,-12750.0,-11883.0\n",
    "2018-12-24T03:00:00Z,-2.883,43.456,-15211.0,141.0,52.0,507.0,-11.0,195.0,459.0,-16061.0,674.0,57.0,694.0,-6.0,823.0,703.0,-11086.0,-12388.0,-11876.0\n",
    "2018-12-24T06:00:00Z,-2.883,43.456,-17150.0,127.0,53.0,505.0,-11.0,189.0,438.0,-12406.0,863.0,86.0,690.0,-6.0,589.0,704.0,-10998.0,-12388.0,-12200.0\n",
    "2018-12-24T09:00:00Z,-2.883,43.456,-5340.0,107.0,76.0,504.0,-9.0,184.0,403.0,-11612.0,709.0,126.0,698.0,-7.0,1186.0,708.0,-11074.0,-12750.0,-13122.0\n",
    "2018-12-24T12:00:00Z,-2.883,43.456,-6045.0,112.0,76.0,503.0,-9.0,186.0,412.0,-11329.0,762.0,111.0,714.0,-8.0,1045.0,710.0,-11419.0,-12750.0,-13930.0\n",
    "```\n"
   ],
   "cell_type": "markdown",
   "metadata": {}
  }
 ],
 "metadata": {
  "kernelspec": {
   "display_name": "Python 3",
   "language": "python",
   "name": "python3"
  },
  "language_info": {
   "codemirror_mode": {
    "name": "ipython",
    "version": 3
   },
   "file_extension": ".py",
   "mimetype": "text/x-python",
   "name": "python",
   "nbconvert_exporter": "python",
   "pygments_lexer": "ipython3",
   "version": "3.8.5-final"
  }
 },
 "nbformat": 4,
 "nbformat_minor": 4
}