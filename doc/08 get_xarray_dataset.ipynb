{
 "cells": [
  {
   "cell_type": "code",
   "execution_count": 1,
   "metadata": {},
   "outputs": [],
   "source": [
    "import sys\n",
    "sys.path.append(\"..\")"
   ]
  },
  {
   "cell_type": "code",
   "execution_count": 2,
   "metadata": {},
   "outputs": [],
   "source": [
    "from datahub.products import Products\n",
    "from datahub.catalog import Catalog\n",
    "from datetime import datetime"
   ]
  },
  {
   "cell_type": "code",
   "execution_count": 3,
   "metadata": {},
   "outputs": [
    {
     "output_type": "stream",
     "name": "stdout",
     "text": [
      "Cantabrico\n"
     ]
    }
   ],
   "source": [
    "product = Products().get(198)\n",
    "print(product)"
   ]
  },
  {
   "cell_type": "code",
   "execution_count": 4,
   "metadata": {},
   "outputs": [
    {
     "output_type": "stream",
     "name": "stdout",
     "text": [
      "2020-12-01 10:45:16.007 INFO catalog - datasets: 4 datasets found\n",
      "[Cantabrico_2020112406.nc, Cantabrico_2020112400.nc, Cantabrico_2020112318.nc, Cantabrico_2020112312.nc]\n"
     ]
    }
   ],
   "source": [
    "c = Catalog(product)\n",
    "print(c.datasets)"
   ]
  },
  {
   "cell_type": "code",
   "execution_count": 5,
   "metadata": {},
   "outputs": [
    {
     "output_type": "stream",
     "name": "stdout",
     "text": [
      "2020-12-01 10:45:16.133 INFO catalog - latest: latest dataset found\n"
     ]
    },
    {
     "output_type": "execute_result",
     "data": {
      "text/plain": [
       "<xarray.Dataset>\n",
       "Dimensions:              (latitude: 46, longitude: 216, time: 81)\n",
       "Coordinates:\n",
       "  * longitude            (longitude) float32 -5.459957 -5.439957 ... -1.1599612\n",
       "  * time                 (time) datetime64[ns] 2020-11-24T06:00:00 ... 2020-1...\n",
       "  * latitude             (latitude) float32 43.14003 43.16003 ... 44.04005\n",
       "Data variables:\n",
       "    grid_northward_wind  (time, latitude, longitude) float32 ...\n",
       "    grid_eastward_wind   (time, latitude, longitude) float32 ...\n",
       "    Pressure_surface     (time, latitude, longitude) float32 ...\n",
       "Attributes:\n",
       "    CDI:                             Climate Data Interface version ?? (http:...\n",
       "    history:                         Tue Nov 24 15:22:01 2020: cdo merge /Ope...\n",
       "    source:                          statistical forecast\n",
       "    institution:                     Environmental Hydraulics Institute, Univ...\n",
       "    Conventions:                     CF-1.4\n",
       "    title:                           Statistical Forecast of SeaWind CFS\n",
       "    CDO:                             Climate Data Operators version 1.7.0 (ht...\n",
       "    DODS_EXTRA.Unlimited_Dimension:  time"
      ],
      "text/html": "<div><svg style=\"position: absolute; width: 0; height: 0; overflow: hidden\">\n<defs>\n<symbol id=\"icon-database\" viewBox=\"0 0 32 32\">\n<path d=\"M16 0c-8.837 0-16 2.239-16 5v4c0 2.761 7.163 5 16 5s16-2.239 16-5v-4c0-2.761-7.163-5-16-5z\"></path>\n<path d=\"M16 17c-8.837 0-16-2.239-16-5v6c0 2.761 7.163 5 16 5s16-2.239 16-5v-6c0 2.761-7.163 5-16 5z\"></path>\n<path d=\"M16 26c-8.837 0-16-2.239-16-5v6c0 2.761 7.163 5 16 5s16-2.239 16-5v-6c0 2.761-7.163 5-16 5z\"></path>\n</symbol>\n<symbol id=\"icon-file-text2\" viewBox=\"0 0 32 32\">\n<path d=\"M28.681 7.159c-0.694-0.947-1.662-2.053-2.724-3.116s-2.169-2.030-3.116-2.724c-1.612-1.182-2.393-1.319-2.841-1.319h-15.5c-1.378 0-2.5 1.121-2.5 2.5v27c0 1.378 1.122 2.5 2.5 2.5h23c1.378 0 2.5-1.122 2.5-2.5v-19.5c0-0.448-0.137-1.23-1.319-2.841zM24.543 5.457c0.959 0.959 1.712 1.825 2.268 2.543h-4.811v-4.811c0.718 0.556 1.584 1.309 2.543 2.268zM28 29.5c0 0.271-0.229 0.5-0.5 0.5h-23c-0.271 0-0.5-0.229-0.5-0.5v-27c0-0.271 0.229-0.5 0.5-0.5 0 0 15.499-0 15.5 0v7c0 0.552 0.448 1 1 1h7v19.5z\"></path>\n<path d=\"M23 26h-14c-0.552 0-1-0.448-1-1s0.448-1 1-1h14c0.552 0 1 0.448 1 1s-0.448 1-1 1z\"></path>\n<path d=\"M23 22h-14c-0.552 0-1-0.448-1-1s0.448-1 1-1h14c0.552 0 1 0.448 1 1s-0.448 1-1 1z\"></path>\n<path d=\"M23 18h-14c-0.552 0-1-0.448-1-1s0.448-1 1-1h14c0.552 0 1 0.448 1 1s-0.448 1-1 1z\"></path>\n</symbol>\n</defs>\n</svg>\n<style>/* CSS stylesheet for displaying xarray objects in jupyterlab.\n *\n */\n\n:root {\n  --xr-font-color0: var(--jp-content-font-color0, rgba(0, 0, 0, 1));\n  --xr-font-color2: var(--jp-content-font-color2, rgba(0, 0, 0, 0.54));\n  --xr-font-color3: var(--jp-content-font-color3, rgba(0, 0, 0, 0.38));\n  --xr-border-color: var(--jp-border-color2, #e0e0e0);\n  --xr-disabled-color: var(--jp-layout-color3, #bdbdbd);\n  --xr-background-color: var(--jp-layout-color0, white);\n  --xr-background-color-row-even: var(--jp-layout-color1, white);\n  --xr-background-color-row-odd: var(--jp-layout-color2, #eeeeee);\n}\n\nhtml[theme=dark],\nbody.vscode-dark {\n  --xr-font-color0: rgba(255, 255, 255, 1);\n  --xr-font-color2: rgba(255, 255, 255, 0.54);\n  --xr-font-color3: rgba(255, 255, 255, 0.38);\n  --xr-border-color: #1F1F1F;\n  --xr-disabled-color: #515151;\n  --xr-background-color: #111111;\n  --xr-background-color-row-even: #111111;\n  --xr-background-color-row-odd: #313131;\n}\n\n.xr-wrap {\n  display: block;\n  min-width: 300px;\n  max-width: 700px;\n}\n\n.xr-text-repr-fallback {\n  /* fallback to plain text repr when CSS is not injected (untrusted notebook) */\n  display: none;\n}\n\n.xr-header {\n  padding-top: 6px;\n  padding-bottom: 6px;\n  margin-bottom: 4px;\n  border-bottom: solid 1px var(--xr-border-color);\n}\n\n.xr-header > div,\n.xr-header > ul {\n  display: inline;\n  margin-top: 0;\n  margin-bottom: 0;\n}\n\n.xr-obj-type,\n.xr-array-name {\n  margin-left: 2px;\n  margin-right: 10px;\n}\n\n.xr-obj-type {\n  color: var(--xr-font-color2);\n}\n\n.xr-sections {\n  padding-left: 0 !important;\n  display: grid;\n  grid-template-columns: 150px auto auto 1fr 20px 20px;\n}\n\n.xr-section-item {\n  display: contents;\n}\n\n.xr-section-item input {\n  display: none;\n}\n\n.xr-section-item input + label {\n  color: var(--xr-disabled-color);\n}\n\n.xr-section-item input:enabled + label {\n  cursor: pointer;\n  color: var(--xr-font-color2);\n}\n\n.xr-section-item input:enabled + label:hover {\n  color: var(--xr-font-color0);\n}\n\n.xr-section-summary {\n  grid-column: 1;\n  color: var(--xr-font-color2);\n  font-weight: 500;\n}\n\n.xr-section-summary > span {\n  display: inline-block;\n  padding-left: 0.5em;\n}\n\n.xr-section-summary-in:disabled + label {\n  color: var(--xr-font-color2);\n}\n\n.xr-section-summary-in + label:before {\n  display: inline-block;\n  content: '►';\n  font-size: 11px;\n  width: 15px;\n  text-align: center;\n}\n\n.xr-section-summary-in:disabled + label:before {\n  color: var(--xr-disabled-color);\n}\n\n.xr-section-summary-in:checked + label:before {\n  content: '▼';\n}\n\n.xr-section-summary-in:checked + label > span {\n  display: none;\n}\n\n.xr-section-summary,\n.xr-section-inline-details {\n  padding-top: 4px;\n  padding-bottom: 4px;\n}\n\n.xr-section-inline-details {\n  grid-column: 2 / -1;\n}\n\n.xr-section-details {\n  display: none;\n  grid-column: 1 / -1;\n  margin-bottom: 5px;\n}\n\n.xr-section-summary-in:checked ~ .xr-section-details {\n  display: contents;\n}\n\n.xr-array-wrap {\n  grid-column: 1 / -1;\n  display: grid;\n  grid-template-columns: 20px auto;\n}\n\n.xr-array-wrap > label {\n  grid-column: 1;\n  vertical-align: top;\n}\n\n.xr-preview {\n  color: var(--xr-font-color3);\n}\n\n.xr-array-preview,\n.xr-array-data {\n  padding: 0 5px !important;\n  grid-column: 2;\n}\n\n.xr-array-data,\n.xr-array-in:checked ~ .xr-array-preview {\n  display: none;\n}\n\n.xr-array-in:checked ~ .xr-array-data,\n.xr-array-preview {\n  display: inline-block;\n}\n\n.xr-dim-list {\n  display: inline-block !important;\n  list-style: none;\n  padding: 0 !important;\n  margin: 0;\n}\n\n.xr-dim-list li {\n  display: inline-block;\n  padding: 0;\n  margin: 0;\n}\n\n.xr-dim-list:before {\n  content: '(';\n}\n\n.xr-dim-list:after {\n  content: ')';\n}\n\n.xr-dim-list li:not(:last-child):after {\n  content: ',';\n  padding-right: 5px;\n}\n\n.xr-has-index {\n  font-weight: bold;\n}\n\n.xr-var-list,\n.xr-var-item {\n  display: contents;\n}\n\n.xr-var-item > div,\n.xr-var-item label,\n.xr-var-item > .xr-var-name span {\n  background-color: var(--xr-background-color-row-even);\n  margin-bottom: 0;\n}\n\n.xr-var-item > .xr-var-name:hover span {\n  padding-right: 5px;\n}\n\n.xr-var-list > li:nth-child(odd) > div,\n.xr-var-list > li:nth-child(odd) > label,\n.xr-var-list > li:nth-child(odd) > .xr-var-name span {\n  background-color: var(--xr-background-color-row-odd);\n}\n\n.xr-var-name {\n  grid-column: 1;\n}\n\n.xr-var-dims {\n  grid-column: 2;\n}\n\n.xr-var-dtype {\n  grid-column: 3;\n  text-align: right;\n  color: var(--xr-font-color2);\n}\n\n.xr-var-preview {\n  grid-column: 4;\n}\n\n.xr-var-name,\n.xr-var-dims,\n.xr-var-dtype,\n.xr-preview,\n.xr-attrs dt {\n  white-space: nowrap;\n  overflow: hidden;\n  text-overflow: ellipsis;\n  padding-right: 10px;\n}\n\n.xr-var-name:hover,\n.xr-var-dims:hover,\n.xr-var-dtype:hover,\n.xr-attrs dt:hover {\n  overflow: visible;\n  width: auto;\n  z-index: 1;\n}\n\n.xr-var-attrs,\n.xr-var-data {\n  display: none;\n  background-color: var(--xr-background-color) !important;\n  padding-bottom: 5px !important;\n}\n\n.xr-var-attrs-in:checked ~ .xr-var-attrs,\n.xr-var-data-in:checked ~ .xr-var-data {\n  display: block;\n}\n\n.xr-var-data > table {\n  float: right;\n}\n\n.xr-var-name span,\n.xr-var-data,\n.xr-attrs {\n  padding-left: 25px !important;\n}\n\n.xr-attrs,\n.xr-var-attrs,\n.xr-var-data {\n  grid-column: 1 / -1;\n}\n\ndl.xr-attrs {\n  padding: 0;\n  margin: 0;\n  display: grid;\n  grid-template-columns: 125px auto;\n}\n\n.xr-attrs dt, dd {\n  padding: 0;\n  margin: 0;\n  float: left;\n  padding-right: 10px;\n  width: auto;\n}\n\n.xr-attrs dt {\n  font-weight: normal;\n  grid-column: 1;\n}\n\n.xr-attrs dt:hover span {\n  display: inline-block;\n  background: var(--xr-background-color);\n  padding-right: 10px;\n}\n\n.xr-attrs dd {\n  grid-column: 2;\n  white-space: pre-wrap;\n  word-break: break-all;\n}\n\n.xr-icon-database,\n.xr-icon-file-text2 {\n  display: inline-block;\n  vertical-align: middle;\n  width: 1em;\n  height: 1.5em !important;\n  stroke-width: 0;\n  stroke: currentColor;\n  fill: currentColor;\n}\n</style><pre class='xr-text-repr-fallback'>&lt;xarray.Dataset&gt;\nDimensions:              (latitude: 46, longitude: 216, time: 81)\nCoordinates:\n  * longitude            (longitude) float32 -5.459957 -5.439957 ... -1.1599612\n  * time                 (time) datetime64[ns] 2020-11-24T06:00:00 ... 2020-1...\n  * latitude             (latitude) float32 43.14003 43.16003 ... 44.04005\nData variables:\n    grid_northward_wind  (time, latitude, longitude) float32 ...\n    grid_eastward_wind   (time, latitude, longitude) float32 ...\n    Pressure_surface     (time, latitude, longitude) float32 ...\nAttributes:\n    CDI:                             Climate Data Interface version ?? (http:...\n    history:                         Tue Nov 24 15:22:01 2020: cdo merge /Ope...\n    source:                          statistical forecast\n    institution:                     Environmental Hydraulics Institute, Univ...\n    Conventions:                     CF-1.4\n    title:                           Statistical Forecast of SeaWind CFS\n    CDO:                             Climate Data Operators version 1.7.0 (ht...\n    DODS_EXTRA.Unlimited_Dimension:  time</pre><div class='xr-wrap' hidden><div class='xr-header'><div class='xr-obj-type'>xarray.Dataset</div></div><ul class='xr-sections'><li class='xr-section-item'><input id='section-0ab98325-1740-41cf-b19d-a10bb60b799d' class='xr-section-summary-in' type='checkbox' disabled ><label for='section-0ab98325-1740-41cf-b19d-a10bb60b799d' class='xr-section-summary'  title='Expand/collapse section'>Dimensions:</label><div class='xr-section-inline-details'><ul class='xr-dim-list'><li><span class='xr-has-index'>latitude</span>: 46</li><li><span class='xr-has-index'>longitude</span>: 216</li><li><span class='xr-has-index'>time</span>: 81</li></ul></div><div class='xr-section-details'></div></li><li class='xr-section-item'><input id='section-695eccee-d0cb-43db-a9eb-4ed66e17e470' class='xr-section-summary-in' type='checkbox'  checked><label for='section-695eccee-d0cb-43db-a9eb-4ed66e17e470' class='xr-section-summary' >Coordinates: <span>(3)</span></label><div class='xr-section-inline-details'></div><div class='xr-section-details'><ul class='xr-var-list'><li class='xr-var-item'><div class='xr-var-name'><span class='xr-has-index'>longitude</span></div><div class='xr-var-dims'>(longitude)</div><div class='xr-var-dtype'>float32</div><div class='xr-var-preview xr-preview'>-5.459957 -5.439957 ... -1.1599612</div><input id='attrs-091cbf4c-7f87-4ad0-96fc-350e99ba3027' class='xr-var-attrs-in' type='checkbox' ><label for='attrs-091cbf4c-7f87-4ad0-96fc-350e99ba3027' title='Show/Hide attributes'><svg class='icon xr-icon-file-text2'><use xlink:href='#icon-file-text2'></use></svg></label><input id='data-985ec02f-ef4a-457b-be2e-983744e4427d' class='xr-var-data-in' type='checkbox'><label for='data-985ec02f-ef4a-457b-be2e-983744e4427d' title='Show/Hide data repr'><svg class='icon xr-icon-database'><use xlink:href='#icon-database'></use></svg></label><div class='xr-var-attrs'><dl class='xr-attrs'><dt><span>standard_name :</span></dt><dd>longitude</dd><dt><span>long_name :</span></dt><dd>Longitude</dd><dt><span>units :</span></dt><dd>degrees_east</dd><dt><span>axis :</span></dt><dd>X</dd></dl></div><div class='xr-var-data'><pre>array([-5.459957, -5.439957, -5.419957, ..., -1.199961, -1.179961, -1.159961],\n      dtype=float32)</pre></div></li><li class='xr-var-item'><div class='xr-var-name'><span class='xr-has-index'>time</span></div><div class='xr-var-dims'>(time)</div><div class='xr-var-dtype'>datetime64[ns]</div><div class='xr-var-preview xr-preview'>2020-11-24T06:00:00 ... 2020-12-...</div><input id='attrs-42aa2b19-2a42-4771-a316-bf89ee127aa1' class='xr-var-attrs-in' type='checkbox' ><label for='attrs-42aa2b19-2a42-4771-a316-bf89ee127aa1' title='Show/Hide attributes'><svg class='icon xr-icon-file-text2'><use xlink:href='#icon-file-text2'></use></svg></label><input id='data-67f74d6c-d9c8-4c15-a911-462d774f8196' class='xr-var-data-in' type='checkbox'><label for='data-67f74d6c-d9c8-4c15-a911-462d774f8196' title='Show/Hide data repr'><svg class='icon xr-icon-database'><use xlink:href='#icon-database'></use></svg></label><div class='xr-var-attrs'><dl class='xr-attrs'><dt><span>standard_name :</span></dt><dd>time</dd><dt><span>long_name :</span></dt><dd>time instant</dd><dt><span>axis :</span></dt><dd>T</dd><dt><span>_ChunkSizes :</span></dt><dd>512</dd></dl></div><div class='xr-var-data'><pre>array([&#x27;2020-11-24T06:00:00.000000000&#x27;, &#x27;2020-11-24T09:00:00.000000000&#x27;,\n       &#x27;2020-11-24T12:00:00.000000000&#x27;, &#x27;2020-11-24T15:00:00.000000000&#x27;,\n       &#x27;2020-11-24T18:00:00.000000000&#x27;, &#x27;2020-11-24T21:00:00.000000000&#x27;,\n       &#x27;2020-11-25T00:00:00.000000000&#x27;, &#x27;2020-11-25T03:00:00.000000000&#x27;,\n       &#x27;2020-11-25T06:00:00.000000000&#x27;, &#x27;2020-11-25T09:00:00.000000000&#x27;,\n       &#x27;2020-11-25T12:00:00.000000000&#x27;, &#x27;2020-11-25T15:00:00.000000000&#x27;,\n       &#x27;2020-11-25T18:00:00.000000000&#x27;, &#x27;2020-11-25T21:00:00.000000000&#x27;,\n       &#x27;2020-11-26T00:00:00.000000000&#x27;, &#x27;2020-11-26T03:00:00.000000000&#x27;,\n       &#x27;2020-11-26T06:00:00.000000000&#x27;, &#x27;2020-11-26T09:00:00.000000000&#x27;,\n       &#x27;2020-11-26T12:00:00.000000000&#x27;, &#x27;2020-11-26T15:00:00.000000000&#x27;,\n       &#x27;2020-11-26T18:00:00.000000000&#x27;, &#x27;2020-11-26T21:00:00.000000000&#x27;,\n       &#x27;2020-11-27T00:00:00.000000000&#x27;, &#x27;2020-11-27T03:00:00.000000000&#x27;,\n       &#x27;2020-11-27T06:00:00.000000000&#x27;, &#x27;2020-11-27T09:00:00.000000000&#x27;,\n       &#x27;2020-11-27T12:00:00.000000000&#x27;, &#x27;2020-11-27T15:00:00.000000000&#x27;,\n       &#x27;2020-11-27T18:00:00.000000000&#x27;, &#x27;2020-11-27T21:00:00.000000000&#x27;,\n       &#x27;2020-11-28T00:00:00.000000000&#x27;, &#x27;2020-11-28T03:00:00.000000000&#x27;,\n       &#x27;2020-11-28T06:00:00.000000000&#x27;, &#x27;2020-11-28T09:00:00.000000000&#x27;,\n       &#x27;2020-11-28T12:00:00.000000000&#x27;, &#x27;2020-11-28T15:00:00.000000000&#x27;,\n       &#x27;2020-11-28T18:00:00.000000000&#x27;, &#x27;2020-11-28T21:00:00.000000000&#x27;,\n       &#x27;2020-11-29T00:00:00.000000000&#x27;, &#x27;2020-11-29T03:00:00.000000000&#x27;,\n       &#x27;2020-11-29T06:00:00.000000000&#x27;, &#x27;2020-11-29T09:00:00.000000000&#x27;,\n       &#x27;2020-11-29T12:00:00.000000000&#x27;, &#x27;2020-11-29T15:00:00.000000000&#x27;,\n       &#x27;2020-11-29T18:00:00.000000000&#x27;, &#x27;2020-11-29T21:00:00.000000000&#x27;,\n       &#x27;2020-11-30T00:00:00.000000000&#x27;, &#x27;2020-11-30T03:00:00.000000000&#x27;,\n       &#x27;2020-11-30T06:00:00.000000000&#x27;, &#x27;2020-11-30T09:00:00.000000000&#x27;,\n       &#x27;2020-11-30T12:00:00.000000000&#x27;, &#x27;2020-11-30T15:00:00.000000000&#x27;,\n       &#x27;2020-11-30T18:00:00.000000000&#x27;, &#x27;2020-11-30T21:00:00.000000000&#x27;,\n       &#x27;2020-12-01T00:00:00.000000000&#x27;, &#x27;2020-12-01T03:00:00.000000000&#x27;,\n       &#x27;2020-12-01T06:00:00.000000000&#x27;, &#x27;2020-12-01T09:00:00.000000000&#x27;,\n       &#x27;2020-12-01T12:00:00.000000000&#x27;, &#x27;2020-12-01T15:00:00.000000000&#x27;,\n       &#x27;2020-12-01T18:00:00.000000000&#x27;, &#x27;2020-12-01T21:00:00.000000000&#x27;,\n       &#x27;2020-12-02T00:00:00.000000000&#x27;, &#x27;2020-12-02T03:00:00.000000000&#x27;,\n       &#x27;2020-12-02T06:00:00.000000000&#x27;, &#x27;2020-12-02T09:00:00.000000000&#x27;,\n       &#x27;2020-12-02T12:00:00.000000000&#x27;, &#x27;2020-12-02T15:00:00.000000000&#x27;,\n       &#x27;2020-12-02T18:00:00.000000000&#x27;, &#x27;2020-12-02T21:00:00.000000000&#x27;,\n       &#x27;2020-12-03T00:00:00.000000000&#x27;, &#x27;2020-12-03T03:00:00.000000000&#x27;,\n       &#x27;2020-12-03T06:00:00.000000000&#x27;, &#x27;2020-12-03T09:00:00.000000000&#x27;,\n       &#x27;2020-12-03T12:00:00.000000000&#x27;, &#x27;2020-12-03T15:00:00.000000000&#x27;,\n       &#x27;2020-12-03T18:00:00.000000000&#x27;, &#x27;2020-12-03T21:00:00.000000000&#x27;,\n       &#x27;2020-12-04T00:00:00.000000000&#x27;, &#x27;2020-12-04T03:00:00.000000000&#x27;,\n       &#x27;2020-12-04T06:00:00.000000000&#x27;], dtype=&#x27;datetime64[ns]&#x27;)</pre></div></li><li class='xr-var-item'><div class='xr-var-name'><span class='xr-has-index'>latitude</span></div><div class='xr-var-dims'>(latitude)</div><div class='xr-var-dtype'>float32</div><div class='xr-var-preview xr-preview'>43.14003 43.16003 ... 44.04005</div><input id='attrs-5301bc0f-e809-4f6c-b043-1995726283de' class='xr-var-attrs-in' type='checkbox' ><label for='attrs-5301bc0f-e809-4f6c-b043-1995726283de' title='Show/Hide attributes'><svg class='icon xr-icon-file-text2'><use xlink:href='#icon-file-text2'></use></svg></label><input id='data-1eace066-1ee6-45d5-ac43-220060edb48b' class='xr-var-data-in' type='checkbox'><label for='data-1eace066-1ee6-45d5-ac43-220060edb48b' title='Show/Hide data repr'><svg class='icon xr-icon-database'><use xlink:href='#icon-database'></use></svg></label><div class='xr-var-attrs'><dl class='xr-attrs'><dt><span>standard_name :</span></dt><dd>latitude</dd><dt><span>long_name :</span></dt><dd>Latitude</dd><dt><span>units :</span></dt><dd>degrees_north</dd><dt><span>axis :</span></dt><dd>Y</dd></dl></div><div class='xr-var-data'><pre>array([43.14003 , 43.16003 , 43.18003 , 43.20003 , 43.22003 , 43.240032,\n       43.260033, 43.280033, 43.300034, 43.320034, 43.340034, 43.360035,\n       43.380035, 43.400036, 43.420036, 43.440037, 43.460037, 43.480038,\n       43.50004 , 43.52004 , 43.54004 , 43.56004 , 43.58004 , 43.60004 ,\n       43.62004 , 43.64004 , 43.66004 , 43.680042, 43.700043, 43.720043,\n       43.740044, 43.760044, 43.780045, 43.800045, 43.820045, 43.840046,\n       43.860046, 43.880047, 43.900047, 43.920048, 43.94005 , 43.96005 ,\n       43.98005 , 44.00005 , 44.02005 , 44.04005 ], dtype=float32)</pre></div></li></ul></div></li><li class='xr-section-item'><input id='section-9d44e1a7-0e53-44e1-b863-f88b01c0d8e8' class='xr-section-summary-in' type='checkbox'  checked><label for='section-9d44e1a7-0e53-44e1-b863-f88b01c0d8e8' class='xr-section-summary' >Data variables: <span>(3)</span></label><div class='xr-section-inline-details'></div><div class='xr-section-details'><ul class='xr-var-list'><li class='xr-var-item'><div class='xr-var-name'><span>grid_northward_wind</span></div><div class='xr-var-dims'>(time, latitude, longitude)</div><div class='xr-var-dtype'>float32</div><div class='xr-var-preview xr-preview'>...</div><input id='attrs-ea231855-2d15-4a38-a950-b14baa6b49b3' class='xr-var-attrs-in' type='checkbox' ><label for='attrs-ea231855-2d15-4a38-a950-b14baa6b49b3' title='Show/Hide attributes'><svg class='icon xr-icon-file-text2'><use xlink:href='#icon-file-text2'></use></svg></label><input id='data-49b49a9b-171a-4efb-8091-7a09791c6de2' class='xr-var-data-in' type='checkbox'><label for='data-49b49a9b-171a-4efb-8091-7a09791c6de2' title='Show/Hide data repr'><svg class='icon xr-icon-database'><use xlink:href='#icon-database'></use></svg></label><div class='xr-var-attrs'><dl class='xr-attrs'><dt><span>short_name :</span></dt><dd>VGRD_10maboveground</dd><dt><span>long_name :</span></dt><dd>grid_northward_wind</dd><dt><span>units :</span></dt><dd>m/s</dd><dt><span>_ChunkSizes :</span></dt><dd>[  1  46 216]</dd></dl></div><div class='xr-var-data'><pre>[804816 values with dtype=float32]</pre></div></li><li class='xr-var-item'><div class='xr-var-name'><span>grid_eastward_wind</span></div><div class='xr-var-dims'>(time, latitude, longitude)</div><div class='xr-var-dtype'>float32</div><div class='xr-var-preview xr-preview'>...</div><input id='attrs-6910820d-0132-4968-937e-ffe637f552d3' class='xr-var-attrs-in' type='checkbox' ><label for='attrs-6910820d-0132-4968-937e-ffe637f552d3' title='Show/Hide attributes'><svg class='icon xr-icon-file-text2'><use xlink:href='#icon-file-text2'></use></svg></label><input id='data-4957b2a8-2f8c-4edb-9bf3-d552fbc5c4e9' class='xr-var-data-in' type='checkbox'><label for='data-4957b2a8-2f8c-4edb-9bf3-d552fbc5c4e9' title='Show/Hide data repr'><svg class='icon xr-icon-database'><use xlink:href='#icon-database'></use></svg></label><div class='xr-var-attrs'><dl class='xr-attrs'><dt><span>long_name :</span></dt><dd>grid_eastward_wind</dd><dt><span>units :</span></dt><dd>m/s</dd><dt><span>short_name :</span></dt><dd>UGRD_10maboveground</dd><dt><span>_ChunkSizes :</span></dt><dd>[  1  46 216]</dd></dl></div><div class='xr-var-data'><pre>[804816 values with dtype=float32]</pre></div></li><li class='xr-var-item'><div class='xr-var-name'><span>Pressure_surface</span></div><div class='xr-var-dims'>(time, latitude, longitude)</div><div class='xr-var-dtype'>float32</div><div class='xr-var-preview xr-preview'>...</div><input id='attrs-1e8a49af-d14d-4add-b6ba-b635cc1abcad' class='xr-var-attrs-in' type='checkbox' ><label for='attrs-1e8a49af-d14d-4add-b6ba-b635cc1abcad' title='Show/Hide attributes'><svg class='icon xr-icon-file-text2'><use xlink:href='#icon-file-text2'></use></svg></label><input id='data-7235aaa0-3536-4d2c-815d-2de9cb8e4fb2' class='xr-var-data-in' type='checkbox'><label for='data-7235aaa0-3536-4d2c-815d-2de9cb8e4fb2' title='Show/Hide data repr'><svg class='icon xr-icon-database'><use xlink:href='#icon-database'></use></svg></label><div class='xr-var-attrs'><dl class='xr-attrs'><dt><span>short_name :</span></dt><dd>PRES_surface</dd><dt><span>long_name :</span></dt><dd>Pressure_surface</dd><dt><span>units :</span></dt><dd>Pa</dd><dt><span>_ChunkSizes :</span></dt><dd>[  1  46 216]</dd></dl></div><div class='xr-var-data'><pre>[804816 values with dtype=float32]</pre></div></li></ul></div></li><li class='xr-section-item'><input id='section-554a945e-3542-4def-9162-ff4ba82184ce' class='xr-section-summary-in' type='checkbox'  checked><label for='section-554a945e-3542-4def-9162-ff4ba82184ce' class='xr-section-summary' >Attributes: <span>(8)</span></label><div class='xr-section-inline-details'></div><div class='xr-section-details'><dl class='xr-attrs'><dt><span>CDI :</span></dt><dd>Climate Data Interface version ?? (http://mpimet.mpg.de/cdi)</dd><dt><span>history :</span></dt><dd>Tue Nov 24 15:22:01 2020: cdo merge /Operacional/Bimep/Resultados/Cantabrico_GFS_SLP_2020112406.nc /Operacional/Bimep/Resultados/Cantabrico_GFS_UV_2020112406.nc /Operacional/Bimep/Resultados/IH_WRFhib_Cantabrico_2020112406.temp.nc\nTue Nov 24 15:22:01 2020: cdo remapbil,/Operacional/Bimep/src/Mask_Cantabrico.nc /Operacional/Bimep/Resultados/Cantabrico_GFS_UV_2020112406.temp.nc /Operacional/Bimep/Resultados/Cantabrico_GFS_UV_2020112406.nc</dd><dt><span>source :</span></dt><dd>statistical forecast</dd><dt><span>institution :</span></dt><dd>Environmental Hydraulics Institute, Universidad de Cantabria</dd><dt><span>Conventions :</span></dt><dd>CF-1.4</dd><dt><span>title :</span></dt><dd>Statistical Forecast of SeaWind CFS</dd><dt><span>CDO :</span></dt><dd>Climate Data Operators version 1.7.0 (http://mpimet.mpg.de/cdo)</dd><dt><span>DODS_EXTRA.Unlimited_Dimension :</span></dt><dd>time</dd></dl></div></li></ul></div></div>"
     },
     "metadata": {},
     "execution_count": 5
    }
   ],
   "source": [
    "# Open all datasets\n",
    "c.latest.open_xarray_conn()"
   ]
  },
  {
   "cell_type": "code",
   "execution_count": 6,
   "metadata": {},
   "outputs": [
    {
     "output_type": "stream",
     "name": "stdout",
     "text": [
      "2020-12-01 10:45:16.334 INFO catalog - datasets: 4 datasets found\n",
      "<xarray.Dataset>\n",
      "Dimensions:              (latitude: 46, longitude: 216, time: 81)\n",
      "Coordinates:\n",
      "  * longitude            (longitude) float32 -5.459957 -5.439957 ... -1.1599612\n",
      "  * time                 (time) datetime64[ns] 2020-11-24T06:00:00 ... 2020-1...\n",
      "  * latitude             (latitude) float32 43.14003 43.16003 ... 44.04005\n",
      "Data variables:\n",
      "    grid_northward_wind  (time, latitude, longitude) float32 ...\n",
      "    grid_eastward_wind   (time, latitude, longitude) float32 ...\n",
      "    Pressure_surface     (time, latitude, longitude) float32 ...\n",
      "Attributes:\n",
      "    CDI:                             Climate Data Interface version ?? (http:...\n",
      "    history:                         Tue Nov 24 15:22:01 2020: cdo merge /Ope...\n",
      "    source:                          statistical forecast\n",
      "    institution:                     Environmental Hydraulics Institute, Univ...\n",
      "    Conventions:                     CF-1.4\n",
      "    title:                           Statistical Forecast of SeaWind CFS\n",
      "    CDO:                             Climate Data Operators version 1.7.0 (ht...\n",
      "    DODS_EXTRA.Unlimited_Dimension:  time\n",
      "<xarray.Dataset>\n",
      "Dimensions:              (latitude: 46, longitude: 216, time: 81)\n",
      "Coordinates:\n",
      "  * longitude            (longitude) float32 -5.459957 -5.439957 ... -1.1599612\n",
      "  * time                 (time) datetime64[ns] 2020-11-24 ... 2020-12-04\n",
      "  * latitude             (latitude) float32 43.14003 43.16003 ... 44.04005\n",
      "Data variables:\n",
      "    grid_northward_wind  (time, latitude, longitude) float32 ...\n",
      "    grid_eastward_wind   (time, latitude, longitude) float32 ...\n",
      "    Pressure_surface     (time, latitude, longitude) float32 ...\n",
      "Attributes:\n",
      "    CDI:                             Climate Data Interface version ?? (http:...\n",
      "    history:                         Tue Nov 24 08:47:44 2020: cdo merge /Ope...\n",
      "    source:                          statistical forecast\n",
      "    institution:                     Environmental Hydraulics Institute, Univ...\n",
      "    Conventions:                     CF-1.4\n",
      "    title:                           Statistical Forecast of SeaWind CFS\n",
      "    CDO:                             Climate Data Operators version 1.7.0 (ht...\n",
      "    DODS_EXTRA.Unlimited_Dimension:  time\n",
      "<xarray.Dataset>\n",
      "Dimensions:              (latitude: 46, longitude: 216, time: 81)\n",
      "Coordinates:\n",
      "  * longitude            (longitude) float32 -5.459957 -5.439957 ... -1.1599612\n",
      "  * time                 (time) datetime64[ns] 2020-11-23T18:00:00 ... 2020-1...\n",
      "  * latitude             (latitude) float32 43.14003 43.16003 ... 44.04005\n",
      "Data variables:\n",
      "    grid_northward_wind  (time, latitude, longitude) float32 ...\n",
      "    grid_eastward_wind   (time, latitude, longitude) float32 ...\n",
      "    Pressure_surface     (time, latitude, longitude) float32 ...\n",
      "Attributes:\n",
      "    CDI:                             Climate Data Interface version ?? (http:...\n",
      "    history:                         Tue Nov 24 02:51:11 2020: cdo merge /Ope...\n",
      "    source:                          statistical forecast\n",
      "    institution:                     Environmental Hydraulics Institute, Univ...\n",
      "    Conventions:                     CF-1.4\n",
      "    title:                           Statistical Forecast of SeaWind CFS\n",
      "    CDO:                             Climate Data Operators version 1.7.0 (ht...\n",
      "    DODS_EXTRA.Unlimited_Dimension:  time\n",
      "<xarray.Dataset>\n",
      "Dimensions:              (latitude: 46, longitude: 216, time: 81)\n",
      "Coordinates:\n",
      "  * longitude            (longitude) float32 -5.459957 -5.439957 ... -1.1599612\n",
      "  * time                 (time) datetime64[ns] 2020-11-23T12:00:00 ... 2020-1...\n",
      "  * latitude             (latitude) float32 43.14003 43.16003 ... 44.04005\n",
      "Data variables:\n",
      "    grid_northward_wind  (time, latitude, longitude) float32 ...\n",
      "    grid_eastward_wind   (time, latitude, longitude) float32 ...\n",
      "    Pressure_surface     (time, latitude, longitude) float32 ...\n",
      "Attributes:\n",
      "    CDI:                             Climate Data Interface version ?? (http:...\n",
      "    history:                         Mon Nov 23 20:47:38 2020: cdo merge /Ope...\n",
      "    source:                          statistical forecast\n",
      "    institution:                     Environmental Hydraulics Institute, Univ...\n",
      "    Conventions:                     CF-1.4\n",
      "    title:                           Statistical Forecast of SeaWind CFS\n",
      "    CDO:                             Climate Data Operators version 1.7.0 (ht...\n",
      "    DODS_EXTRA.Unlimited_Dimension:  time\n"
     ]
    }
   ],
   "source": [
    "# Open each dataset \n",
    "for dataset in c.datasets:\n",
    "    ds = dataset.open_xarray_conn()\n",
    "    print(ds)"
   ]
  },
  {
   "cell_type": "code",
   "execution_count": null,
   "metadata": {},
   "outputs": [],
   "source": []
  }
 ],
 "metadata": {
  "kernelspec": {
   "display_name": "Python 3",
   "language": "python",
   "name": "python3"
  },
  "language_info": {
   "codemirror_mode": {
    "name": "ipython",
    "version": 3
   },
   "file_extension": ".py",
   "mimetype": "text/x-python",
   "name": "python",
   "nbconvert_exporter": "python",
   "pygments_lexer": "ipython3",
   "version": "3.8.5-final"
  }
 },
 "nbformat": 4,
 "nbformat_minor": 4
}