{
 "cells": [
  {
   "cell_type": "code",
   "execution_count": 1,
   "metadata": {},
   "outputs": [],
   "source": [
    "import sys\n",
    "sys.path.append(\"..\")"
   ]
  },
  {
   "cell_type": "code",
   "execution_count": 2,
   "metadata": {},
   "outputs": [],
   "source": [
    "from datahub.products import Products\n",
    "from datahub.thredds import Catalog\n",
    "from datetime import datetime"
   ]
  },
  {
   "cell_type": "code",
   "execution_count": 3,
   "metadata": {},
   "outputs": [
    {
     "output_type": "stream",
     "name": "stdout",
     "text": [
      "{'id': 62, 'extent': '{\"type\":\"FeatureCollection\",\"features\":[{\"type\":\"Feature\",\"geometry\":{\"type\":\"Polygon\",\"coordinates\":[[[-5.611111164093018,42.94444274902344],[-5.611111164093018,44.19444274902344],[-1.0,44.19444274902344],[-1.0,42.94444274902344],[-5.611111164093018,42.94444274902344]]]},\"properties\":{}}]}', 'name': 'MYOCEAN_IBI2', 'originName': None, 'alias': 'Bimep Daily IBI ANALYSIS FORECAST PHYS 005 001', 'temporalResolutionHours': '24', 'spatialResolutionLonDegrees': 0.028, 'spatialResolutionLatDegrees': 0.028, 'spatialResolutionLonKm2': 2.0, 'spatialResolutionLatKm2': 3.0, 'added': '2019-07-04T00:00:00', 'addedBy': 'Marco', 'productFormat': 'nc', 'timeHorizon': 5, 'idSource': 2, 'active': True, 'idProductType': 2, 'urlProduct': '/thredds/catalog/myoceanibi2/bimep/daily/catalog.html', 'license': 'Open Access', 'graphic': True, 'mercurio': True, 'startDate': None, 'endDate': None, 'urlBase': 'https://ihthredds.ihcantabria.com', 'urlXmlLatest': '/thredds/catalog/myoceanibi2/bimep/daily/latest.xml', 'urlCatalog': '/thredds/catalog/myoceanibi2/bimep/daily/catalog.xml'}\n"
     ]
    }
   ],
   "source": [
    "p = Products()\n",
    "product = p.get_by_name_alias('Bimep Daily IBI ANALYSIS FORECAST PHYS 005 001')\n",
    "print(product)"
   ]
  },
  {
   "cell_type": "code",
   "execution_count": 4,
   "metadata": {},
   "outputs": [
    {
     "output_type": "stream",
     "name": "stdout",
     "text": [
      "2020-11-20 08:15:00.752 DEBUG thredds - url: url=https://ihthredds.ihcantabria.com/thredds/catalog/myoceanibi2/bimep/daily/catalog.xml\n",
      "2020-11-20 08:15:00.966 DEBUG thredds - datasets: ncssPath=/thredds/ncss/grid/, httpserver=/thredds/fileServer/, opendap=/thredds/dodsC/\n",
      "2020-11-20 08:15:00.967 INFO thredds - datasets: 1 datasets found\n",
      "[<datahub.thredds.Dataset object at 0x7f5d24495a30>]\n"
     ]
    }
   ],
   "source": [
    "c = Catalog(product)\n",
    "print(c.datasets)"
   ]
  },
  {
   "cell_type": "code",
   "execution_count": 5,
   "metadata": {},
   "outputs": [
    {
     "output_type": "stream",
     "name": "stdout",
     "text": [
      "2020-11-20 08:15:00.980 DEBUG thredds - url: url=https://ihthredds.ihcantabria.com/thredds/catalog/myoceanibi2/bimep/daily/catalog.xml\n",
      "2020-11-20 08:15:01.215 DEBUG thredds - datasets: ncssPath=/thredds/ncss/grid/, httpserver=/thredds/fileServer/, opendap=/thredds/dodsC/\n",
      "2020-11-20 08:15:01.217 INFO thredds - datasets: 1 datasets found\n",
      "2020-11-20 08:15:01.217 DEBUG thredds - open_xarray_conn: opening: https://ihthredds.ihcantabria.com/thredds/dodsC/myoceanibi2/bimep/daily/bimep_2020112000.nc\n"
     ]
    },
    {
     "output_type": "execute_result",
     "data": {
      "text/plain": [
       "<xarray.Dataset>\n",
       "Dimensions:    (depth: 50, latitude: 46, longitude: 167, time: 6)\n",
       "Coordinates:\n",
       "  * depth      (depth) float32 0.494025 1.541375 2.645669 ... 5274.784 5727.917\n",
       "  * latitude   (latitude) float32 42.944443 42.97222 ... 44.166668 44.194443\n",
       "  * time       (time) datetime64[ns] 2020-11-18T12:00:00 ... 2020-11-23T12:00:00\n",
       "  * longitude  (longitude) float32 -5.611111 -5.5833335 ... -1.0277778 -1.0\n",
       "Data variables:\n",
       "    thetao     (time, depth, latitude, longitude) float32 dask.array<chunksize=(6, 50, 46, 167), meta=np.ndarray>\n",
       "    so         (time, depth, latitude, longitude) float32 dask.array<chunksize=(6, 50, 46, 167), meta=np.ndarray>\n",
       "Attributes:\n",
       "    CDI:                                    Climate Data Interface version 1....\n",
       "    Conventions:                            CF-1.0\n",
       "    source:                                 IBI-MFC (PdE Production Center)\n",
       "    institution:                            Puertos del Estado (PdE)\n",
       "    title:                                  Ocean 3D daily mean fields for th...\n",
       "    easting:                                longitude\n",
       "    northing:                               latitude\n",
       "    references:                             http://marine.copernicus.eu/\n",
       "    domain_name:                            IBI36\n",
       "    FROM_ORIGINAL_FILE__field_type:         mean\n",
       "    field_date:                             20201123\n",
       "    field_julian_date:                      25894.f\n",
       "    comment:                                Class1 metrics\n",
       "    julian_day_unit:                        Hours since 1950-01-01 00:00:00\n",
       "    forecast_range:                         05-day_forecast\n",
       "    forecast_type:                          forecast\n",
       "    bulletin_date:                          2020-11-19\n",
       "    bulletin_type:                          Operational\n",
       "    FROM_ORIGINAL_FILE__longitude_min:      -19.0f\n",
       "    FROM_ORIGINAL_FILE__longitude_max:      5.000736f\n",
       "    FROM_ORIGINAL_FILE__latitude_min:       26.0f\n",
       "    FROM_ORIGINAL_FILE__latitude_max:       56.00092f\n",
       "    z_min:                                  0.49402f\n",
       "    z_max:                                  5727.917f\n",
       "    contact:                                mailto: servicedesk.cmems@mercato...\n",
       "    FROM_ORIGINAL_FILE__netcdf_version_id:  4.4.3\n",
       "    CDO:                                    Climate Data Operators version 1....\n",
       "    _CoordSysBuilder:                       ucar.nc2.dataset.conv.CF1Convention\n",
       "    history:                                Data extracted from dataset http:..."
      ],
      "text/html": "<div><svg style=\"position: absolute; width: 0; height: 0; overflow: hidden\">\n<defs>\n<symbol id=\"icon-database\" viewBox=\"0 0 32 32\">\n<path d=\"M16 0c-8.837 0-16 2.239-16 5v4c0 2.761 7.163 5 16 5s16-2.239 16-5v-4c0-2.761-7.163-5-16-5z\"></path>\n<path d=\"M16 17c-8.837 0-16-2.239-16-5v6c0 2.761 7.163 5 16 5s16-2.239 16-5v-6c0 2.761-7.163 5-16 5z\"></path>\n<path d=\"M16 26c-8.837 0-16-2.239-16-5v6c0 2.761 7.163 5 16 5s16-2.239 16-5v-6c0 2.761-7.163 5-16 5z\"></path>\n</symbol>\n<symbol id=\"icon-file-text2\" viewBox=\"0 0 32 32\">\n<path d=\"M28.681 7.159c-0.694-0.947-1.662-2.053-2.724-3.116s-2.169-2.030-3.116-2.724c-1.612-1.182-2.393-1.319-2.841-1.319h-15.5c-1.378 0-2.5 1.121-2.5 2.5v27c0 1.378 1.122 2.5 2.5 2.5h23c1.378 0 2.5-1.122 2.5-2.5v-19.5c0-0.448-0.137-1.23-1.319-2.841zM24.543 5.457c0.959 0.959 1.712 1.825 2.268 2.543h-4.811v-4.811c0.718 0.556 1.584 1.309 2.543 2.268zM28 29.5c0 0.271-0.229 0.5-0.5 0.5h-23c-0.271 0-0.5-0.229-0.5-0.5v-27c0-0.271 0.229-0.5 0.5-0.5 0 0 15.499-0 15.5 0v7c0 0.552 0.448 1 1 1h7v19.5z\"></path>\n<path d=\"M23 26h-14c-0.552 0-1-0.448-1-1s0.448-1 1-1h14c0.552 0 1 0.448 1 1s-0.448 1-1 1z\"></path>\n<path d=\"M23 22h-14c-0.552 0-1-0.448-1-1s0.448-1 1-1h14c0.552 0 1 0.448 1 1s-0.448 1-1 1z\"></path>\n<path d=\"M23 18h-14c-0.552 0-1-0.448-1-1s0.448-1 1-1h14c0.552 0 1 0.448 1 1s-0.448 1-1 1z\"></path>\n</symbol>\n</defs>\n</svg>\n<style>/* CSS stylesheet for displaying xarray objects in jupyterlab.\n *\n */\n\n:root {\n  --xr-font-color0: var(--jp-content-font-color0, rgba(0, 0, 0, 1));\n  --xr-font-color2: var(--jp-content-font-color2, rgba(0, 0, 0, 0.54));\n  --xr-font-color3: var(--jp-content-font-color3, rgba(0, 0, 0, 0.38));\n  --xr-border-color: var(--jp-border-color2, #e0e0e0);\n  --xr-disabled-color: var(--jp-layout-color3, #bdbdbd);\n  --xr-background-color: var(--jp-layout-color0, white);\n  --xr-background-color-row-even: var(--jp-layout-color1, white);\n  --xr-background-color-row-odd: var(--jp-layout-color2, #eeeeee);\n}\n\nhtml[theme=dark],\nbody.vscode-dark {\n  --xr-font-color0: rgba(255, 255, 255, 1);\n  --xr-font-color2: rgba(255, 255, 255, 0.54);\n  --xr-font-color3: rgba(255, 255, 255, 0.38);\n  --xr-border-color: #1F1F1F;\n  --xr-disabled-color: #515151;\n  --xr-background-color: #111111;\n  --xr-background-color-row-even: #111111;\n  --xr-background-color-row-odd: #313131;\n}\n\n.xr-wrap {\n  display: block;\n  min-width: 300px;\n  max-width: 700px;\n}\n\n.xr-text-repr-fallback {\n  /* fallback to plain text repr when CSS is not injected (untrusted notebook) */\n  display: none;\n}\n\n.xr-header {\n  padding-top: 6px;\n  padding-bottom: 6px;\n  margin-bottom: 4px;\n  border-bottom: solid 1px var(--xr-border-color);\n}\n\n.xr-header > div,\n.xr-header > ul {\n  display: inline;\n  margin-top: 0;\n  margin-bottom: 0;\n}\n\n.xr-obj-type,\n.xr-array-name {\n  margin-left: 2px;\n  margin-right: 10px;\n}\n\n.xr-obj-type {\n  color: var(--xr-font-color2);\n}\n\n.xr-sections {\n  padding-left: 0 !important;\n  display: grid;\n  grid-template-columns: 150px auto auto 1fr 20px 20px;\n}\n\n.xr-section-item {\n  display: contents;\n}\n\n.xr-section-item input {\n  display: none;\n}\n\n.xr-section-item input + label {\n  color: var(--xr-disabled-color);\n}\n\n.xr-section-item input:enabled + label {\n  cursor: pointer;\n  color: var(--xr-font-color2);\n}\n\n.xr-section-item input:enabled + label:hover {\n  color: var(--xr-font-color0);\n}\n\n.xr-section-summary {\n  grid-column: 1;\n  color: var(--xr-font-color2);\n  font-weight: 500;\n}\n\n.xr-section-summary > span {\n  display: inline-block;\n  padding-left: 0.5em;\n}\n\n.xr-section-summary-in:disabled + label {\n  color: var(--xr-font-color2);\n}\n\n.xr-section-summary-in + label:before {\n  display: inline-block;\n  content: '►';\n  font-size: 11px;\n  width: 15px;\n  text-align: center;\n}\n\n.xr-section-summary-in:disabled + label:before {\n  color: var(--xr-disabled-color);\n}\n\n.xr-section-summary-in:checked + label:before {\n  content: '▼';\n}\n\n.xr-section-summary-in:checked + label > span {\n  display: none;\n}\n\n.xr-section-summary,\n.xr-section-inline-details {\n  padding-top: 4px;\n  padding-bottom: 4px;\n}\n\n.xr-section-inline-details {\n  grid-column: 2 / -1;\n}\n\n.xr-section-details {\n  display: none;\n  grid-column: 1 / -1;\n  margin-bottom: 5px;\n}\n\n.xr-section-summary-in:checked ~ .xr-section-details {\n  display: contents;\n}\n\n.xr-array-wrap {\n  grid-column: 1 / -1;\n  display: grid;\n  grid-template-columns: 20px auto;\n}\n\n.xr-array-wrap > label {\n  grid-column: 1;\n  vertical-align: top;\n}\n\n.xr-preview {\n  color: var(--xr-font-color3);\n}\n\n.xr-array-preview,\n.xr-array-data {\n  padding: 0 5px !important;\n  grid-column: 2;\n}\n\n.xr-array-data,\n.xr-array-in:checked ~ .xr-array-preview {\n  display: none;\n}\n\n.xr-array-in:checked ~ .xr-array-data,\n.xr-array-preview {\n  display: inline-block;\n}\n\n.xr-dim-list {\n  display: inline-block !important;\n  list-style: none;\n  padding: 0 !important;\n  margin: 0;\n}\n\n.xr-dim-list li {\n  display: inline-block;\n  padding: 0;\n  margin: 0;\n}\n\n.xr-dim-list:before {\n  content: '(';\n}\n\n.xr-dim-list:after {\n  content: ')';\n}\n\n.xr-dim-list li:not(:last-child):after {\n  content: ',';\n  padding-right: 5px;\n}\n\n.xr-has-index {\n  font-weight: bold;\n}\n\n.xr-var-list,\n.xr-var-item {\n  display: contents;\n}\n\n.xr-var-item > div,\n.xr-var-item label,\n.xr-var-item > .xr-var-name span {\n  background-color: var(--xr-background-color-row-even);\n  margin-bottom: 0;\n}\n\n.xr-var-item > .xr-var-name:hover span {\n  padding-right: 5px;\n}\n\n.xr-var-list > li:nth-child(odd) > div,\n.xr-var-list > li:nth-child(odd) > label,\n.xr-var-list > li:nth-child(odd) > .xr-var-name span {\n  background-color: var(--xr-background-color-row-odd);\n}\n\n.xr-var-name {\n  grid-column: 1;\n}\n\n.xr-var-dims {\n  grid-column: 2;\n}\n\n.xr-var-dtype {\n  grid-column: 3;\n  text-align: right;\n  color: var(--xr-font-color2);\n}\n\n.xr-var-preview {\n  grid-column: 4;\n}\n\n.xr-var-name,\n.xr-var-dims,\n.xr-var-dtype,\n.xr-preview,\n.xr-attrs dt {\n  white-space: nowrap;\n  overflow: hidden;\n  text-overflow: ellipsis;\n  padding-right: 10px;\n}\n\n.xr-var-name:hover,\n.xr-var-dims:hover,\n.xr-var-dtype:hover,\n.xr-attrs dt:hover {\n  overflow: visible;\n  width: auto;\n  z-index: 1;\n}\n\n.xr-var-attrs,\n.xr-var-data {\n  display: none;\n  background-color: var(--xr-background-color) !important;\n  padding-bottom: 5px !important;\n}\n\n.xr-var-attrs-in:checked ~ .xr-var-attrs,\n.xr-var-data-in:checked ~ .xr-var-data {\n  display: block;\n}\n\n.xr-var-data > table {\n  float: right;\n}\n\n.xr-var-name span,\n.xr-var-data,\n.xr-attrs {\n  padding-left: 25px !important;\n}\n\n.xr-attrs,\n.xr-var-attrs,\n.xr-var-data {\n  grid-column: 1 / -1;\n}\n\ndl.xr-attrs {\n  padding: 0;\n  margin: 0;\n  display: grid;\n  grid-template-columns: 125px auto;\n}\n\n.xr-attrs dt, dd {\n  padding: 0;\n  margin: 0;\n  float: left;\n  padding-right: 10px;\n  width: auto;\n}\n\n.xr-attrs dt {\n  font-weight: normal;\n  grid-column: 1;\n}\n\n.xr-attrs dt:hover span {\n  display: inline-block;\n  background: var(--xr-background-color);\n  padding-right: 10px;\n}\n\n.xr-attrs dd {\n  grid-column: 2;\n  white-space: pre-wrap;\n  word-break: break-all;\n}\n\n.xr-icon-database,\n.xr-icon-file-text2 {\n  display: inline-block;\n  vertical-align: middle;\n  width: 1em;\n  height: 1.5em !important;\n  stroke-width: 0;\n  stroke: currentColor;\n  fill: currentColor;\n}\n</style><pre class='xr-text-repr-fallback'>&lt;xarray.Dataset&gt;\nDimensions:    (depth: 50, latitude: 46, longitude: 167, time: 6)\nCoordinates:\n  * depth      (depth) float32 0.494025 1.541375 2.645669 ... 5274.784 5727.917\n  * latitude   (latitude) float32 42.944443 42.97222 ... 44.166668 44.194443\n  * time       (time) datetime64[ns] 2020-11-18T12:00:00 ... 2020-11-23T12:00:00\n  * longitude  (longitude) float32 -5.611111 -5.5833335 ... -1.0277778 -1.0\nData variables:\n    thetao     (time, depth, latitude, longitude) float32 dask.array&lt;chunksize=(6, 50, 46, 167), meta=np.ndarray&gt;\n    so         (time, depth, latitude, longitude) float32 dask.array&lt;chunksize=(6, 50, 46, 167), meta=np.ndarray&gt;\nAttributes:\n    CDI:                                    Climate Data Interface version 1....\n    Conventions:                            CF-1.0\n    source:                                 IBI-MFC (PdE Production Center)\n    institution:                            Puertos del Estado (PdE)\n    title:                                  Ocean 3D daily mean fields for th...\n    easting:                                longitude\n    northing:                               latitude\n    references:                             http://marine.copernicus.eu/\n    domain_name:                            IBI36\n    FROM_ORIGINAL_FILE__field_type:         mean\n    field_date:                             20201123\n    field_julian_date:                      25894.f\n    comment:                                Class1 metrics\n    julian_day_unit:                        Hours since 1950-01-01 00:00:00\n    forecast_range:                         05-day_forecast\n    forecast_type:                          forecast\n    bulletin_date:                          2020-11-19\n    bulletin_type:                          Operational\n    FROM_ORIGINAL_FILE__longitude_min:      -19.0f\n    FROM_ORIGINAL_FILE__longitude_max:      5.000736f\n    FROM_ORIGINAL_FILE__latitude_min:       26.0f\n    FROM_ORIGINAL_FILE__latitude_max:       56.00092f\n    z_min:                                  0.49402f\n    z_max:                                  5727.917f\n    contact:                                mailto: servicedesk.cmems@mercato...\n    FROM_ORIGINAL_FILE__netcdf_version_id:  4.4.3\n    CDO:                                    Climate Data Operators version 1....\n    _CoordSysBuilder:                       ucar.nc2.dataset.conv.CF1Convention\n    history:                                Data extracted from dataset http:...</pre><div class='xr-wrap' hidden><div class='xr-header'><div class='xr-obj-type'>xarray.Dataset</div></div><ul class='xr-sections'><li class='xr-section-item'><input id='section-96855d55-c714-4839-88d4-70682038307f' class='xr-section-summary-in' type='checkbox' disabled ><label for='section-96855d55-c714-4839-88d4-70682038307f' class='xr-section-summary'  title='Expand/collapse section'>Dimensions:</label><div class='xr-section-inline-details'><ul class='xr-dim-list'><li><span class='xr-has-index'>depth</span>: 50</li><li><span class='xr-has-index'>latitude</span>: 46</li><li><span class='xr-has-index'>longitude</span>: 167</li><li><span class='xr-has-index'>time</span>: 6</li></ul></div><div class='xr-section-details'></div></li><li class='xr-section-item'><input id='section-113ce6d4-c73f-4118-b2b9-72004b7a4269' class='xr-section-summary-in' type='checkbox'  checked><label for='section-113ce6d4-c73f-4118-b2b9-72004b7a4269' class='xr-section-summary' >Coordinates: <span>(4)</span></label><div class='xr-section-inline-details'></div><div class='xr-section-details'><ul class='xr-var-list'><li class='xr-var-item'><div class='xr-var-name'><span class='xr-has-index'>depth</span></div><div class='xr-var-dims'>(depth)</div><div class='xr-var-dtype'>float32</div><div class='xr-var-preview xr-preview'>0.494025 1.541375 ... 5727.917</div><input id='attrs-08453b53-c5cd-4543-bd9e-04654e304787' class='xr-var-attrs-in' type='checkbox' ><label for='attrs-08453b53-c5cd-4543-bd9e-04654e304787' title='Show/Hide attributes'><svg class='icon xr-icon-file-text2'><use xlink:href='#icon-file-text2'></use></svg></label><input id='data-e13b6ad9-393f-4b09-811f-ffe9c28aff62' class='xr-var-data-in' type='checkbox'><label for='data-e13b6ad9-393f-4b09-811f-ffe9c28aff62' title='Show/Hide data repr'><svg class='icon xr-icon-database'><use xlink:href='#icon-database'></use></svg></label><div class='xr-var-attrs'><dl class='xr-attrs'><dt><span>long_name :</span></dt><dd>Depth</dd><dt><span>units :</span></dt><dd>m</dd><dt><span>axis :</span></dt><dd>Z</dd><dt><span>valid_min :</span></dt><dd>0.494025</dd><dt><span>valid_max :</span></dt><dd>5727.917</dd><dt><span>positive :</span></dt><dd>down</dd><dt><span>unit_long :</span></dt><dd>Meters</dd><dt><span>standard_name :</span></dt><dd>depth</dd><dt><span>_CoordinateAxisType :</span></dt><dd>Height</dd><dt><span>_CoordinateZisPositive :</span></dt><dd>down</dd></dl></div><div class='xr-var-data'><pre>array([4.940250e-01, 1.541375e+00, 2.645669e+00, 3.819495e+00, 5.078224e+00,\n       6.440614e+00, 7.929560e+00, 9.572997e+00, 1.140500e+01, 1.346714e+01,\n       1.581007e+01, 1.849556e+01, 2.159882e+01, 2.521141e+01, 2.944473e+01,\n       3.443415e+01, 4.034405e+01, 4.737369e+01, 5.576429e+01, 6.580727e+01,\n       7.785385e+01, 9.232607e+01, 1.097293e+02, 1.306660e+02, 1.558507e+02,\n       1.861256e+02, 2.224752e+02, 2.660403e+02, 3.181274e+02, 3.802130e+02,\n       4.539377e+02, 5.410889e+02, 6.435668e+02, 7.633331e+02, 9.023393e+02,\n       1.062440e+03, 1.245291e+03, 1.452251e+03, 1.684284e+03, 1.941893e+03,\n       2.225078e+03, 2.533336e+03, 2.865703e+03, 3.220820e+03, 3.597032e+03,\n       3.992484e+03, 4.405224e+03, 4.833291e+03, 5.274784e+03, 5.727917e+03],\n      dtype=float32)</pre></div></li><li class='xr-var-item'><div class='xr-var-name'><span class='xr-has-index'>latitude</span></div><div class='xr-var-dims'>(latitude)</div><div class='xr-var-dtype'>float32</div><div class='xr-var-preview xr-preview'>42.944443 42.97222 ... 44.194443</div><input id='attrs-061df84b-e498-400e-9872-f7bb7c486f3f' class='xr-var-attrs-in' type='checkbox' ><label for='attrs-061df84b-e498-400e-9872-f7bb7c486f3f' title='Show/Hide attributes'><svg class='icon xr-icon-file-text2'><use xlink:href='#icon-file-text2'></use></svg></label><input id='data-1634c7d7-e52d-4280-9662-55669ff2d561' class='xr-var-data-in' type='checkbox'><label for='data-1634c7d7-e52d-4280-9662-55669ff2d561' title='Show/Hide data repr'><svg class='icon xr-icon-database'><use xlink:href='#icon-database'></use></svg></label><div class='xr-var-attrs'><dl class='xr-attrs'><dt><span>standard_name :</span></dt><dd>latitude</dd><dt><span>long_name :</span></dt><dd>Latitude</dd><dt><span>units :</span></dt><dd>degrees_north</dd><dt><span>axis :</span></dt><dd>Y</dd><dt><span>unit_long :</span></dt><dd>Degrees North</dd><dt><span>step :</span></dt><dd>0.02777863f</dd><dt><span>valid_max :</span></dt><dd>44.194443</dd><dt><span>valid_min :</span></dt><dd>42.944443</dd><dt><span>_CoordinateAxisType :</span></dt><dd>Lat</dd></dl></div><div class='xr-var-data'><pre>array([42.944443, 42.97222 , 43.      , 43.02778 , 43.055557, 43.083332,\n       43.11111 , 43.13889 , 43.166668, 43.194443, 43.22222 , 43.25    ,\n       43.27778 , 43.305557, 43.333332, 43.36111 , 43.38889 , 43.416668,\n       43.444443, 43.47222 , 43.5     , 43.52778 , 43.555557, 43.583332,\n       43.61111 , 43.63889 , 43.666668, 43.694443, 43.72222 , 43.75    ,\n       43.77778 , 43.805557, 43.833332, 43.86111 , 43.88889 , 43.916668,\n       43.944443, 43.97222 , 44.      , 44.02778 , 44.055557, 44.083332,\n       44.11111 , 44.13889 , 44.166668, 44.194443], dtype=float32)</pre></div></li><li class='xr-var-item'><div class='xr-var-name'><span class='xr-has-index'>time</span></div><div class='xr-var-dims'>(time)</div><div class='xr-var-dtype'>datetime64[ns]</div><div class='xr-var-preview xr-preview'>2020-11-18T12:00:00 ... 2020-11-...</div><input id='attrs-3ef873ec-a4a5-449a-b9c6-46dd6dc227ff' class='xr-var-attrs-in' type='checkbox' ><label for='attrs-3ef873ec-a4a5-449a-b9c6-46dd6dc227ff' title='Show/Hide attributes'><svg class='icon xr-icon-file-text2'><use xlink:href='#icon-file-text2'></use></svg></label><input id='data-a1a45cac-1680-434b-a8f6-c36db33de2f1' class='xr-var-data-in' type='checkbox'><label for='data-a1a45cac-1680-434b-a8f6-c36db33de2f1' title='Show/Hide data repr'><svg class='icon xr-icon-database'><use xlink:href='#icon-database'></use></svg></label><div class='xr-var-attrs'><dl class='xr-attrs'><dt><span>axis :</span></dt><dd>T</dd><dt><span>standard_name :</span></dt><dd>time</dd><dt><span>long_name :</span></dt><dd>time</dd><dt><span>_CoordinateAxisType :</span></dt><dd>Time</dd><dt><span>valid_min :</span></dt><dd>621348.0</dd><dt><span>valid_max :</span></dt><dd>621468.0</dd></dl></div><div class='xr-var-data'><pre>array([&#x27;2020-11-18T12:00:00.000000000&#x27;, &#x27;2020-11-19T12:00:00.000000000&#x27;,\n       &#x27;2020-11-20T12:00:00.000000000&#x27;, &#x27;2020-11-21T12:00:00.000000000&#x27;,\n       &#x27;2020-11-22T12:00:00.000000000&#x27;, &#x27;2020-11-23T12:00:00.000000000&#x27;],\n      dtype=&#x27;datetime64[ns]&#x27;)</pre></div></li><li class='xr-var-item'><div class='xr-var-name'><span class='xr-has-index'>longitude</span></div><div class='xr-var-dims'>(longitude)</div><div class='xr-var-dtype'>float32</div><div class='xr-var-preview xr-preview'>-5.611111 -5.5833335 ... -1.0</div><input id='attrs-e3886bf3-2be7-4330-a5a6-aa4e02e5fdc7' class='xr-var-attrs-in' type='checkbox' ><label for='attrs-e3886bf3-2be7-4330-a5a6-aa4e02e5fdc7' title='Show/Hide attributes'><svg class='icon xr-icon-file-text2'><use xlink:href='#icon-file-text2'></use></svg></label><input id='data-556b1874-ad83-4bf3-a05a-2e25e4f75804' class='xr-var-data-in' type='checkbox'><label for='data-556b1874-ad83-4bf3-a05a-2e25e4f75804' title='Show/Hide data repr'><svg class='icon xr-icon-database'><use xlink:href='#icon-database'></use></svg></label><div class='xr-var-attrs'><dl class='xr-attrs'><dt><span>standard_name :</span></dt><dd>longitude</dd><dt><span>long_name :</span></dt><dd>Longitude</dd><dt><span>units :</span></dt><dd>degrees_east</dd><dt><span>axis :</span></dt><dd>X</dd><dt><span>unit_long :</span></dt><dd>Degrees East</dd><dt><span>step :</span></dt><dd>0.02777863f</dd><dt><span>valid_max :</span></dt><dd>-1.0</dd><dt><span>valid_min :</span></dt><dd>-5.611111</dd><dt><span>_CoordinateAxisType :</span></dt><dd>Lon</dd></dl></div><div class='xr-var-data'><pre>array([-5.611111, -5.583333, -5.555555, -5.527778, -5.5     , -5.472222,\n       -5.444445, -5.416667, -5.388889, -5.361111, -5.333333, -5.305555,\n       -5.277778, -5.25    , -5.222222, -5.194445, -5.166667, -5.138889,\n       -5.111111, -5.083333, -5.055555, -5.027778, -5.      , -4.972222,\n       -4.944445, -4.916667, -4.888889, -4.861111, -4.833333, -4.805555,\n       -4.777778, -4.75    , -4.722222, -4.694445, -4.666667, -4.638889,\n       -4.611111, -4.583333, -4.555555, -4.527778, -4.5     , -4.472222,\n       -4.444445, -4.416667, -4.388889, -4.361111, -4.333333, -4.305555,\n       -4.277778, -4.25    , -4.222222, -4.194445, -4.166667, -4.138889,\n       -4.111111, -4.083333, -4.055555, -4.027778, -4.      , -3.972222,\n       -3.944444, -3.916667, -3.888889, -3.861111, -3.833333, -3.805556,\n       -3.777778, -3.75    , -3.722222, -3.694444, -3.666667, -3.638889,\n       -3.611111, -3.583333, -3.555556, -3.527778, -3.5     , -3.472222,\n       -3.444444, -3.416667, -3.388889, -3.361111, -3.333333, -3.305556,\n       -3.277778, -3.25    , -3.222222, -3.194444, -3.166667, -3.138889,\n       -3.111111, -3.083333, -3.055556, -3.027778, -3.      , -2.972222,\n       -2.944444, -2.916667, -2.888889, -2.861111, -2.833333, -2.805556,\n       -2.777778, -2.75    , -2.722222, -2.694444, -2.666667, -2.638889,\n       -2.611111, -2.583333, -2.555556, -2.527778, -2.5     , -2.472222,\n       -2.444444, -2.416667, -2.388889, -2.361111, -2.333333, -2.305556,\n       -2.277778, -2.25    , -2.222222, -2.194444, -2.166667, -2.138889,\n       -2.111111, -2.083333, -2.055556, -2.027778, -2.      , -1.972222,\n       -1.944444, -1.916667, -1.888889, -1.861111, -1.833333, -1.805556,\n       -1.777778, -1.75    , -1.722222, -1.694444, -1.666667, -1.638889,\n       -1.611111, -1.583333, -1.555556, -1.527778, -1.5     , -1.472222,\n       -1.444444, -1.416667, -1.388889, -1.361111, -1.333333, -1.305556,\n       -1.277778, -1.25    , -1.222222, -1.194444, -1.166667, -1.138889,\n       -1.111111, -1.083333, -1.055556, -1.027778, -1.      ], dtype=float32)</pre></div></li></ul></div></li><li class='xr-section-item'><input id='section-47ea0ff3-2ac7-4444-a547-93472544509e' class='xr-section-summary-in' type='checkbox'  checked><label for='section-47ea0ff3-2ac7-4444-a547-93472544509e' class='xr-section-summary' >Data variables: <span>(2)</span></label><div class='xr-section-inline-details'></div><div class='xr-section-details'><ul class='xr-var-list'><li class='xr-var-item'><div class='xr-var-name'><span>thetao</span></div><div class='xr-var-dims'>(time, depth, latitude, longitude)</div><div class='xr-var-dtype'>float32</div><div class='xr-var-preview xr-preview'>dask.array&lt;chunksize=(6, 50, 46, 167), meta=np.ndarray&gt;</div><input id='attrs-9466583e-973a-445d-a68d-136c0a7537f4' class='xr-var-attrs-in' type='checkbox' ><label for='attrs-9466583e-973a-445d-a68d-136c0a7537f4' title='Show/Hide attributes'><svg class='icon xr-icon-file-text2'><use xlink:href='#icon-file-text2'></use></svg></label><input id='data-9fc3388f-670c-4d14-8578-4fe6ea831fdb' class='xr-var-data-in' type='checkbox'><label for='data-9fc3388f-670c-4d14-8578-4fe6ea831fdb' title='Show/Hide data repr'><svg class='icon xr-icon-database'><use xlink:href='#icon-database'></use></svg></label><div class='xr-var-attrs'><dl class='xr-attrs'><dt><span>standard_name :</span></dt><dd>sea_water_potential_temperature</dd><dt><span>long_name :</span></dt><dd>Temperature</dd><dt><span>units :</span></dt><dd>degrees_C</dd><dt><span>unit_long :</span></dt><dd>degrees_C</dd><dt><span>thetao :</span></dt><dd>thetao</dd></dl></div><div class='xr-var-data'><table>\n<tr>\n<td>\n<table>\n  <thead>\n    <tr><td> </td><th> Array </th><th> Chunk </th></tr>\n  </thead>\n  <tbody>\n    <tr><th> Bytes </th><td> 9.22 MB </td> <td> 9.22 MB </td></tr>\n    <tr><th> Shape </th><td> (6, 50, 46, 167) </td> <td> (6, 50, 46, 167) </td></tr>\n    <tr><th> Count </th><td> 2 Tasks </td><td> 1 Chunks </td></tr>\n    <tr><th> Type </th><td> float32 </td><td> numpy.ndarray </td></tr>\n  </tbody>\n</table>\n</td>\n<td>\n<svg width=\"399\" height=\"118\" style=\"stroke:rgb(0,0,0);stroke-width:1\" >\n\n  <!-- Horizontal lines -->\n  <line x1=\"0\" y1=\"0\" x2=\"32\" y2=\"0\" style=\"stroke-width:2\" />\n  <line x1=\"0\" y1=\"25\" x2=\"32\" y2=\"25\" style=\"stroke-width:2\" />\n\n  <!-- Vertical lines -->\n  <line x1=\"0\" y1=\"0\" x2=\"0\" y2=\"25\" style=\"stroke-width:2\" />\n  <line x1=\"32\" y1=\"0\" x2=\"32\" y2=\"25\" style=\"stroke-width:2\" />\n\n  <!-- Colored Rectangle -->\n  <polygon points=\"0.0,0.0 32.47899291713778,0.0 32.47899291713778,25.412616514582485 0.0,25.412616514582485\" style=\"fill:#ECB172A0;stroke-width:0\"/>\n\n  <!-- Text -->\n  <text x=\"16.239496\" y=\"45.412617\" font-size=\"1.0rem\" font-weight=\"100\" text-anchor=\"middle\" >6</text>\n  <text x=\"52.478993\" y=\"12.706308\" font-size=\"1.0rem\" font-weight=\"100\" text-anchor=\"middle\" transform=\"rotate(0,52.478993,12.706308)\">1</text>\n\n\n  <!-- Horizontal lines -->\n  <line x1=\"102\" y1=\"0\" x2=\"127\" y2=\"25\" style=\"stroke-width:2\" />\n  <line x1=\"102\" y1=\"43\" x2=\"127\" y2=\"68\" style=\"stroke-width:2\" />\n\n  <!-- Vertical lines -->\n  <line x1=\"102\" y1=\"0\" x2=\"102\" y2=\"43\" style=\"stroke-width:2\" />\n  <line x1=\"127\" y1=\"25\" x2=\"127\" y2=\"68\" style=\"stroke-width:2\" />\n\n  <!-- Colored Rectangle -->\n  <polygon points=\"102.0,0.0 127.61065997304351,25.610659973043514 127.61065997304351,68.8618662806532 102.0,43.25120630760969\" style=\"fill:#ECB172A0;stroke-width:0\"/>\n\n  <!-- Horizontal lines -->\n  <line x1=\"102\" y1=\"0\" x2=\"222\" y2=\"0\" style=\"stroke-width:2\" />\n  <line x1=\"127\" y1=\"25\" x2=\"247\" y2=\"25\" style=\"stroke-width:2\" />\n\n  <!-- Vertical lines -->\n  <line x1=\"102\" y1=\"0\" x2=\"127\" y2=\"25\" style=\"stroke-width:2\" />\n  <line x1=\"222\" y1=\"0\" x2=\"247\" y2=\"25\" style=\"stroke-width:2\" />\n\n  <!-- Colored Rectangle -->\n  <polygon points=\"102.0,0.0 222.0,0.0 247.6106599730435,25.610659973043514 127.61065997304351,25.610659973043514\" style=\"fill:#ECB172A0;stroke-width:0\"/>\n\n  <!-- Horizontal lines -->\n  <line x1=\"127\" y1=\"25\" x2=\"247\" y2=\"25\" style=\"stroke-width:2\" />\n  <line x1=\"127\" y1=\"68\" x2=\"247\" y2=\"68\" style=\"stroke-width:2\" />\n\n  <!-- Vertical lines -->\n  <line x1=\"127\" y1=\"25\" x2=\"127\" y2=\"68\" style=\"stroke-width:2\" />\n  <line x1=\"247\" y1=\"25\" x2=\"247\" y2=\"68\" style=\"stroke-width:2\" />\n\n  <!-- Colored Rectangle -->\n  <polygon points=\"127.61065997304351,25.610659973043514 247.6106599730435,25.610659973043514 247.6106599730435,68.8618662806532 127.61065997304351,68.8618662806532\" style=\"fill:#ECB172A0;stroke-width:0\"/>\n\n  <!-- Text -->\n  <text x=\"187.610660\" y=\"88.861866\" font-size=\"1.0rem\" font-weight=\"100\" text-anchor=\"middle\" >167</text>\n  <text x=\"267.610660\" y=\"47.236263\" font-size=\"1.0rem\" font-weight=\"100\" text-anchor=\"middle\" transform=\"rotate(0,267.610660,47.236263)\">46</text>\n  <text x=\"104.805330\" y=\"76.056536\" font-size=\"1.0rem\" font-weight=\"100\" text-anchor=\"middle\" transform=\"rotate(45,104.805330,76.056536)\">50</text>\n</svg>\n</td>\n</tr>\n</table></div></li><li class='xr-var-item'><div class='xr-var-name'><span>so</span></div><div class='xr-var-dims'>(time, depth, latitude, longitude)</div><div class='xr-var-dtype'>float32</div><div class='xr-var-preview xr-preview'>dask.array&lt;chunksize=(6, 50, 46, 167), meta=np.ndarray&gt;</div><input id='attrs-9e50c2ec-365c-4556-9a1b-5db53ffab382' class='xr-var-attrs-in' type='checkbox' ><label for='attrs-9e50c2ec-365c-4556-9a1b-5db53ffab382' title='Show/Hide attributes'><svg class='icon xr-icon-file-text2'><use xlink:href='#icon-file-text2'></use></svg></label><input id='data-5b27d2c6-8d70-47c0-b605-9ec8a9437af2' class='xr-var-data-in' type='checkbox'><label for='data-5b27d2c6-8d70-47c0-b605-9ec8a9437af2' title='Show/Hide data repr'><svg class='icon xr-icon-database'><use xlink:href='#icon-database'></use></svg></label><div class='xr-var-attrs'><dl class='xr-attrs'><dt><span>standard_name :</span></dt><dd>sea_water_salinity</dd><dt><span>long_name :</span></dt><dd>Salinity</dd><dt><span>units :</span></dt><dd>1e-3</dd><dt><span>unit_long :</span></dt><dd>Practical Salinity Unit</dd><dt><span>so :</span></dt><dd>so</dd></dl></div><div class='xr-var-data'><table>\n<tr>\n<td>\n<table>\n  <thead>\n    <tr><td> </td><th> Array </th><th> Chunk </th></tr>\n  </thead>\n  <tbody>\n    <tr><th> Bytes </th><td> 9.22 MB </td> <td> 9.22 MB </td></tr>\n    <tr><th> Shape </th><td> (6, 50, 46, 167) </td> <td> (6, 50, 46, 167) </td></tr>\n    <tr><th> Count </th><td> 2 Tasks </td><td> 1 Chunks </td></tr>\n    <tr><th> Type </th><td> float32 </td><td> numpy.ndarray </td></tr>\n  </tbody>\n</table>\n</td>\n<td>\n<svg width=\"399\" height=\"118\" style=\"stroke:rgb(0,0,0);stroke-width:1\" >\n\n  <!-- Horizontal lines -->\n  <line x1=\"0\" y1=\"0\" x2=\"32\" y2=\"0\" style=\"stroke-width:2\" />\n  <line x1=\"0\" y1=\"25\" x2=\"32\" y2=\"25\" style=\"stroke-width:2\" />\n\n  <!-- Vertical lines -->\n  <line x1=\"0\" y1=\"0\" x2=\"0\" y2=\"25\" style=\"stroke-width:2\" />\n  <line x1=\"32\" y1=\"0\" x2=\"32\" y2=\"25\" style=\"stroke-width:2\" />\n\n  <!-- Colored Rectangle -->\n  <polygon points=\"0.0,0.0 32.47899291713778,0.0 32.47899291713778,25.412616514582485 0.0,25.412616514582485\" style=\"fill:#ECB172A0;stroke-width:0\"/>\n\n  <!-- Text -->\n  <text x=\"16.239496\" y=\"45.412617\" font-size=\"1.0rem\" font-weight=\"100\" text-anchor=\"middle\" >6</text>\n  <text x=\"52.478993\" y=\"12.706308\" font-size=\"1.0rem\" font-weight=\"100\" text-anchor=\"middle\" transform=\"rotate(0,52.478993,12.706308)\">1</text>\n\n\n  <!-- Horizontal lines -->\n  <line x1=\"102\" y1=\"0\" x2=\"127\" y2=\"25\" style=\"stroke-width:2\" />\n  <line x1=\"102\" y1=\"43\" x2=\"127\" y2=\"68\" style=\"stroke-width:2\" />\n\n  <!-- Vertical lines -->\n  <line x1=\"102\" y1=\"0\" x2=\"102\" y2=\"43\" style=\"stroke-width:2\" />\n  <line x1=\"127\" y1=\"25\" x2=\"127\" y2=\"68\" style=\"stroke-width:2\" />\n\n  <!-- Colored Rectangle -->\n  <polygon points=\"102.0,0.0 127.61065997304351,25.610659973043514 127.61065997304351,68.8618662806532 102.0,43.25120630760969\" style=\"fill:#ECB172A0;stroke-width:0\"/>\n\n  <!-- Horizontal lines -->\n  <line x1=\"102\" y1=\"0\" x2=\"222\" y2=\"0\" style=\"stroke-width:2\" />\n  <line x1=\"127\" y1=\"25\" x2=\"247\" y2=\"25\" style=\"stroke-width:2\" />\n\n  <!-- Vertical lines -->\n  <line x1=\"102\" y1=\"0\" x2=\"127\" y2=\"25\" style=\"stroke-width:2\" />\n  <line x1=\"222\" y1=\"0\" x2=\"247\" y2=\"25\" style=\"stroke-width:2\" />\n\n  <!-- Colored Rectangle -->\n  <polygon points=\"102.0,0.0 222.0,0.0 247.6106599730435,25.610659973043514 127.61065997304351,25.610659973043514\" style=\"fill:#ECB172A0;stroke-width:0\"/>\n\n  <!-- Horizontal lines -->\n  <line x1=\"127\" y1=\"25\" x2=\"247\" y2=\"25\" style=\"stroke-width:2\" />\n  <line x1=\"127\" y1=\"68\" x2=\"247\" y2=\"68\" style=\"stroke-width:2\" />\n\n  <!-- Vertical lines -->\n  <line x1=\"127\" y1=\"25\" x2=\"127\" y2=\"68\" style=\"stroke-width:2\" />\n  <line x1=\"247\" y1=\"25\" x2=\"247\" y2=\"68\" style=\"stroke-width:2\" />\n\n  <!-- Colored Rectangle -->\n  <polygon points=\"127.61065997304351,25.610659973043514 247.6106599730435,25.610659973043514 247.6106599730435,68.8618662806532 127.61065997304351,68.8618662806532\" style=\"fill:#ECB172A0;stroke-width:0\"/>\n\n  <!-- Text -->\n  <text x=\"187.610660\" y=\"88.861866\" font-size=\"1.0rem\" font-weight=\"100\" text-anchor=\"middle\" >167</text>\n  <text x=\"267.610660\" y=\"47.236263\" font-size=\"1.0rem\" font-weight=\"100\" text-anchor=\"middle\" transform=\"rotate(0,267.610660,47.236263)\">46</text>\n  <text x=\"104.805330\" y=\"76.056536\" font-size=\"1.0rem\" font-weight=\"100\" text-anchor=\"middle\" transform=\"rotate(45,104.805330,76.056536)\">50</text>\n</svg>\n</td>\n</tr>\n</table></div></li></ul></div></li><li class='xr-section-item'><input id='section-adef0734-b1ea-4bb8-946c-412a96d790c2' class='xr-section-summary-in' type='checkbox'  ><label for='section-adef0734-b1ea-4bb8-946c-412a96d790c2' class='xr-section-summary' >Attributes: <span>(29)</span></label><div class='xr-section-inline-details'></div><div class='xr-section-details'><dl class='xr-attrs'><dt><span>CDI :</span></dt><dd>Climate Data Interface version 1.7.2 (http://mpimet.mpg.de/cdi)</dd><dt><span>Conventions :</span></dt><dd>CF-1.0</dd><dt><span>source :</span></dt><dd>IBI-MFC (PdE Production Center)</dd><dt><span>institution :</span></dt><dd>Puertos del Estado (PdE)</dd><dt><span>title :</span></dt><dd>Ocean 3D daily mean fields for the Iberia-Biscay-Ireland (IBI) region</dd><dt><span>easting :</span></dt><dd>longitude</dd><dt><span>northing :</span></dt><dd>latitude</dd><dt><span>references :</span></dt><dd>http://marine.copernicus.eu/</dd><dt><span>domain_name :</span></dt><dd>IBI36</dd><dt><span>FROM_ORIGINAL_FILE__field_type :</span></dt><dd>mean</dd><dt><span>field_date :</span></dt><dd>20201123</dd><dt><span>field_julian_date :</span></dt><dd>25894.f</dd><dt><span>comment :</span></dt><dd>Class1 metrics</dd><dt><span>julian_day_unit :</span></dt><dd>Hours since 1950-01-01 00:00:00</dd><dt><span>forecast_range :</span></dt><dd>05-day_forecast</dd><dt><span>forecast_type :</span></dt><dd>forecast</dd><dt><span>bulletin_date :</span></dt><dd>2020-11-19</dd><dt><span>bulletin_type :</span></dt><dd>Operational</dd><dt><span>FROM_ORIGINAL_FILE__longitude_min :</span></dt><dd>-19.0f</dd><dt><span>FROM_ORIGINAL_FILE__longitude_max :</span></dt><dd>5.000736f</dd><dt><span>FROM_ORIGINAL_FILE__latitude_min :</span></dt><dd>26.0f</dd><dt><span>FROM_ORIGINAL_FILE__latitude_max :</span></dt><dd>56.00092f</dd><dt><span>z_min :</span></dt><dd>0.49402f</dd><dt><span>z_max :</span></dt><dd>5727.917f</dd><dt><span>contact :</span></dt><dd>mailto: servicedesk.cmems@mercator-ocean.eu</dd><dt><span>FROM_ORIGINAL_FILE__netcdf_version_id :</span></dt><dd>4.4.3</dd><dt><span>CDO :</span></dt><dd>Climate Data Operators version 1.7.2 (http://mpimet.mpg.de/cdo)</dd><dt><span>_CoordSysBuilder :</span></dt><dd>ucar.nc2.dataset.conv.CF1Convention</dd><dt><span>history :</span></dt><dd>Data extracted from dataset http://localhost:8080/thredds/dodsC/dataset-ibi-analysis-forecast-phys-005-001-daily</dd></dl></div></li></ul></div></div>"
     },
     "metadata": {},
     "execution_count": 5
    }
   ],
   "source": [
    "# Open all datasets\n",
    "c.open_xarray_conn()"
   ]
  },
  {
   "cell_type": "code",
   "execution_count": 6,
   "metadata": {},
   "outputs": [
    {
     "output_type": "stream",
     "name": "stdout",
     "text": [
      "2020-11-20 08:15:01.666 DEBUG thredds - url: url=https://ihthredds.ihcantabria.com/thredds/catalog/myoceanibi2/bimep/daily/catalog.xml\n",
      "2020-11-20 08:15:01.863 DEBUG thredds - datasets: ncssPath=/thredds/ncss/grid/, httpserver=/thredds/fileServer/, opendap=/thredds/dodsC/\n",
      "2020-11-20 08:15:01.865 INFO thredds - datasets: 1 datasets found\n",
      "2020-11-20 08:15:01.865 DEBUG thredds - open_xarray_conn: opening https://ihthredds.ihcantabria.com/thredds/dodsC/myoceanibi2/bimep/daily/bimep_2020112000.nc\n",
      "<xarray.Dataset>\n",
      "Dimensions:    (depth: 50, latitude: 46, longitude: 167, time: 6)\n",
      "Coordinates:\n",
      "  * depth      (depth) float32 0.494025 1.541375 2.645669 ... 5274.784 5727.917\n",
      "  * latitude   (latitude) float32 42.944443 42.97222 ... 44.166668 44.194443\n",
      "  * time       (time) datetime64[ns] 2020-11-18T12:00:00 ... 2020-11-23T12:00:00\n",
      "  * longitude  (longitude) float32 -5.611111 -5.5833335 ... -1.0277778 -1.0\n",
      "Data variables:\n",
      "    thetao     (time, depth, latitude, longitude) float32 ...\n",
      "    so         (time, depth, latitude, longitude) float32 ...\n",
      "Attributes:\n",
      "    CDI:                                    Climate Data Interface version 1....\n",
      "    Conventions:                            CF-1.0\n",
      "    source:                                 IBI-MFC (PdE Production Center)\n",
      "    institution:                            Puertos del Estado (PdE)\n",
      "    title:                                  Ocean 3D daily mean fields for th...\n",
      "    easting:                                longitude\n",
      "    northing:                               latitude\n",
      "    references:                             http://marine.copernicus.eu/\n",
      "    domain_name:                            IBI36\n",
      "    FROM_ORIGINAL_FILE__field_type:         mean\n",
      "    field_date:                             20201123\n",
      "    field_julian_date:                      25894.f\n",
      "    comment:                                Class1 metrics\n",
      "    julian_day_unit:                        Hours since 1950-01-01 00:00:00\n",
      "    forecast_range:                         05-day_forecast\n",
      "    forecast_type:                          forecast\n",
      "    bulletin_date:                          2020-11-19\n",
      "    bulletin_type:                          Operational\n",
      "    FROM_ORIGINAL_FILE__longitude_min:      -19.0f\n",
      "    FROM_ORIGINAL_FILE__longitude_max:      5.000736f\n",
      "    FROM_ORIGINAL_FILE__latitude_min:       26.0f\n",
      "    FROM_ORIGINAL_FILE__latitude_max:       56.00092f\n",
      "    z_min:                                  0.49402f\n",
      "    z_max:                                  5727.917f\n",
      "    contact:                                mailto: servicedesk.cmems@mercato...\n",
      "    FROM_ORIGINAL_FILE__netcdf_version_id:  4.4.3\n",
      "    CDO:                                    Climate Data Operators version 1....\n",
      "    _CoordSysBuilder:                       ucar.nc2.dataset.conv.CF1Convention\n",
      "    history:                                Data extracted from dataset http:...\n"
     ]
    }
   ],
   "source": [
    "# Open each dataset \n",
    "for dataset in c.datasets:\n",
    "    ds = dataset.open_xarray_conn()\n",
    "    print(ds)"
   ]
  },
  {
   "cell_type": "code",
   "execution_count": null,
   "metadata": {},
   "outputs": [],
   "source": []
  }
 ],
 "metadata": {
  "kernelspec": {
   "display_name": "Python 3",
   "language": "python",
   "name": "python3"
  },
  "language_info": {
   "codemirror_mode": {
    "name": "ipython",
    "version": 3
   },
   "file_extension": ".py",
   "mimetype": "text/x-python",
   "name": "python",
   "nbconvert_exporter": "python",
   "pygments_lexer": "ipython3",
   "version": "3.8.5-final"
  }
 },
 "nbformat": 4,
 "nbformat_minor": 4
}