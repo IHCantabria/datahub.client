{
 "cells": [
  {
   "source": [
    "# Get variables of a product\n",
    "To know the variables of a product we can obtain the information from datahub.  \n",
    "We need to use `datahub.products.Products`, obtain a `product` and his `variables` attribute. It will returns a `Variable` array with all variables for that product.\n"
   ],
   "cell_type": "markdown",
   "metadata": {}
  },
  {
   "cell_type": "code",
   "execution_count": 1,
   "metadata": {},
   "outputs": [],
   "source": [
    "import sys\n",
    "sys.path.append(\"..\")\n",
    "\n",
    "from datahub.products import Products\n",
    "import json"
   ]
  },
  {
   "cell_type": "code",
   "execution_count": 2,
   "metadata": {},
   "outputs": [
    {
     "output_type": "stream",
     "name": "stdout",
     "text": [
      "2020-12-01 08:30:27.409 INFO products - get: Product found, Cantabrico\n",
      "[Pressure_surface, grid_northward_wind, grid_eastward_wind]\n"
     ]
    }
   ],
   "source": [
    "id_test = 198\n",
    "product = Products().get(id_test)\n",
    "variables = product.variables\n",
    "print(variables)\n"
   ]
  },
  {
   "cell_type": "code",
   "execution_count": 3,
   "metadata": {},
   "outputs": [
    {
     "output_type": "stream",
     "name": "stdout",
     "text": [
      "nameShort=Pressure_surface\nscaleFactor=1.0\noffset=0.0\n"
     ]
    }
   ],
   "source": [
    "pressure = variables[0]\n",
    "print(f\"nameShort={pressure.nameShort}\")\n",
    "print(f\"scaleFactor={pressure.scaleFactor}\")\n",
    "print(f\"offset={pressure.offset}\")"
   ]
  }
 ],
 "metadata": {
  "kernelspec": {
   "display_name": "Python 3",
   "language": "python",
   "name": "python3"
  },
  "language_info": {
   "codemirror_mode": {
    "name": "ipython",
    "version": 3
   },
   "file_extension": ".py",
   "mimetype": "text/x-python",
   "name": "python",
   "nbconvert_exporter": "python",
   "pygments_lexer": "ipython3",
   "version": "3.8.5-final"
  }
 },
 "nbformat": 4,
 "nbformat_minor": 4
}