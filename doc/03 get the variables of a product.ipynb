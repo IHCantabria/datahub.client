{
 "cells": [
  {
   "source": [
    "# Get variables of a product\n",
    "To know the variables of a product we can obtain the information from datahub.  \n",
    "We need to use `datahub.products.Products`, obtain a `product` and his `get_variables()` method. It will returns a json array with all variables for that product.\n",
    "\n",
    "\n",
    "## Output example\n",
    "\n",
    "```json\n",
    "[\n",
    "  {\n",
    "    \"id\": 17,\n",
    "    \"nameShort\": \"thetao\",\n",
    "    \"nameLong\": \"sea_water_potential_temperature\",\n",
    "    \"alias\": \"sea water potential temperature\",\n",
    "    \"aliasSp\": \"Temperatura\",\n",
    "    \"units\": \"Cº\",\n",
    "    \"idVariableTypes\": 12,\n",
    "    \"definition\": \"Potential temperature is the temperature a parcel of air or sea water would have if moved adiabatically to sea level pressure.\",\n",
    "    \"aliasShortEn\": \"Temperature\",\n",
    "    \"aliasLongEn\": null,\n",
    "    \"idCfConventions\": 1,\n",
    "    \"scaleFactor\": 0.0007324442,\n",
    "    \"offset\": 21,\n",
    "    \"idCfConventionsNavigation\": null,\n",
    "    \"idVariableTypesNavigation\": null,\n",
    "    \"productVariable\": []\n",
    "  }\n",
    "]\n",
    "```"
   ],
   "cell_type": "markdown",
   "metadata": {}
  },
  {
   "cell_type": "code",
   "execution_count": 1,
   "metadata": {},
   "outputs": [],
   "source": [
    "import sys\n",
    "sys.path.append(\"..\")\n",
    "\n",
    "from datahub.products import Products\n",
    "import json"
   ]
  },
  {
   "cell_type": "code",
   "execution_count": 2,
   "metadata": {},
   "outputs": [
    {
     "output_type": "stream",
     "name": "stdout",
     "text": [
      "2020-10-21 09:42:44.991 INFO products - get_all: 176 products found\n",
      "2020-10-21 09:42:44.992 INFO products - get_by_name_alias: Product found, id=7\n",
      "2020-10-21 09:42:45.214 INFO products - get_variables: 5 variables found\n"
     ]
    }
   ],
   "source": [
    "name = \"GLOBAL_REANALYSIS_PHY_001_030\"\n",
    "p = Products()\n",
    "product = p.get_by_name_alias(name)\n",
    "variables = p.get_variables(product)"
   ]
  },
  {
   "cell_type": "code",
   "execution_count": 3,
   "metadata": {},
   "outputs": [
    {
     "output_type": "stream",
     "name": "stdout",
     "text": [
      "[\n  {\n    \"id\": 17,\n    \"nameShort\": \"thetao\",\n    \"nameLong\": \"sea_water_potential_temperature\",\n    \"alias\": \"sea water potential temperature\",\n    \"aliasSp\": \"Temperatura\",\n    \"units\": \"C\\u00ba\",\n    \"idVariableTypes\": 12,\n    \"definition\": \"Potential temperature is the temperature a parcel of air or sea water would have if moved adiabatically to sea level pressure.\",\n    \"aliasShortEn\": \"Temperature\",\n    \"aliasLongEn\": null,\n    \"idCfConventions\": 1,\n    \"scaleFactor\": 0.0007324442,\n    \"offset\": 21.0,\n    \"idCfConventionsNavigation\": null,\n    \"idVariableTypesNavigation\": null,\n    \"productVariable\": []\n  },\n  {\n    \"id\": 18,\n    \"nameShort\": \"uo\",\n    \"nameLong\": \"sea_water_x_velocity\",\n    \"alias\": \"sea water x velocity\",\n    \"aliasSp\": null,\n    \"units\": \"m s-1\",\n    \"idVariableTypes\": 2,\n    \"definition\": \"A velocity is a vector quantity. \\\"x\\\" indicates a vector component along the grid x-axis, positive with increasing x.\",\n    \"aliasShortEn\": \"Eastward Velocity\",\n    \"aliasLongEn\": \"x_sea_water_velocity // eastward_sea_water_velocity\",\n    \"idCfConventions\": 1,\n    \"scaleFactor\": 0.0006103702,\n    \"offset\": 0.0,\n    \"idCfConventionsNavigation\": null,\n    \"idVariableTypesNavigation\": null,\n    \"productVariable\": []\n  },\n  {\n    \"id\": 19,\n    \"nameShort\": \"vo\",\n    \"nameLong\": \"sea_water_y_velocity\",\n    \"alias\": \"sea water y velocity\",\n    \"aliasSp\": null,\n    \"units\": \"m s-1\",\n    \"idVariableTypes\": 2,\n    \"definition\": \"A velocity is a vector quantity. \\\"y\\\" indicates a vector component along the grid y-axis, positive with increasing y.\",\n    \"aliasShortEn\": \"Northward Velocity\",\n    \"aliasLongEn\": \"y_sea_water_velocity // northward_sea_water_velocity\",\n    \"idCfConventions\": 1,\n    \"scaleFactor\": 0.0006103702,\n    \"offset\": 0.0,\n    \"idCfConventionsNavigation\": null,\n    \"idVariableTypesNavigation\": null,\n    \"productVariable\": []\n  },\n  {\n    \"id\": 22,\n    \"nameShort\": \"zos\",\n    \"nameLong\": \"sea_surface_height_above_geoid\",\n    \"alias\": \"sea surface height above geoid\",\n    \"aliasSp\": null,\n    \"units\": \"m\",\n    \"idVariableTypes\": 3,\n    \"definition\": \"\\\"Height_above_X\\\" means the vertical distance above the named surface X. \\\"Sea surface height\\\" is a time-varying quantity. The geoid is a surface of constant geopotential with which mean sea level would coincide if the ocean were at rest. (The volume enclosed between the geoid and the sea floor equals the mean volume of water in the ocean). In an ocean GCM the geoid is the surface of zero depth, or the rigid lid if the model uses that approximation. To specify which geoid or geopotential datum is being used as a reference level, a grid_mapping variable should be attached to the data variable as described in Chapter 5.6 of the CF Convention. By definition of the geoid, the global average of the time-mean sea surface height (i.e. mean sea level) above the geoid must be zero. The standard name for the height of the sea surface above mean sea level is sea_surface_height_above_mean_sea_level. The standard name for the height of the sea surface above the reference ellipsoid is sea_surface_height_above_reference_ellipsoid.\",\n    \"aliasShortEn\": \"Sea surface height\",\n    \"aliasLongEn\": \"sea_surface_elevation_anomaly // sea_surface_elevation\",\n    \"idCfConventions\": 1,\n    \"scaleFactor\": 0.00030518509447574615,\n    \"offset\": 0.0,\n    \"idCfConventionsNavigation\": null,\n    \"idVariableTypesNavigation\": null,\n    \"productVariable\": []\n  },\n  {\n    \"id\": 23,\n    \"nameShort\": \"so\",\n    \"nameLong\": \"sea_water_salinity\",\n    \"alias\": \"sea water salinity\",\n    \"aliasSp\": \"Salinidad\",\n    \"units\": \"PSU\",\n    \"idVariableTypes\": 11,\n    \"definition\": \"Sea water salinity is the salt content of sea water, often on the Practical Salinity Scale of 1978. However, the unqualified term 'salinity' is generic and does not necessarily imply any particular method of calculation. The units of salinity are dimensionless and the units attribute should normally be given as 1e-3 or 0.001 i.e. parts per thousand. There are standard names for the more precisely defined salinity quantities: sea_water_knudsen_salinity, S_K (used for salinity observations between 1901 and 1966), sea_water_cox_salinity, S_C (used for salinity observations between 1967 and 1977), sea_water_practical_salinity, S_P (used for salinity observations from 1978 to the present day), sea_water_absolute_salinity, S_A, sea_water_preformed_salinity, S_*, and sea_water_reference_salinity. Practical Salinity is reported on the Practical Salinity Scale of 1978 (PSS-78), and is usually based on the electrical conductivity of sea water in observations since the 1960s. Conversion of data between the observed scales follows: S_P = (S_K - 0.03) * (1.80655 / 1.805) and S_P = S_C, however the accuracy of the latter is dependent on whether chlorinity or conductivity was used to determine the S_C value, with this inconsistency driving the development of PSS-78. The more precise standard names should be used where appropriate for both modelled and observed salinities. In particular, the use of sea_water_salinity to describe salinity observations made from 1978 onwards is now deprecated in favor of the term sea_water_practical_salinity which is the salinity quantity stored by national data centers for post-1978 observations. The only exception to this is where the observed salinities are definitely known not to be recorded on the Practical Salinity Scale. The unit \\\"parts per thousand\\\" was used for sea_water_knudsen_salinity and sea_water_cox_salinity.\",\n    \"aliasShortEn\": \"Salinity\",\n    \"aliasLongEn\": null,\n    \"idCfConventions\": 1,\n    \"scaleFactor\": 0.0015259255,\n    \"offset\": -0.0015259255,\n    \"idCfConventionsNavigation\": null,\n    \"idVariableTypesNavigation\": null,\n    \"productVariable\": []\n  }\n]\n"
     ]
    }
   ],
   "source": [
    "print(json.dumps(variables, indent=2))"
   ]
  }
 ],
 "metadata": {
  "kernelspec": {
   "display_name": "Python 3",
   "language": "python",
   "name": "python3"
  },
  "language_info": {
   "codemirror_mode": {
    "name": "ipython",
    "version": 3
   },
   "file_extension": ".py",
   "mimetype": "text/x-python",
   "name": "python",
   "nbconvert_exporter": "python",
   "pygments_lexer": "ipython3",
   "version": "3.8.5-final"
  }
 },
 "nbformat": 4,
 "nbformat_minor": 4
}