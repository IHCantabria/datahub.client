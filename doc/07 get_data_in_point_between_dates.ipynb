{
 "cells": [
  {
   "cell_type": "code",
   "execution_count": 1,
   "metadata": {},
   "outputs": [],
   "source": [
    "import sys\n",
    "sys.path.append(\"..\")"
   ]
  },
  {
   "cell_type": "code",
   "execution_count": 2,
   "metadata": {},
   "outputs": [],
   "source": [
    "from datahub.products import Products\n",
    "from datahub.thredds import Catalog\n",
    "from datetime import datetime"
   ]
  },
  {
   "cell_type": "code",
   "execution_count": 3,
   "metadata": {},
   "outputs": [
    {
     "output_type": "stream",
     "name": "stdout",
     "text": [
      "{'id': 7, 'extent': '{\"type\":\"FeatureCollection\",\"features\":[{\"type\":\"Feature\",\"geometry\":{\"type\":\"Polygon\",\"coordinates\":[[[-180.0,-80.0],[-180.0,90.0],[179.9166717529297,90.0],[179.9166717529297,-80.0],[-180.0,-80.0]]]},\"properties\":{}}]}', 'name': 'GLOBAL_REANALYSIS_PHY_001_030', 'originName': None, 'alias': 'GLOBAL REANALYSIS PHY 001 030', 'temporalResolutionHours': '24', 'spatialResolutionLonDegrees': 0.083, 'spatialResolutionLatDegrees': 0.061, 'spatialResolutionLonKm2': 9.0, 'spatialResolutionLatKm2': 7.0, 'added': '2019-05-07T00:00:00', 'addedBy': 'Marco', 'productFormat': 'nc', 'timeHorizon': -1, 'idSource': 2, 'active': True, 'idProductType': 6, 'urlProduct': '/thredds/COPERNICUS/CMEMS/GLOBAL_REANALYSIS_PHY_001_030/GLOBAL_REANALYSIS_PHY_001_030.html', 'license': 'Open Access', 'graphic': True, 'mercurio': True, 'startDate': '1993-01-01T12:00:00', 'endDate': '2018-12-25T12:00:00', 'urlBase': 'https://ihthredds.ihcantabria.com', 'urlXmlLatest': '/thredds/COPERNICUS/CMEMS/GLOBAL_REANALYSIS_PHY_001_030/GLOBAL_REANALYSIS_PHY_001_030.xml?dataset=COPERNICUS/CMEMS/GLOBAL_REANALYSIS_PHY_001_030/GLOBAL_REANALYSIS_PHY_001_030.nc', 'urlCatalog': '/thredds/COPERNICUS/CMEMS/GLOBAL_REANALYSIS_PHY_001_030/GLOBAL_REANALYSIS_PHY_001_030.xml'}\n"
     ]
    }
   ],
   "source": [
    "p = Products()\n",
    "product = p.get_by_name_alias('GLOBAL REANALYSIS PHY 001 030')\n",
    "print(product)"
   ]
  },
  {
   "cell_type": "code",
   "execution_count": 4,
   "metadata": {},
   "outputs": [
    {
     "output_type": "stream",
     "name": "stdout",
     "text": [
      "2020-11-18 10:42:40.224 INFO thredds - datasets: 1 datasets found\n",
      "[<datahub.thredds.Dataset object at 0x7f6535fa98b0>]\n"
     ]
    }
   ],
   "source": [
    "c = Catalog(product)\n",
    "print(c.datasets)"
   ]
  },
  {
   "cell_type": "code",
   "execution_count": 5,
   "metadata": {},
   "outputs": [
    {
     "output_type": "stream",
     "name": "stdout",
     "text": [
      "2020-11-18 10:42:40.425 INFO thredds - datasets: 1 datasets found\n",
      "<datahub.thredds.Dataset object at 0x7f6535fa9ac0>\n"
     ]
    }
   ],
   "source": [
    "for dataset in c.datasets:\n",
    "    print(dataset)"
   ]
  },
  {
   "cell_type": "code",
   "execution_count": 6,
   "metadata": {
    "tags": []
   },
   "outputs": [
    {
     "output_type": "stream",
     "name": "stdout",
     "text": [
      "[{'id': 17, 'nameShort': 'thetao', 'nameLong': 'sea_water_potential_temperature', 'alias': 'sea water potential temperature', 'aliasSp': 'Temperatura', 'units': 'Cº', 'idVariableTypes': 12, 'definition': 'Potential temperature is the temperature a parcel of air or sea water would have if moved adiabatically to sea level pressure.', 'aliasShortEn': 'Temperature', 'aliasLongEn': None, 'idCfConventions': 1, 'scaleFactor': 0.0007324442, 'offset': 21.0, 'idCfConventionsNavigation': None, 'idVariableTypesNavigation': None, 'productVariable': []}]\n"
     ]
    }
   ],
   "source": [
    "start= datetime(2015,1,1, 0,0,0)\n",
    "end = datetime(2015,3,1, 23,59,59)\n",
    "dates = {\"start\": start.strftime(\"%Y-%m-%dT%H:%M:%S\"), \"end\": end.strftime(\"%Y-%m-%dT%H:%M:%S\")}\n",
    "point = {\"lon\": -2.8, \"lat\": 43.486}\n",
    "variables = p.get_variables(product, var_names=[\"thetao\"])\n",
    "print(variables)"
   ]
  },
  {
   "cell_type": "code",
   "execution_count": 7,
   "metadata": {},
   "outputs": [
    {
     "output_type": "stream",
     "name": "stdout",
     "text": [
      "2020-11-18 10:42:40.829 INFO thredds - datasets: 1 datasets found\n",
      "2020-11-18 10:42:41.715 INFO thredds - data: 60 points found\n",
      "[{'date': '2015-01-01T12:00:00Z', 'lat': '43.486', 'lon': '-2.8', 'vertCoord': '0.49402499198913574', 'thetao': 14.7991274028}, {'date': '2015-01-02T12:00:00Z', 'lat': '43.486', 'lon': '-2.8', 'vertCoord': '0.49402499198913574', 'thetao': 14.741264311}, {'date': '2015-01-03T12:00:00Z', 'lat': '43.486', 'lon': '-2.8', 'vertCoord': '0.49402499198913574', 'thetao': 14.731742536399999}, {'date': '2015-01-04T12:00:00Z', 'lat': '43.486', 'lon': '-2.8', 'vertCoord': '0.49402499198913574', 'thetao': 14.7288127596}, {'date': '2015-01-05T12:00:00Z', 'lat': '43.486', 'lon': '-2.8', 'vertCoord': '0.49402499198913574', 'thetao': 14.7346723132}, {'date': '2015-01-06T12:00:00Z', 'lat': '43.486', 'lon': '-2.8', 'vertCoord': '0.49402499198913574', 'thetao': 14.7178260966}, {'date': '2015-01-07T12:00:00Z', 'lat': '43.486', 'lon': '-2.8', 'vertCoord': '0.49402499198913574', 'thetao': 14.686330995999999}, {'date': '2015-01-08T12:00:00Z', 'lat': '43.486', 'lon': '-2.8', 'vertCoord': '0.49402499198913574', 'thetao': 14.661427893199999}, {'date': '2015-01-09T12:00:00Z', 'lat': '43.486', 'lon': '-2.8', 'vertCoord': '0.49402499198913574', 'thetao': 14.6416518998}, {'date': '2015-01-10T12:00:00Z', 'lat': '43.486', 'lon': '-2.8', 'vertCoord': '0.49402499198913574', 'thetao': 14.5859861406}, {'date': '2015-01-11T12:00:00Z', 'lat': '43.486', 'lon': '-2.8', 'vertCoord': '0.49402499198913574', 'thetao': 14.5200661626}, {'date': '2015-01-12T12:00:00Z', 'lat': '43.486', 'lon': '-2.8', 'vertCoord': '0.49402499198913574', 'thetao': 14.454146184599999}, {'date': '2015-01-13T12:00:00Z', 'lat': '43.486', 'lon': '-2.8', 'vertCoord': '0.49402499198913574', 'thetao': 14.423383528199999}, {'date': '2015-01-14T12:00:00Z', 'lat': '43.486', 'lon': '-2.8', 'vertCoord': '0.49402499198913574', 'thetao': 14.3940857602}, {'date': '2015-01-15T12:00:00Z', 'lat': '43.486', 'lon': '-2.8', 'vertCoord': '0.49402499198913574', 'thetao': 14.3354902242}, {'date': '2015-01-16T12:00:00Z', 'lat': '43.486', 'lon': '-2.8', 'vertCoord': '0.49402499198913574', 'thetao': 14.254921362200001}, {'date': '2015-01-17T12:00:00Z', 'lat': '43.486', 'lon': '-2.8', 'vertCoord': '0.49402499198913574', 'thetao': 14.156041395199999}, {'date': '2015-01-18T12:00:00Z', 'lat': '43.486', 'lon': '-2.8', 'vertCoord': '0.49402499198913574', 'thetao': 14.069612979599999}, {'date': '2015-01-19T12:00:00Z', 'lat': '43.486', 'lon': '-2.8', 'vertCoord': '0.49402499198913574', 'thetao': 14.019074329799999}, {'date': '2015-01-20T12:00:00Z', 'lat': '43.486', 'lon': '-2.8', 'vertCoord': '0.49402499198913574', 'thetao': 13.9106725882}, {'date': '2015-01-21T12:00:00Z', 'lat': '43.486', 'lon': '-2.8', 'vertCoord': '0.49402499198913574', 'thetao': 13.9201943628}, {'date': '2015-01-22T12:00:00Z', 'lat': '43.486', 'lon': '-2.8', 'vertCoord': '0.49402499198913574', 'thetao': 13.836695724}, {'date': '2015-01-23T12:00:00Z', 'lat': '43.486', 'lon': '-2.8', 'vertCoord': '0.49402499198913574', 'thetao': 13.763451304}, {'date': '2015-01-24T12:00:00Z', 'lat': '43.486', 'lon': '-2.8', 'vertCoord': '0.49402499198913574', 'thetao': 13.701193546999999}, {'date': '2015-01-25T12:00:00Z', 'lat': '43.486', 'lon': '-2.8', 'vertCoord': '0.49402499198913574', 'thetao': 13.63893579}, {'date': '2015-01-26T12:00:00Z', 'lat': '43.486', 'lon': '-2.8', 'vertCoord': '0.49402499198913574', 'thetao': 13.5905944728}, {'date': '2015-01-27T12:00:00Z', 'lat': '43.486', 'lon': '-2.8', 'vertCoord': '0.49402499198913574', 'thetao': 13.5627615932}, {'date': '2015-01-28T12:00:00Z', 'lat': '43.486', 'lon': '-2.8', 'vertCoord': '0.49402499198913574', 'thetao': 13.5195473854}, {'date': '2015-01-29T12:00:00Z', 'lat': '43.486', 'lon': '-2.8', 'vertCoord': '0.49402499198913574', 'thetao': 13.4404434118}, {'date': '2015-01-30T12:00:00Z', 'lat': '43.486', 'lon': '-2.8', 'vertCoord': '0.49402499198913574', 'thetao': 13.2624594712}, {'date': '2015-01-31T12:00:00Z', 'lat': '43.486', 'lon': '-2.8', 'vertCoord': '0.49402499198913574', 'thetao': 13.1870177186}, {'date': '2015-02-01T12:00:00Z', 'lat': '43.486', 'lon': '-2.8', 'vertCoord': '0.49402499198913574', 'thetao': 13.079348421199999}, {'date': '2015-02-02T12:00:00Z', 'lat': '43.486', 'lon': '-2.8', 'vertCoord': '0.49402499198913574', 'thetao': 12.9189431414}, {'date': '2015-02-03T12:00:00Z', 'lat': '43.486', 'lon': '-2.8', 'vertCoord': '0.49402499198913574', 'thetao': 12.8398391678}, {'date': '2015-02-04T12:00:00Z', 'lat': '43.486', 'lon': '-2.8', 'vertCoord': '0.49402499198913574', 'thetao': 12.8713342684}, {'date': '2015-02-05T12:00:00Z', 'lat': '43.486', 'lon': '-2.8', 'vertCoord': '0.49402499198913574', 'thetao': 12.7900329622}, {'date': '2015-02-06T12:00:00Z', 'lat': '43.486', 'lon': '-2.8', 'vertCoord': '0.49402499198913574', 'thetao': 12.7021396582}, {'date': '2015-02-07T12:00:00Z', 'lat': '43.486', 'lon': '-2.8', 'vertCoord': '0.49402499198913574', 'thetao': 12.6149787984}, {'date': '2015-02-08T12:00:00Z', 'lat': '43.486', 'lon': '-2.8', 'vertCoord': '0.49402499198913574', 'thetao': 12.5314801596}, {'date': '2015-02-09T12:00:00Z', 'lat': '43.486', 'lon': '-2.8', 'vertCoord': '0.49402499198913574', 'thetao': 12.319071341599999}, {'date': '2015-02-10T12:00:00Z', 'lat': '43.486', 'lon': '-2.8', 'vertCoord': '0.49402499198913574', 'thetao': 12.0810269766}, {'date': '2015-02-11T12:00:00Z', 'lat': '43.486', 'lon': '-2.8', 'vertCoord': '0.49402499198913574', 'thetao': 12.2150642652}, {'date': '2015-02-12T12:00:00Z', 'lat': '43.486', 'lon': '-2.8', 'vertCoord': '0.49402499198913574', 'thetao': 12.174779834199999}, {'date': '2015-02-13T12:00:00Z', 'lat': '43.486', 'lon': '-2.8', 'vertCoord': '0.49402499198913574', 'thetao': 12.2114020442}, {'date': '2015-02-14T12:00:00Z', 'lat': '43.486', 'lon': '-2.8', 'vertCoord': '0.49402499198913574', 'thetao': 12.1733149458}, {'date': '2015-02-15T12:00:00Z', 'lat': '43.486', 'lon': '-2.8', 'vertCoord': '0.49402499198913574', 'thetao': 12.0795620882}, {'date': '2015-02-16T12:00:00Z', 'lat': '43.486', 'lon': '-2.8', 'vertCoord': '0.49402499198913574', 'thetao': 12.005585223999999}, {'date': '2015-02-17T12:00:00Z', 'lat': '43.486', 'lon': '-2.8', 'vertCoord': '0.49402499198913574', 'thetao': 12.1110571888}, {'date': '2015-02-18T12:00:00Z', 'lat': '43.486', 'lon': '-2.8', 'vertCoord': '0.49402499198913574', 'thetao': 12.0780971998}, {'date': '2015-02-19T12:00:00Z', 'lat': '43.486', 'lon': '-2.8', 'vertCoord': '0.49402499198913574', 'thetao': 12.02755855}, {'date': '2015-02-20T12:00:00Z', 'lat': '43.486', 'lon': '-2.8', 'vertCoord': '0.49402499198913574', 'thetao': 11.914762143199999}, {'date': '2015-02-21T12:00:00Z', 'lat': '43.486', 'lon': '-2.8', 'vertCoord': '0.49402499198913574', 'thetao': 12.0026554472}, {'date': '2015-02-22T12:00:00Z', 'lat': '43.486', 'lon': '-2.8', 'vertCoord': '0.49402499198913574', 'thetao': 12.0451372108}, {'date': '2015-02-23T12:00:00Z', 'lat': '43.486', 'lon': '-2.8', 'vertCoord': '0.49402499198913574', 'thetao': 12.0707727578}, {'date': '2015-02-24T12:00:00Z', 'lat': '43.486', 'lon': '-2.8', 'vertCoord': '0.49402499198913574', 'thetao': 12.0810269766}, {'date': '2015-02-25T12:00:00Z', 'lat': '43.486', 'lon': '-2.8', 'vertCoord': '0.49402499198913574', 'thetao': 12.0905487512}, {'date': '2015-02-26T12:00:00Z', 'lat': '43.486', 'lon': '-2.8', 'vertCoord': '0.49402499198913574', 'thetao': 12.13742518}, {'date': '2015-02-27T12:00:00Z', 'lat': '43.486', 'lon': '-2.8', 'vertCoord': '0.49402499198913574', 'thetao': 12.172582501599999}, {'date': '2015-02-28T12:00:00Z', 'lat': '43.486', 'lon': '-2.8', 'vertCoord': '0.49402499198913574', 'thetao': 12.1908936066}, {'date': '2015-03-01T12:00:00Z', 'lat': '43.486', 'lon': '-2.8', 'vertCoord': '0.49402499198913574', 'thetao': 12.2787869106}]\n"
     ]
    }
   ],
   "source": [
    "print(c.data(point,dates, variables))"
   ]
  },
  {
   "cell_type": "code",
   "execution_count": null,
   "metadata": {},
   "outputs": [],
   "source": []
  }
 ],
 "metadata": {
  "kernelspec": {
   "display_name": "Python 3",
   "language": "python",
   "name": "python3"
  },
  "language_info": {
   "codemirror_mode": {
    "name": "ipython",
    "version": 3
   },
   "file_extension": ".py",
   "mimetype": "text/x-python",
   "name": "python",
   "nbconvert_exporter": "python",
   "pygments_lexer": "ipython3",
   "version": "3.8.5-final"
  }
 },
 "nbformat": 4,
 "nbformat_minor": 4
}