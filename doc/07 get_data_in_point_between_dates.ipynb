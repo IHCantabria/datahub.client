{
 "cells": [
  {
   "cell_type": "code",
   "execution_count": 1,
   "metadata": {},
   "outputs": [],
   "source": [
    "import sys\n",
    "sys.path.append(\"..\")"
   ]
  },
  {
   "cell_type": "code",
   "execution_count": 2,
   "metadata": {},
   "outputs": [],
   "source": [
    "from datahub.products import Products\n",
    "from datahub.catalog import Catalog\n",
    "from datahub import utils\n",
    "from datetime import datetime"
   ]
  },
  {
   "cell_type": "code",
   "execution_count": 3,
   "metadata": {},
   "outputs": [
    {
     "output_type": "stream",
     "name": "stdout",
     "text": [
      "Cantabrico\n"
     ]
    }
   ],
   "source": [
    "product = Products().get(198)\n",
    "print(product)"
   ]
  },
  {
   "cell_type": "code",
   "execution_count": 4,
   "metadata": {},
   "outputs": [
    {
     "output_type": "stream",
     "name": "stdout",
     "text": [
      "2020-12-01 09:27:44.128 INFO catalog - datasets: 4 datasets found\n",
      "[Cantabrico_2020112406.nc, Cantabrico_2020112400.nc, Cantabrico_2020112318.nc, Cantabrico_2020112312.nc]\n"
     ]
    }
   ],
   "source": [
    "c = Catalog(product)\n",
    "print(c.datasets)"
   ]
  },
  {
   "cell_type": "code",
   "execution_count": 5,
   "metadata": {},
   "outputs": [
    {
     "output_type": "stream",
     "name": "stdout",
     "text": [
      "2020-12-01 09:27:44.213 INFO catalog - datasets: 4 datasets found\n",
      "Cantabrico_2020112406.nc\n",
      "Cantabrico_2020112400.nc\n",
      "Cantabrico_2020112318.nc\n",
      "Cantabrico_2020112312.nc\n"
     ]
    }
   ],
   "source": [
    "for dataset in c.datasets:\n",
    "    print(dataset)"
   ]
  },
  {
   "cell_type": "code",
   "execution_count": 6,
   "metadata": {
    "tags": []
   },
   "outputs": [
    {
     "output_type": "stream",
     "name": "stdout",
     "text": [
      "[Pressure_surface, grid_northward_wind, grid_eastward_wind]\n"
     ]
    }
   ],
   "source": [
    "start = utils.string_to_datetime(\"2020-11-26T00:00:00Z\")\n",
    "end = utils.string_to_datetime(\"2020-11-26T12:00:00Z\")\n",
    "dates = {\"start\": start, \"end\": end}\n",
    "point = {\"lon\": -2.8, \"lat\": 43.486}\n",
    "variables = product.variables\n",
    "print(variables)"
   ]
  },
  {
   "cell_type": "code",
   "execution_count": 7,
   "metadata": {
    "tags": []
   },
   "outputs": [
    {
     "output_type": "stream",
     "name": "stdout",
     "text": [
      "2020-12-01 09:27:44.431 INFO catalog - datasets: 4 datasets found\n",
      "2020-12-01 09:27:45.516 INFO catalog - data: 20 points found\n",
      "[{'date': '2020-11-26T00:00:00Z', 'lat': '43.486', 'lon': '-2.8', 'Pressure_surface': 100998.546875, 'grid_northward_wind': 2.5822372436523438, 'grid_eastward_wind': -4.2217559814453125}, {'date': '2020-11-26T03:00:00Z', 'lat': '43.486', 'lon': '-2.8', 'Pressure_surface': 100848.7890625, 'grid_northward_wind': 2.352862596511841, 'grid_eastward_wind': -4.695499897003174}, {'date': '2020-11-26T06:00:00Z', 'lat': '43.486', 'lon': '-2.8', 'Pressure_surface': 100883.9453125, 'grid_northward_wind': 3.00545072555542, 'grid_eastward_wind': -5.445126533508301}, {'date': '2020-11-26T09:00:00Z', 'lat': '43.486', 'lon': '-2.8', 'Pressure_surface': 101037.1015625, 'grid_northward_wind': 5.890345096588135, 'grid_eastward_wind': -6.395459175109863}, {'date': '2020-11-26T12:00:00Z', 'lat': '43.486', 'lon': '-2.8', 'Pressure_surface': 101061.5, 'grid_northward_wind': 1.426037073135376, 'grid_eastward_wind': -6.805643558502197}, {'date': '2020-11-26T00:00:00Z', 'lat': '43.486', 'lon': '-2.8', 'Pressure_surface': 100939.984375, 'grid_northward_wind': 6.597411155700684, 'grid_eastward_wind': -2.7486324310302734}, {'date': '2020-11-26T03:00:00Z', 'lat': '43.486', 'lon': '-2.8', 'Pressure_surface': 100932.5234375, 'grid_northward_wind': 2.5846645832061768, 'grid_eastward_wind': -4.5669732093811035}, {'date': '2020-11-26T06:00:00Z', 'lat': '43.486', 'lon': '-2.8', 'Pressure_surface': 100888.3984375, 'grid_northward_wind': 4.023840427398682, 'grid_eastward_wind': -4.615893840789795}, {'date': '2020-11-26T09:00:00Z', 'lat': '43.486', 'lon': '-2.8', 'Pressure_surface': 100941.9609375, 'grid_northward_wind': 6.2685089111328125, 'grid_eastward_wind': -5.251216888427734}, {'date': '2020-11-26T12:00:00Z', 'lat': '43.486', 'lon': '-2.8', 'Pressure_surface': 101022.953125, 'grid_northward_wind': 6.324598789215088, 'grid_eastward_wind': -2.4572737216949463}, {'date': '2020-11-26T00:00:00Z', 'lat': '43.486', 'lon': '-2.8', 'Pressure_surface': 100862.609375, 'grid_northward_wind': 7.797661304473877, 'grid_eastward_wind': -2.7192764282226562}, {'date': '2020-11-26T03:00:00Z', 'lat': '43.486', 'lon': '-2.8', 'Pressure_surface': 100775.5078125, 'grid_northward_wind': 3.988435745239258, 'grid_eastward_wind': -3.6942453384399414}, {'date': '2020-11-26T06:00:00Z', 'lat': '43.486', 'lon': '-2.8', 'Pressure_surface': 100768.125, 'grid_northward_wind': 2.1306028366088867, 'grid_eastward_wind': -7.059134483337402}, {'date': '2020-11-26T09:00:00Z', 'lat': '43.486', 'lon': '-2.8', 'Pressure_surface': 101010.5703125, 'grid_northward_wind': 2.5518171787261963, 'grid_eastward_wind': -7.57698392868042}, {'date': '2020-11-26T12:00:00Z', 'lat': '43.486', 'lon': '-2.8', 'Pressure_surface': 101011.9140625, 'grid_northward_wind': 2.546023368835449, 'grid_eastward_wind': -5.317876815795898}, {'date': '2020-11-26T00:00:00Z', 'lat': '43.486', 'lon': '-2.8', 'Pressure_surface': 100838.5546875, 'grid_northward_wind': 1.7737644910812378, 'grid_eastward_wind': -4.560466289520264}, {'date': '2020-11-26T03:00:00Z', 'lat': '43.486', 'lon': '-2.8', 'Pressure_surface': 100768.28125, 'grid_northward_wind': 4.801595211029053, 'grid_eastward_wind': -3.9413483142852783}, {'date': '2020-11-26T06:00:00Z', 'lat': '43.486', 'lon': '-2.8', 'Pressure_surface': 100822.9765625, 'grid_northward_wind': 2.940577745437622, 'grid_eastward_wind': -7.402835845947266}, {'date': '2020-11-26T09:00:00Z', 'lat': '43.486', 'lon': '-2.8', 'Pressure_surface': 100777.8671875, 'grid_northward_wind': 1.8426027297973633, 'grid_eastward_wind': -9.8001127243042}, {'date': '2020-11-26T12:00:00Z', 'lat': '43.486', 'lon': '-2.8', 'Pressure_surface': 100868.4609375, 'grid_northward_wind': 1.1854277849197388, 'grid_eastward_wind': -8.195636749267578}]\n"
     ]
    }
   ],
   "source": [
    "print(c.data(point,dates, variables))"
   ]
  }
 ],
 "metadata": {
  "kernelspec": {
   "display_name": "Python 3",
   "language": "python",
   "name": "python3"
  },
  "language_info": {
   "codemirror_mode": {
    "name": "ipython",
    "version": 3
   },
   "file_extension": ".py",
   "mimetype": "text/x-python",
   "name": "python",
   "nbconvert_exporter": "python",
   "pygments_lexer": "ipython3",
   "version": "3.8.5-final"
  }
 },
 "nbformat": 4,
 "nbformat_minor": 4
}