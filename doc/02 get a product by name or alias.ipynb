{
 "cells": [
  {
   "cell_type": "code",
   "execution_count": 1,
   "metadata": {},
   "outputs": [],
   "source": [
    "from datahub.products import Products\n",
    "import json"
   ]
  },
  {
   "cell_type": "code",
   "execution_count": 2,
   "metadata": {},
   "outputs": [
    {
     "name": "stdout",
     "output_type": "stream",
     "text": [
      "2020-05-28 13:30:37.012 INFO products - get_all: 172 products found\n",
      "2020-05-28 13:30:37.013 INFO products - get_by_name_alias: Product found, id=7\n"
     ]
    }
   ],
   "source": [
    "name = \"GLOBAL_REANALYSIS_PHY_001_030\"\n",
    "p = Products()\n",
    "product = p.get_by_name_alias(name)"
   ]
  },
  {
   "cell_type": "code",
   "execution_count": 3,
   "metadata": {},
   "outputs": [
    {
     "name": "stdout",
     "output_type": "stream",
     "text": [
      "{\n",
      "  \"id\": 7,\n",
      "  \"extent\": \"{\\\"type\\\":\\\"FeatureCollection\\\",\\\"features\\\":[{\\\"type\\\":\\\"Feature\\\",\\\"geometry\\\":{\\\"type\\\":\\\"Polygon\\\",\\\"coordinates\\\":[[[-180.0,-80.0],[-180.0,90.0],[179.9166717529297,90.0],[179.9166717529297,-80.0],[-180.0,-80.0]]]},\\\"properties\\\":{}}]}\",\n",
      "  \"name\": \"GLOBAL_REANALYSIS_PHY_001_030\",\n",
      "  \"originName\": null,\n",
      "  \"alias\": \"GLOBAL REANALYSIS PHY 001 030\",\n",
      "  \"temporalResolutionHours\": \"24\",\n",
      "  \"spatialResolutionLonDegrees\": 0.083,\n",
      "  \"spatialResolutionLatDegrees\": 0.061,\n",
      "  \"spatialResolutionLonKm2\": 9.0,\n",
      "  \"spatialResolutionLatKm2\": 7.0,\n",
      "  \"added\": \"2019-05-07T00:00:00\",\n",
      "  \"addedBy\": \"Marco\",\n",
      "  \"productFormat\": \"nc\",\n",
      "  \"timeHorizon\": -1,\n",
      "  \"idSource\": 2,\n",
      "  \"active\": true,\n",
      "  \"idProductType\": 6,\n",
      "  \"urlProduct\": \"/thredds/catalog/copernicus/CMEMS/GLOBAL_REANALYSIS_PHY_001_030/catalog.html\",\n",
      "  \"license\": \"Open Access\",\n",
      "  \"graphic\": true,\n",
      "  \"mercurio\": true,\n",
      "  \"startDate\": \"1993-01-02T12:00:00\",\n",
      "  \"endDate\": \"2018-12-25T12:00:00\",\n",
      "  \"urlBase\": \"https://ihthredds.ihcantabria.com\",\n",
      "  \"urlXmlLatest\": \"/thredds/catalog/copernicus/CMEMS/GLOBAL_REANALYSIS_PHY_001_030/latest.xml\",\n",
      "  \"urlCatalog\": \"/thredds/catalog/copernicus/CMEMS/GLOBAL_REANALYSIS_PHY_001_030/catalog.xml\"\n",
      "}\n"
     ]
    }
   ],
   "source": [
    "print(json.dumps(product, indent=2))"
   ]
  },
  {
   "cell_type": "code",
   "execution_count": null,
   "metadata": {},
   "outputs": [],
   "source": []
  }
 ],
 "metadata": {
  "kernelspec": {
   "display_name": "Python 3",
   "language": "python",
   "name": "python3"
  },
  "language_info": {
   "codemirror_mode": {
    "name": "ipython",
    "version": 3
   },
   "file_extension": ".py",
   "mimetype": "text/x-python",
   "name": "python",
   "nbconvert_exporter": "python",
   "pygments_lexer": "ipython3",
   "version": "3.7.3"
  }
 },
 "nbformat": 4,
 "nbformat_minor": 4
}
