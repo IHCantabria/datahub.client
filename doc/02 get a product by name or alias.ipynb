{
 "cells": [
  {
   "source": [
    "# Get a product by name or alias\n",
    "To access the data of a provider we need the datahub object, this can be obtained by its name or alias.  \n",
    "We need to use `datahub.products.Products` and his `get_by_name_alias()` method. It will returns a json object with the products.\n",
    "\n",
    "## Output example\n",
    "\n",
    "```json\n",
    "{\n",
    "  \"id\": 7,\n",
    "  \"extent\": \"{\\\"type\\\":\\\"FeatureCollection\\\",\\\"features\\\":[{\\\"type\\\":\\\"Feature\\\",\\\"geometry\\\":{\\\"type\\\":\\\"Polygon\\\",\\\"coordinates\\\":[[[-180.0,-80.0],[-180.0,90.0],[179.9166717529297,90.0],[179.9166717529297,-80.0],[-180.0,-80.0]]]},\\\"properties\\\":{}}]}\",\n",
    "  \"name\": \"GLOBAL_REANALYSIS_PHY_001_030\",\n",
    "  \"originName\": null,\n",
    "  \"alias\": \"GLOBAL REANALYSIS PHY 001 030\",\n",
    "  \"temporalResolutionHours\": \"24\",\n",
    "  \"spatialResolutionLonDegrees\": 0.083,\n",
    "  \"spatialResolutionLatDegrees\": 0.061,\n",
    "  \"spatialResolutionLonKm2\": 9.0,\n",
    "  \"spatialResolutionLatKm2\": 7.0,\n",
    "  \"added\": \"2019-05-07T00:00:00\",\n",
    "  \"addedBy\": \"Marco\",\n",
    "  \"productFormat\": \"nc\",\n",
    "  \"timeHorizon\": -1,\n",
    "  \"idSource\": 2,\n",
    "  \"active\": true,\n",
    "  \"idProductType\": 6,\n",
    "  \"urlProduct\": \"/thredds/catalog/copernicus/CMEMS/GLOBAL_REANALYSIS_PHY_001_030/catalog.html\",\n",
    "  \"license\": \"Open Access\",\n",
    "  \"graphic\": true,\n",
    "  \"mercurio\": true,\n",
    "  \"startDate\": \"1993-01-02T12:00:00\",\n",
    "  \"endDate\": \"2018-12-25T12:00:00\",\n",
    "  \"urlBase\": \"https://ihthredds.ihcantabria.com\",\n",
    "  \"urlXmlLatest\": \"/thredds/catalog/copernicus/CMEMS/GLOBAL_REANALYSIS_PHY_001_030/latest.xml\",\n",
    "  \"urlCatalog\": \"/thredds/catalog/copernicus/CMEMS/GLOBAL_REANALYSIS_PHY_001_030/catalog.xml\"\n",
    "}\n",
    "```\n",
    "\n"
   ],
   "cell_type": "markdown",
   "metadata": {}
  },
  {
   "cell_type": "code",
   "execution_count": 1,
   "metadata": {},
   "outputs": [],
   "source": [
    "import sys\n",
    "sys.path.append(\"..\")\n",
    "\n",
    "from datahub.products import Products\n",
    "import json"
   ]
  },
  {
   "cell_type": "code",
   "execution_count": 2,
   "metadata": {},
   "outputs": [
    {
     "output_type": "stream",
     "name": "stdout",
     "text": [
      "2020-10-21 09:36:03.871 INFO products - get_all: 176 products found\n",
      "2020-10-21 09:36:03.872 INFO products - get_by_name_alias: Product found, id=7\n"
     ]
    }
   ],
   "source": [
    "name = \"GLOBAL_REANALYSIS_PHY_001_030\"\n",
    "p = Products()\n",
    "product = p.get_by_name_alias(name)"
   ]
  },
  {
   "cell_type": "code",
   "execution_count": 3,
   "metadata": {},
   "outputs": [
    {
     "output_type": "stream",
     "name": "stdout",
     "text": [
      "{\n  \"id\": 7,\n  \"extent\": \"{\\\"type\\\":\\\"FeatureCollection\\\",\\\"features\\\":[{\\\"type\\\":\\\"Feature\\\",\\\"geometry\\\":{\\\"type\\\":\\\"Polygon\\\",\\\"coordinates\\\":[[[-180.0,-80.0],[-180.0,90.0],[179.9166717529297,90.0],[179.9166717529297,-80.0],[-180.0,-80.0]]]},\\\"properties\\\":{}}]}\",\n  \"name\": \"GLOBAL_REANALYSIS_PHY_001_030\",\n  \"originName\": null,\n  \"alias\": \"GLOBAL REANALYSIS PHY 001 030\",\n  \"temporalResolutionHours\": \"24\",\n  \"spatialResolutionLonDegrees\": 0.083,\n  \"spatialResolutionLatDegrees\": 0.061,\n  \"spatialResolutionLonKm2\": 9.0,\n  \"spatialResolutionLatKm2\": 7.0,\n  \"added\": \"2019-05-07T00:00:00\",\n  \"addedBy\": \"Marco\",\n  \"productFormat\": \"nc\",\n  \"timeHorizon\": -1,\n  \"idSource\": 2,\n  \"active\": true,\n  \"idProductType\": 6,\n  \"urlProduct\": \"/thredds/COPERNICUS/CMEMS/GLOBAL_REANALYSIS_PHY_001_030/GLOBAL_REANALYSIS_PHY_001_030.html\",\n  \"license\": \"Open Access\",\n  \"graphic\": true,\n  \"mercurio\": true,\n  \"startDate\": \"1993-01-01T12:00:00\",\n  \"endDate\": \"2018-12-25T12:00:00\",\n  \"urlBase\": \"https://ihthredds.ihcantabria.com\",\n  \"urlXmlLatest\": \"/thredds/COPERNICUS/CMEMS/GLOBAL_REANALYSIS_PHY_001_030/GLOBAL_REANALYSIS_PHY_001_030.xml?dataset=COPERNICUS/CMEMS/GLOBAL_REANALYSIS_PHY_001_030/GLOBAL_REANALYSIS_PHY_001_030.nc\",\n  \"urlCatalog\": \"/thredds/COPERNICUS/CMEMS/GLOBAL_REANALYSIS_PHY_001_030/GLOBAL_REANALYSIS_PHY_001_030.xml\"\n}\n"
     ]
    }
   ],
   "source": [
    "print(json.dumps(product, indent=2))"
   ]
  },
  {
   "cell_type": "code",
   "execution_count": null,
   "metadata": {},
   "outputs": [],
   "source": []
  }
 ],
 "metadata": {
  "kernelspec": {
   "display_name": "Python 3",
   "language": "python",
   "name": "python3"
  },
  "language_info": {
   "codemirror_mode": {
    "name": "ipython",
    "version": 3
   },
   "file_extension": ".py",
   "mimetype": "text/x-python",
   "name": "python",
   "nbconvert_exporter": "python",
   "pygments_lexer": "ipython3",
   "version": "3.8.5-final"
  }
 },
 "nbformat": 4,
 "nbformat_minor": 4
}