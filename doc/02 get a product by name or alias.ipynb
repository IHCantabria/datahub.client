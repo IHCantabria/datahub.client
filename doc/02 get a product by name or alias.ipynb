{
 "cells": [
  {
   "source": [
    "# Search a products by name or alias\n",
    "We need to use `datahub.products.Products` and his `filter` method. It will returns a `Product` array with the products."
   ],
   "cell_type": "markdown",
   "metadata": {}
  },
  {
   "cell_type": "code",
   "execution_count": 1,
   "metadata": {},
   "outputs": [],
   "source": [
    "import sys\n",
    "sys.path.append(\"..\")\n",
    "\n",
    "from datahub.products import Products\n"
   ]
  },
  {
   "cell_type": "code",
   "execution_count": 2,
   "metadata": {},
   "outputs": [
    {
     "output_type": "stream",
     "name": "stdout",
     "text": [
      "2020-12-01 08:29:40.688 INFO products - get_all: 177 products found\n",
      "2020-12-01 08:29:40.688 INFO products - filter: Product found, id=Algeciras PE WAVES\n",
      "2020-12-01 08:29:40.689 INFO products - filter: Product found, id=Algeciras Safeport PE WAVES\n",
      "2020-12-01 08:29:40.690 INFO products - filter: Product found, id=Bahía Algeciras PE CIRCULATION\n",
      "2020-12-01 08:29:40.690 INFO products - filter: Product found, id=PE SafePort Bahía Algeciras\n",
      "2020-12-01 08:29:40.691 INFO products - filter: Product found, id=AEMET HARMONIE Algeciras\n"
     ]
    }
   ],
   "source": [
    "alias = \"algeciras\"\n",
    "products = Products().filter(alias=alias)"
   ]
  },
  {
   "cell_type": "code",
   "execution_count": 3,
   "metadata": {},
   "outputs": [
    {
     "output_type": "stream",
     "name": "stdout",
     "text": [
      "[Algeciras PE WAVES, Algeciras Safeport PE WAVES, Bahía Algeciras PE CIRCULATION, PE SafePort Bahía Algeciras, AEMET HARMONIE Algeciras]\n"
     ]
    }
   ],
   "source": [
    "print(products)"
   ]
  }
 ],
 "metadata": {
  "kernelspec": {
   "display_name": "Python 3",
   "language": "python",
   "name": "python3"
  },
  "language_info": {
   "codemirror_mode": {
    "name": "ipython",
    "version": 3
   },
   "file_extension": ".py",
   "mimetype": "text/x-python",
   "name": "python",
   "nbconvert_exporter": "python",
   "pygments_lexer": "ipython3",
   "version": "3.8.5-final"
  }
 },
 "nbformat": 4,
 "nbformat_minor": 4
}