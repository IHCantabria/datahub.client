{
 "cells": [
  {
   "source": [
    "# Get avaiable dates of a product\n",
    "A product can have different datasets, we can know what time period each one covers.  \n",
    "We need to use `datahub.products.Products` and `datahub.thredds.Catalog`, obtain a `product` and create a Catalog with it. Once done you will have the dataset property and each dataset has the dates property.\n",
    "\n"
   ],
   "cell_type": "markdown",
   "metadata": {}
  },
  {
   "cell_type": "code",
   "execution_count": 1,
   "metadata": {},
   "outputs": [],
   "source": [
    "import sys\n",
    "sys.path.append(\"..\")\n",
    "\n",
    "from datahub.products import Products\n",
    "from datahub.thredds import Catalog\n",
    "import json"
   ]
  },
  {
   "cell_type": "code",
   "execution_count": 2,
   "metadata": {},
   "outputs": [],
   "source": [
    "name = \"IH PROW Cantábrico\"\n",
    "p = Products()\n",
    "product = p.get_by_name_alias(name)"
   ]
  },
  {
   "cell_type": "code",
   "execution_count": 3,
   "metadata": {},
   "outputs": [
    {
     "output_type": "stream",
     "name": "stdout",
     "text": [
      "2020-10-21 13:05:35.854 INFO thredds - datasets: 8 datasets found\n",
      "Cantabrico_2020102100.nc :\n",
      "{\n",
      "  \"start\": \"2020-10-21T00:00:00Z\",\n",
      "  \"end\": \"2020-10-31T00:00:00Z\"\n",
      "}\n",
      "Cantabrico_2020102018.nc :\n",
      "{\n",
      "  \"start\": \"2020-10-20T18:00:00Z\",\n",
      "  \"end\": \"2020-10-30T18:00:00Z\"\n",
      "}\n",
      "Cantabrico_2020102012.nc :\n",
      "{\n",
      "  \"start\": \"2020-10-20T12:00:00Z\",\n",
      "  \"end\": \"2020-10-30T12:00:00Z\"\n",
      "}\n",
      "Cantabrico_2020102006.nc :\n",
      "{\n",
      "  \"start\": \"2020-10-20T06:00:00Z\",\n",
      "  \"end\": \"2020-10-30T06:00:00Z\"\n",
      "}\n",
      "Cantabrico_2020102000.nc :\n",
      "{\n",
      "  \"start\": \"2020-10-20T00:00:00Z\",\n",
      "  \"end\": \"2020-10-30T00:00:00Z\"\n",
      "}\n",
      "Cantabrico_2020101918.nc :\n",
      "{\n",
      "  \"start\": \"2020-10-19T18:00:00Z\",\n",
      "  \"end\": \"2020-10-29T18:00:00Z\"\n",
      "}\n",
      "Cantabrico_2020101912.nc :\n",
      "{\n",
      "  \"start\": \"2020-10-19T12:00:00Z\",\n",
      "  \"end\": \"2020-10-29T12:00:00Z\"\n",
      "}\n",
      "Cantabrico_2020101906.nc :\n",
      "{\n",
      "  \"start\": \"2020-10-19T06:00:00Z\",\n",
      "  \"end\": \"2020-10-29T06:00:00Z\"\n",
      "}\n"
     ]
    }
   ],
   "source": [
    "catalog = Catalog(product)\n",
    "for dataset in catalog.datasets:\n",
    "    print(f\"{dataset.name} :\")\n",
    "    print(json.dumps(dataset.dates, indent=2))"
   ]
  },
  {
   "cell_type": "code",
   "execution_count": null,
   "metadata": {},
   "outputs": [],
   "source": []
  }
 ],
 "metadata": {
  "kernelspec": {
   "display_name": "Python 3",
   "language": "python",
   "name": "python3"
  },
  "language_info": {
   "codemirror_mode": {
    "name": "ipython",
    "version": 3
   },
   "file_extension": ".py",
   "mimetype": "text/x-python",
   "name": "python",
   "nbconvert_exporter": "python",
   "pygments_lexer": "ipython3",
   "version": "3.8.5-final"
  }
 },
 "nbformat": 4,
 "nbformat_minor": 4
}