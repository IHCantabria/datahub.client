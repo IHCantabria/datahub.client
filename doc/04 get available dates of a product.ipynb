{
 "cells": [
  {
   "source": [
    "# Get avaiable dates of a product\n",
    "A product can have different datasets, we can know what time period each one covers.  \n",
    "We need to use `datahub.products.Products` and `datahub.thredds.Catalog`, obtain a `product` and create a Catalog with it. Once done you will have the dataset property and each dataset has the dates property.\n",
    "\n"
   ],
   "cell_type": "markdown",
   "metadata": {}
  },
  {
   "cell_type": "code",
   "execution_count": 1,
   "metadata": {},
   "outputs": [],
   "source": [
    "import sys\n",
    "sys.path.append(\"..\")\n",
    "\n",
    "from datahub.products import Products\n",
    "from datahub.catalog import Catalog\n",
    "import json"
   ]
  },
  {
   "cell_type": "code",
   "execution_count": 2,
   "metadata": {},
   "outputs": [],
   "source": [
    "id = 198\n",
    "product = Products().get(id)"
   ]
  },
  {
   "cell_type": "code",
   "execution_count": 3,
   "metadata": {},
   "outputs": [
    {
     "output_type": "stream",
     "name": "stdout",
     "text": [
      "2020-12-01 08:36:51.230 INFO catalog - datasets: 4 datasets found\n",
      "Cantabrico_2020112406.nc:\n",
      "start=2020-11-24 06:00:00, end=2020-12-04 06:00:00\n",
      "\n",
      "Cantabrico_2020112400.nc:\n",
      "start=2020-11-24 00:00:00, end=2020-12-04 00:00:00\n",
      "\n",
      "Cantabrico_2020112318.nc:\n",
      "start=2020-11-23 18:00:00, end=2020-12-03 18:00:00\n",
      "\n",
      "Cantabrico_2020112312.nc:\n",
      "start=2020-11-23 12:00:00, end=2020-12-03 12:00:00\n",
      "\n"
     ]
    }
   ],
   "source": [
    "catalog = Catalog(product)\n",
    "for dataset in catalog.datasets:\n",
    "    print(f\"{dataset.name}:\")\n",
    "    print(f\"start={dataset.dates['start']}, end={dataset.dates['end']}\\n\")"
   ]
  },
  {
   "cell_type": "code",
   "execution_count": 4,
   "metadata": {},
   "outputs": [
    {
     "output_type": "stream",
     "name": "stdout",
     "text": [
      "2020-12-01 08:36:52.017 INFO catalog - latest: latest dataset found\n",
      "Latest datahubTests\n",
      "{'start': datetime.datetime(2020, 11, 24, 6, 0), 'end': datetime.datetime(2020, 12, 4, 6, 0)}\n"
     ]
    }
   ],
   "source": [
    "latest = catalog.latest\n",
    "print(latest.name)\n",
    "print(latest.dates)"
   ]
  }
 ],
 "metadata": {
  "kernelspec": {
   "display_name": "Python 3",
   "language": "python",
   "name": "python3"
  },
  "language_info": {
   "codemirror_mode": {
    "name": "ipython",
    "version": 3
   },
   "file_extension": ".py",
   "mimetype": "text/x-python",
   "name": "python",
   "nbconvert_exporter": "python",
   "pygments_lexer": "ipython3",
   "version": "3.8.5-final"
  }
 },
 "nbformat": 4,
 "nbformat_minor": 4
}