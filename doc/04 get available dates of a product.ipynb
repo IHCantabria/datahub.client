{
 "cells": [
  {
   "cell_type": "code",
   "execution_count": 1,
   "metadata": {},
   "outputs": [],
   "source": [
    "from datahub.products import Products\n",
    "from datahub.thredds import Catalog\n",
    "import json"
   ]
  },
  {
   "cell_type": "code",
   "execution_count": 2,
   "metadata": {},
   "outputs": [],
   "source": [
    "name = \"GLOBAL_REANALYSIS_PHY_001_030\"\n",
    "p = Products()\n",
    "product = p.get_by_name_alias(name)"
   ]
  },
  {
   "cell_type": "code",
   "execution_count": 3,
   "metadata": {},
   "outputs": [
    {
     "name": "stdout",
     "output_type": "stream",
     "text": [
      "2020-05-28 13:31:06.235 INFO thredds - datasets: 1 datasets found\n",
      "{\n",
      "  \"start\": \"1993-01-01T12:00:00Z\",\n",
      "  \"end\": \"2018-12-25T12:00:00Z\"\n",
      "}\n"
     ]
    }
   ],
   "source": [
    "catalog = Catalog(product)\n",
    "for dataset in catalog.datasets:\n",
    "    print(json.dumps(dataset.dates, indent=2))"
   ]
  },
  {
   "cell_type": "code",
   "execution_count": null,
   "metadata": {},
   "outputs": [],
   "source": []
  }
 ],
 "metadata": {
  "kernelspec": {
   "display_name": "Python 3",
   "language": "python",
   "name": "python3"
  },
  "language_info": {
   "codemirror_mode": {
    "name": "ipython",
    "version": 3
   },
   "file_extension": ".py",
   "mimetype": "text/x-python",
   "name": "python",
   "nbconvert_exporter": "python",
   "pygments_lexer": "ipython3",
   "version": "3.7.3"
  }
 },
 "nbformat": 4,
 "nbformat_minor": 4
}
