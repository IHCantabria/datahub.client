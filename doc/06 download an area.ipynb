{
 "cells": [
  {
   "source": [
    "# Download netcdf\n",
    "We can download the data as a netcdf file."
   ],
   "cell_type": "markdown",
   "metadata": {}
  },
  {
   "cell_type": "code",
   "execution_count": 1,
   "metadata": {},
   "outputs": [],
   "source": [
    "import sys\n",
    "sys.path.append(\"..\")\n",
    "\n",
    "from datahub.products import Products\n",
    "from datahub.thredds import Catalog"
   ]
  },
  {
   "cell_type": "code",
   "execution_count": 2,
   "metadata": {},
   "outputs": [],
   "source": [
    "name = \"GLOBAL_REANALYSIS_WAV_001_032\"\n",
    "p = Products()\n",
    "product = p.get_by_name_alias(name)\n",
    "variables = p.get_variables(product)\n",
    "coordinates = {\"north\": 43.456, \"east\": -2.883, \"south\": 43, \"west\": -3}\n",
    "dates = {\"start\": \"2018-12-24T00:00:00\", \"end\": \"2018-12-24T12:00:00\"}"
   ]
  },
  {
   "cell_type": "code",
   "execution_count": 3,
   "metadata": {},
   "outputs": [
    {
     "output_type": "stream",
     "name": "stdout",
     "text": [
      "2020-10-21 13:16:04.365 INFO thredds - datasets: 1 datasets found\n",
      "2020-10-21 13:16:08.638 INFO thredds - download: downloaded completed in /tmp/test.nc\n"
     ]
    }
   ],
   "source": [
    "filename = \"/tmp/test.nc\"\n",
    "c = Catalog(product)\n",
    "filenames = c.download(coordinates, dates, variables, filename)"
   ]
  },
  {
   "cell_type": "code",
   "execution_count": null,
   "metadata": {},
   "outputs": [],
   "source": []
  }
 ],
 "metadata": {
  "kernelspec": {
   "display_name": "Python 3",
   "language": "python",
   "name": "python3"
  },
  "language_info": {
   "codemirror_mode": {
    "name": "ipython",
    "version": 3
   },
   "file_extension": ".py",
   "mimetype": "text/x-python",
   "name": "python",
   "nbconvert_exporter": "python",
   "pygments_lexer": "ipython3",
   "version": "3.8.5-final"
  }
 },
 "nbformat": 4,
 "nbformat_minor": 4
}