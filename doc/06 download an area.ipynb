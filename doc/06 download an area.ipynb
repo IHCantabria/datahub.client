{
 "cells": [
  {
   "source": [
    "# Download netcdf\n",
    "We can download the data as a netcdf file."
   ],
   "cell_type": "markdown",
   "metadata": {}
  },
  {
   "cell_type": "code",
   "execution_count": 1,
   "metadata": {},
   "outputs": [],
   "source": [
    "import sys\n",
    "sys.path.append(\"..\")\n",
    "\n",
    "from datahub.products import Products\n",
    "from datahub.catalog import Catalog\n",
    "from datahub import utils"
   ]
  },
  {
   "cell_type": "code",
   "execution_count": 2,
   "metadata": {},
   "outputs": [],
   "source": [
    "product = Products().get(8)\n",
    "variables = product.variables\n",
    "coordinates = {\"north\": 45, \"east\": -2, \"south\": 43, \"west\": -5}\n",
    "start = utils.string_to_datetime(\"2020-11-26T00:00:00Z\")\n",
    "end = utils.string_to_datetime(\"2020-12-02T12:00:00Z\")\n",
    "dates = {\"start\": start, \"end\": end}"
   ]
  },
  {
   "cell_type": "code",
   "execution_count": 3,
   "metadata": {},
   "outputs": [
    {
     "output_type": "stream",
     "name": "stdout",
     "text": [
      "2020-12-01 09:21:29.451 INFO catalog - latest: latest dataset found\n"
     ]
    }
   ],
   "source": [
    "filename = \"/tmp/test-latest.nc\"\n",
    "c = Catalog(product)\n",
    "filenames = c.latest.download(coordinates, dates, variables, filename)"
   ]
  }
 ],
 "metadata": {
  "kernelspec": {
   "display_name": "Python 3",
   "language": "python",
   "name": "python3"
  },
  "language_info": {
   "codemirror_mode": {
    "name": "ipython",
    "version": 3
   },
   "file_extension": ".py",
   "mimetype": "text/x-python",
   "name": "python",
   "nbconvert_exporter": "python",
   "pygments_lexer": "ipython3",
   "version": "3.8.5-final"
  }
 },
 "nbformat": 4,
 "nbformat_minor": 4
}