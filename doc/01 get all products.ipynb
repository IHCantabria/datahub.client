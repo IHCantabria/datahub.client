{
 "cells": [
  {
   "source": [
    "# Get all products\n",
    "Obtain all products from table `products` from `datahub`.  \n",
    "We need to use `datahub.products.Products` and his `get_all()` method. It will returns a `Product` array with all products."
   ],
   "cell_type": "markdown",
   "metadata": {}
  },
  {
   "cell_type": "code",
   "execution_count": 1,
   "metadata": {},
   "outputs": [],
   "source": [
    "import sys\n",
    "sys.path.append(\"..\")\n",
    "\n",
    "from datahub.products import Products\n",
    "import json"
   ]
  },
  {
   "cell_type": "code",
   "execution_count": 2,
   "metadata": {},
   "outputs": [
    {
     "output_type": "stream",
     "name": "stdout",
     "text": [
      "2020-12-01 08:28:35.381 INFO products - get_all: 177 products found\n"
     ]
    }
   ],
   "source": [
    "all_products = Products().get_all()"
   ]
  },
  {
   "cell_type": "code",
   "execution_count": 3,
   "metadata": {
    "tags": []
   },
   "outputs": [
    {
     "output_type": "stream",
     "name": "stdout",
     "text": [
      "  1 Global Structural Suitability\n  2 Global Renewable Energy Opportunities\n  3 Global Operational Suitability\n  4 Global Energy Resource Suitability\n  5 Global Consumer Centers\n  6 IBI ANALYSIS FORECAST WAV 005 005\n  7 GLOBAL REANALYSIS PHY 001 030\n  8 IH PROW Harmonie\n  9 IH SWAN BIMEP\n 10 IH COAWST Bimep\n 11 National Structural Suitability\n 12 National Operational Suitability\n 13 Global Biological Suitability\n 14 National Biological Suitability\n 15 National Fish Farming Opportunities\n 16 Global Fish Farming Opportunities\n 17 WIND NCEP\n 18 Global Forecast System (GFS) Model\n 19 NOAA WAVEWATCH III\n 20 ERA INTERIM\n 21 GLOBAL ANALYSIS FORECAST WAV 001 027\n 22 GLOBAL ANALYSIS FORECAST PHY 001 024\n 29 Calypso HF Radar\n 30 Cosyna HF Radar\n 31 Galicia HF Radar\n 32 IZOR HF Radar\n 33 MATROOS HF Radar\n 34 NIB HF Radar\n 35 Delta Ebro HF Radar\n 36 Gibraltar HF Radar\n 37 Huelva HF Radar\n 38 Shom HF Radar\n 39 Socib HF Radar\n 40 GOW2 Projections rcp45\n 41 GOW2 Projections rcp85\n 48 CMIP5 GISS E2 R CC rcp45\n 49 CMIP5 GISS E2 R CC rcp85\n 50 Algeciras PE WAVES\n 51 Algeciras Safeport PE WAVES\n 52 Almería PE WAVES\n 53 Gibraltar PE WAVES\n 54 Islas Canarias PE WAVES\n 55 Península and Baleares PE WAVES\n 56 Santa Cruz de Tenerife PE WAVES\n 57 Santander PE WAVES\n 58 Almería PE CIRCULATION\n 59 Bahía Algeciras PE CIRCULATION\n 60 Spain METEOGALICIA WRF\n 61 Bimep Hourly IBI ANALYSIS FORECAST PHYS 005 001\n 62 Bimep Daily IBI ANALYSIS FORECAST PHYS 005 001\n 63 Peninsula Hourly IBI ANALYSIS FORECAST PHYS 005 001\n 64 Peninsula Daily IBI ANALYSIS FORECAST PHYS 005 001\n 65 Mediterraneo Hourly IBI ANALYSIS FORECAST PHYS 005 001\n 66 Mediterraneo Daily IBI ANALYSIS FORECAST PHYS 005 001\n 67 Gibraltar Hourly IBI ANALYSIS FORECAST PHYS 005 001\n 68 Gibraltar Daily IBI ANALYSIS FORECAST PHYS 005 001\n 69 Cantabria Hourly IBI ANALYSIS FORECAST PHYS 005 001\n 70 Cantabria Daily IBI ANALYSIS FORECAST PHYS 005 001\n 71 Canarias Hourly IBI ANALYSIS FORECAST PHYS 005 001\n 72 Canarias Daily IBI ANALYSIS FORECAST PHYS 005 001\n 73 CEPSA Tenerife Hourly IBI ANALYSIS FORECAST PHYS 005 001\n 74 CEPSA Tenerife Daily IBI ANALYSIS FORECAST PHYS 005 001\n 75 CEPSA La Rabida Hourly IBI ANALYSIS FORECAST PHYS 005 001\n 76 CEPSA La Rabida Daily IBI ANALYSIS FORECAST PHYS 005 001\n 77 Bahia Santander Hourly IBI ANALYSIS FORECAST PHYS 005 001\n 78 Bahia Santander Daily IBI ANALYSIS FORECAST PHYS 005 001\n 79 Atlantico Hourly IBI ANALYSIS FORECAST PHYS 005 001\n 80 Atlantico Daily IBI ANALYSIS FORECAST PHYS 005 001\n 81 NCSRDdb Monthly std 1980 2009\n 82 NCSRDdb Monthly mean 1980 2009\n 83 NCSRDdb Annual std 1980 2009\n 84 NCSRDdb Annual mean 1980 2009\n 85 NCSRDdb Annual max 1980 2009\n 86 GOW Europe Monthly std 1979 2017\n 87 GOW Europe Monthly mean 1979 2017\n 88 GOW Europe Annual std 1979 2017\n 89 GOW Europe Annual mean 1979 2017\n 90 GOW Europe Annual max 1979 2017\n 91 CoastDat NorthSea Monthly std 1949 2014\n 92 CoastDat NorthSea Monthly mean 1949 2014\n 93 CoastDat NorthSea Annual std 1949 2014\n 94 CoastDat NorthSea Annual mean 1949 2014\n 95 CoastDat NorthSea Annual max 1949 2014\n 96 CoastDat BalticSea Monthly std 1958 2002\n 97 CoastDat BalticSea Monthly mean 1958 2002\n 98 CoastDat BalticSea Annual std 1958 2002\n 99 CoastDat BalticSea Annual mean 1958 2002\n100 CoastDat BalticSea Annual max 1958 2002\n101 BoBWA H Monthly std 1958 2002\n102 BoBWA H Monthly mean 1958 2002\n103 BoBWA H Annual std 1958 2002\n104 BoBWA H Annual mean 1958 2002\n105 BoBWA H Annual max 1958 2002\n106 GOS Europe Monthly std 1979 2017\n107 GOS Europe Monthly mean 1979 2017\n108 GOS Europe Annual std 1979 2017\n109 GOS Europe Annual mean 1979 2017\n110 GOS Europe Annual max 1979 2017\n111 MSLR Mediterranean 1950 2008\n112 LEGOS Ensemble 1960 2012\n114 CSIRO 1950 2009\n115 Cartagena PE WAVES\n116 Huelva Delft 3D\n117 Santander NOWCAST\n118 IH SWAN Huelva\n119 IH SWAN Costa Bizkaia\n120 IH SWAN Bahía Huelva\n121 IH SWAN Andalucia\n122 IMETEO Spain\n123 NOAA GFS Global\n124 PE SafePort Bahía Algeciras\n130 IH PROW NOAA\n131 IH PROW Cantábrico\n132 AEMET HARMONIE Tenerife\n133 AEMET HARMONIE Algeciras\n134 AEMET HARMONIE Huelva\n135 AEMET HARMONIE Bimep\n136 AEMET HARMONIE Harmonie\n137 Santa Catarina ANALYSIS FORECAST WAV 001 027\n138 Santa Catarina ANALYSIS FORECAST PHY 001 024\n139 GLOBAL REANALYSIS WAV 001 032\n140 Global Energy Resource Suitability Climate Change\n141 National Biological Suitability Climate Change\n142 Global Biological Suitability Climate Change\n143 Regional Cantabria\n144 Europe EMODnet 2018\n145 Global GEBCO 2020\n146 SOCIB WMOP Surface\n150 hist Precipitation 25 returnperiod\n151 hist Mean monthly precipitation\n152 hist Stoppage hours wind yearly\n153 hist Wind damage events yearly\n154 hist Average damage wind events\n155 hist Days with high temperature yearly\n156 hist Weighted Mean Annual Pavement Temperature\n157 hist Cooling degree days yearly\n158 rcp45 2050 Precipitation 25 returnperiod\n159 rcp45 2050 Mean monthly precipitation\n160 rcp45 2050 Stoppage hours wind yearly\n161 rcp45 2050 Wind damage events yearly\n162 rcp45 2050 Average damage wind events\n163 rcp45 2050 Days with high temperature yearly\n164 rcp45 2050 Weighted Mean Annual Pavement Temperature\n165 rcp45 2050 Cooling degree days yearly\n166 rcp45 2050 Sea Level Rise yearly\n167 rcp45 2100 Precipitation 25 returnperiod\n168 rcp45 2100 Mean monthly precipitation\n169 rcp45 2100 Stoppage hours wind yearly\n170 rcp45 2100 Wind damage events yearly\n171 rcp45 2100 Average damage wind events\n172 rcp45 2100 Days with high temperature yearly\n173 rcp45 2100 Weighted Mean Annual Pavement Temperature\n174 rcp45 2100 Cooling degree days yearly\n175 rcp45 2100 Sea Level Rise yearly\n176 rcp85 2050 Precipitation 25 returnperiod\n177 rcp85 2050 Mean monthly precipitation\n178 rcp85 2050 Stoppage hours wind yearly\n179 rcp85 2050 Wind damage events yearly\n180 rcp85 2050 Average damage wind events\n181 rcp85 2050 Days with high temperature yearly\n182 rcp85 2050 Weighted Mean Annual Pavement Temperature\n183 rcp85 2050 Cooling degree days yearly\n184 rcp85 2050 Sea Level Rise yearly\n185 rcp85 2100 Precipitation 25 returnperiod\n186 rcp85 2100 Mean monthly precipitation\n187 rcp85 2100 Stoppage hours wind yearly\n188 rcp85 2100 Wind damage events yearly\n189 rcp85 2100 Average damage wind events\n190 rcp85 2100 Days with high temperature yearly\n191 rcp85 2100 Weighted Mean Annual Pavement Temperature\n192 rcp85 2100 Cooling degree days yearly\n193 rcp85 2100 Sea Level Rise yearly\n194 test\n195 IBI Reanalysis Phy 005 002\n196 IBI Reanalysis Wav 005 006\n197 IBI Reanalysis Bio 005 003\n198 Cantabrico\n"
     ]
    }
   ],
   "source": [
    "id_alias = [f\"{product.id:3} {product.alias}\" for product in all_products]\n",
    "print(\"\\n\".join(id_alias))"
   ]
  }
 ],
 "metadata": {
  "kernelspec": {
   "name": "python3",
   "display_name": "Python 3"
  },
  "language_info": {
   "codemirror_mode": {
    "name": "ipython",
    "version": 3
   },
   "file_extension": ".py",
   "mimetype": "text/x-python",
   "name": "python",
   "nbconvert_exporter": "python",
   "pygments_lexer": "ipython3",
   "version": "3.8.5-final"
  }
 },
 "nbformat": 4,
 "nbformat_minor": 4
}