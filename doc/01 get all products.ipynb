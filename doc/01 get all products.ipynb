{
 "cells": [
  {
   "source": [
    "# Get all products\n",
    "Obtain all products from table `products` from `datahub`.  \n",
    "We need to use `datahub.products.Products` and his `get_all()` method. It will returns a json array with all products.\n",
    "\n",
    "## Output example\n",
    "```json\n",
    "[\n",
    "    {\n",
    "    \"id\": 7,\n",
    "    \"extent\": \"{\\\"type\\\":\\\"FeatureCollection\\\",\\\"features\\\":[{\\\"type\\\":\\\"Feature\\\",\\\"geometry\\\":{\\\"type\\\":\\\"Polygon\\\",\\\"coordinates\\\":[[[-180.0,-80.0],[-180.0,90.0],[179.9166717529297,90.0],[179.9166717529297,-80.0],[-180.0,-80.0]]]},\\\"properties\\\":{}}]}\",\n",
    "    \"name\": \"GLOBAL_REANALYSIS_PHY_001_030\",\n",
    "    \"originName\": null,\n",
    "    \"alias\": \"GLOBAL REANALYSIS PHY 001 030\",\n",
    "    \"temporalResolutionHours\": \"24\",\n",
    "    \"spatialResolutionLonDegrees\": 0.083,\n",
    "    \"spatialResolutionLatDegrees\": 0.061,\n",
    "    \"spatialResolutionLonKm2\": 9.0,\n",
    "    \"spatialResolutionLatKm2\": 7.0,\n",
    "    \"added\": \"2019-05-07T00:00:00\",\n",
    "    \"addedBy\": \"Marco\",\n",
    "    \"productFormat\": \"nc\",\n",
    "    \"timeHorizon\": -1,\n",
    "    \"idSource\": 2,\n",
    "    \"active\": true,\n",
    "    \"idProductType\": 6,\n",
    "    \"urlProduct\": \"/thredds/catalog/copernicus/CMEMS/GLOBAL_REANALYSIS_PHY_001_030/catalog.html\",\n",
    "    \"license\": \"Open Access\",\n",
    "    \"graphic\": true,\n",
    "    \"mercurio\": true,\n",
    "    \"startDate\": \"1993-01-02T12:00:00\",\n",
    "    \"endDate\": \"2018-12-25T12:00:00\",\n",
    "    \"urlBase\": \"https://ihthredds.ihcantabria.com\",\n",
    "    \"urlXmlLatest\": \"/thredds/catalog/copernicus/CMEMS/GLOBAL_REANALYSIS_PHY_001_030/latest.xml\",\n",
    "    \"urlCatalog\": \"/thredds/catalog/copernicus/CMEMS/GLOBAL_REANALYSIS_PHY_001_030/catalog.xml\"\n",
    "  }  \n",
    "]\n",
    "```"
   ],
   "cell_type": "markdown",
   "metadata": {}
  },
  {
   "cell_type": "code",
   "execution_count": 1,
   "metadata": {},
   "outputs": [],
   "source": [
    "\n",
    "import sys\n",
    "sys.path.append(\"..\")\n",
    "\n",
    "from datahub.products import Products\n",
    "import json"
   ]
  },
  {
   "cell_type": "code",
   "execution_count": 2,
   "metadata": {},
   "outputs": [
    {
     "output_type": "stream",
     "name": "stdout",
     "text": [
      "2020-10-21 08:47:53.149 INFO products - get_all: 176 products found\n"
     ]
    }
   ],
   "source": [
    "p = Products()\n",
    "all_products = p.get_all()"
   ]
  },
  {
   "cell_type": "code",
   "execution_count": 3,
   "metadata": {
    "tags": [
     "outputPrepend"
    ]
   },
   "outputs": [
    {
     "output_type": "stream",
     "name": "stdout",
     "text": [
      "Format\": \"nc\",\n    \"timeHorizon\": -1,\n    \"idSource\": 6,\n    \"active\": true,\n    \"idProductType\": 7,\n    \"urlProduct\": \"/thredds/catalog/driversclimaport/rcp85/2050/catalog.html\",\n    \"license\": \"Open Access\",\n    \"graphic\": false,\n    \"mercurio\": true,\n    \"startDate\": null,\n    \"endDate\": null,\n    \"urlBase\": \"https://ihthredds.ihcantabria.com\",\n    \"urlXmlLatest\": \"/thredds/catalog/driversclimaport/rcp85/2050/catalog.xml?dataset=DRIVERSCLIMAPORT/rcp85/2050/DT_2050_RCP85.nc\",\n    \"urlCatalog\": \"/thredds/catalog/driversclimaport/rcp85/2050/catalog.xml\"\n  },\n  {\n    \"id\": 182,\n    \"extent\": \"{\\\"type\\\":\\\"FeatureCollection\\\",\\\"features\\\":[{\\\"type\\\":\\\"Feature\\\",\\\"geometry\\\":{\\\"type\\\":\\\"Polygon\\\",\\\"coordinates\\\":[[[-9.35,35.95],[-9.35,43.85],[4.45,43.85],[4.45,35.95],[-9.35,35.95]]]},\\\"properties\\\":{}}]}\",\n    \"name\": \"DRIVERCLIMAPORT\",\n    \"originName\": null,\n    \"alias\": \"rcp85 2050 Weighted Mean Annual Pavement Temperature\",\n    \"temporalResolutionHours\": null,\n    \"spatialResolutionLonDegrees\": 0.1,\n    \"spatialResolutionLatDegrees\": 0.1,\n    \"spatialResolutionLonKm2\": 11.2,\n    \"spatialResolutionLatKm2\": 11.2,\n    \"added\": \"2020-04-02T00:00:00\",\n    \"addedBy\": \"Sheila Abad\",\n    \"productFormat\": \"nc\",\n    \"timeHorizon\": -1,\n    \"idSource\": 6,\n    \"active\": true,\n    \"idProductType\": 7,\n    \"urlProduct\": \"/thredds/catalog/driversclimaport/rcp85/2050/catalog.html\",\n    \"license\": \"Open Access\",\n    \"graphic\": false,\n    \"mercurio\": true,\n    \"startDate\": null,\n    \"endDate\": null,\n    \"urlBase\": \"https://ihthredds.ihcantabria.com\",\n    \"urlXmlLatest\": \"/thredds/catalog/driversclimaport/rcp85/2050/catalog.xml?dataset=DRIVERSCLIMAPORT/rcp85/2050/WMAPT_2050_RCP85.nc\",\n    \"urlCatalog\": \"/thredds/catalog/driversclimaport/rcp85/2050/catalog.xml\"\n  },\n  {\n    \"id\": 183,\n    \"extent\": \"{\\\"type\\\":\\\"FeatureCollection\\\",\\\"features\\\":[{\\\"type\\\":\\\"Feature\\\",\\\"geometry\\\":{\\\"type\\\":\\\"Polygon\\\",\\\"coordinates\\\":[[[-9.35,35.95],[-9.35,43.85],[4.45,43.85],[4.45,35.95],[-9.35,35.95]]]},\\\"properties\\\":{}}]}\",\n    \"name\": \"DRIVERCLIMAPORT\",\n    \"originName\": null,\n    \"alias\": \"rcp85 2050 Cooling degree days yearly\",\n    \"temporalResolutionHours\": null,\n    \"spatialResolutionLonDegrees\": 0.1,\n    \"spatialResolutionLatDegrees\": 0.1,\n    \"spatialResolutionLonKm2\": 11.2,\n    \"spatialResolutionLatKm2\": 11.2,\n    \"added\": \"2020-04-02T00:00:00\",\n    \"addedBy\": \"Sheila Abad\",\n    \"productFormat\": \"nc\",\n    \"timeHorizon\": -1,\n    \"idSource\": 6,\n    \"active\": true,\n    \"idProductType\": 7,\n    \"urlProduct\": \"/thredds/catalog/driversclimaport/rcp85/2050/catalog.html\",\n    \"license\": \"Open Access\",\n    \"graphic\": false,\n    \"mercurio\": true,\n    \"startDate\": null,\n    \"endDate\": null,\n    \"urlBase\": \"https://ihthredds.ihcantabria.com\",\n    \"urlXmlLatest\": \"/thredds/catalog/driversclimaport/rcp85/2050/catalog.xml?dataset=DRIVERSCLIMAPORT/rcp85/2050/CDD_2050_RCP85.nc\",\n    \"urlCatalog\": \"/thredds/catalog/driversclimaport/rcp85/2050/catalog.xml\"\n  },\n  {\n    \"id\": 184,\n    \"extent\": \"{\\\"type\\\":\\\"FeatureCollection\\\",\\\"features\\\":[{\\\"type\\\":\\\"Feature\\\",\\\"geometry\\\":{\\\"type\\\":\\\"Polygon\\\",\\\"coordinates\\\":[[[-18.35,27.45],[-18.35,43.95],[4.45,43.95],[4.45,27.45],[-18.35,27.45]]]},\\\"properties\\\":{}}]}\",\n    \"name\": \"DRIVERCLIMAPORT\",\n    \"originName\": null,\n    \"alias\": \"rcp85 2050 Sea Level Rise yearly\",\n    \"temporalResolutionHours\": null,\n    \"spatialResolutionLonDegrees\": 0.1,\n    \"spatialResolutionLatDegrees\": 0.1,\n    \"spatialResolutionLonKm2\": 11.2,\n    \"spatialResolutionLatKm2\": 11.2,\n    \"added\": \"2020-04-02T00:00:00\",\n    \"addedBy\": \"Sheila Abad\",\n    \"productFormat\": \"nc\",\n    \"timeHorizon\": -1,\n    \"idSource\": 6,\n    \"active\": true,\n    \"idProductType\": 7,\n    \"urlProduct\": \"/thredds/catalog/driversclimaport/rcp85/2050/catalog.html\",\n    \"license\": \"Open Access\",\n    \"graphic\": false,\n    \"mercurio\": true,\n    \"startDate\": null,\n    \"endDate\": null,\n    \"urlBase\": \"https://ihthredds.ihcantabria.com\",\n    \"urlXmlLatest\": \"/thredds/catalog/driversclimaport/rcp85/2050/catalog.xml?dataset=DRIVERSCLIMAPORT/rcp85/2050/SLR_2050_RCP85.nc\",\n    \"urlCatalog\": \"/thredds/catalog/driversclimaport/rcp85/2050/catalog.xml\"\n  },\n  {\n    \"id\": 185,\n    \"extent\": \"{\\\"type\\\":\\\"FeatureCollection\\\",\\\"features\\\":[{\\\"type\\\":\\\"Feature\\\",\\\"geometry\\\":{\\\"type\\\":\\\"Polygon\\\",\\\"coordinates\\\":[[[-9.35,35.95],[-9.35,43.85],[4.45,43.85],[4.45,35.95],[-9.35,35.95]]]},\\\"properties\\\":{}}]}\",\n    \"name\": \"DRIVERCLIMAPORT\",\n    \"originName\": null,\n    \"alias\": \"rcp85 2100 Precipitation 25 returnperiod\",\n    \"temporalResolutionHours\": null,\n    \"spatialResolutionLonDegrees\": 0.1,\n    \"spatialResolutionLatDegrees\": 0.1,\n    \"spatialResolutionLonKm2\": 11.2,\n    \"spatialResolutionLatKm2\": 11.2,\n    \"added\": \"2020-04-02T00:00:00\",\n    \"addedBy\": \"Sheila Abad\",\n    \"productFormat\": \"nc\",\n    \"timeHorizon\": -1,\n    \"idSource\": 6,\n    \"active\": true,\n    \"idProductType\": 7,\n    \"urlProduct\": \"/thredds/catalog/driversclimaport/rcp85/2100/catalog.html\",\n    \"license\": \"Open Access\",\n    \"graphic\": false,\n    \"mercurio\": true,\n    \"startDate\": null,\n    \"endDate\": null,\n    \"urlBase\": \"https://ihthredds.ihcantabria.com\",\n    \"urlXmlLatest\": \"thredds/catalog/driversclimaport/rcp85/2100/catalog.xml?dataset=DRIVERSCLIMAPORT/rcp85/2100/P25_2100_RCP85.nc\",\n    \"urlCatalog\": \"/thredds/catalog/driversclimaport/rcp85/2100/catalog.xml\"\n  },\n  {\n    \"id\": 186,\n    \"extent\": \"{\\\"type\\\":\\\"FeatureCollection\\\",\\\"features\\\":[{\\\"type\\\":\\\"Feature\\\",\\\"geometry\\\":{\\\"type\\\":\\\"Polygon\\\",\\\"coordinates\\\":[[[-9.35,35.95],[-9.35,43.85],[4.45,43.85],[4.45,35.95],[-9.35,35.95]]]},\\\"properties\\\":{}}]}\",\n    \"name\": \"DRIVERCLIMAPORT\",\n    \"originName\": null,\n    \"alias\": \"rcp85 2100 Mean monthly precipitation\",\n    \"temporalResolutionHours\": null,\n    \"spatialResolutionLonDegrees\": 0.1,\n    \"spatialResolutionLatDegrees\": 0.1,\n    \"spatialResolutionLonKm2\": 11.2,\n    \"spatialResolutionLatKm2\": 11.2,\n    \"added\": \"2020-04-02T00:00:00\",\n    \"addedBy\": \"Sheila Abad\",\n    \"productFormat\": \"nc\",\n    \"timeHorizon\": -1,\n    \"idSource\": 6,\n    \"active\": true,\n    \"idProductType\": 7,\n    \"urlProduct\": \"/thredds/catalog/driversclimaport/rcp85/2100/catalog.html\",\n    \"license\": \"Open Access\",\n    \"graphic\": false,\n    \"mercurio\": true,\n    \"startDate\": null,\n    \"endDate\": null,\n    \"urlBase\": \"https://ihthredds.ihcantabria.com\",\n    \"urlXmlLatest\": \"/thredds/catalog/driversclimaport/rcp85/2100/catalog.xml?dataset=DRIVERSCLIMAPORT/rcp85/2100/MMP_2100_RCP85.nc\",\n    \"urlCatalog\": \"/thredds/catalog/driversclimaport/rcp85/2100/catalog.xml\"\n  },\n  {\n    \"id\": 187,\n    \"extent\": \"{\\\"type\\\":\\\"FeatureCollection\\\",\\\"features\\\":[{\\\"type\\\":\\\"Feature\\\",\\\"geometry\\\":{\\\"type\\\":\\\"Polygon\\\",\\\"coordinates\\\":[[[-9.35,35.95],[-9.35,43.85],[4.45,43.85],[4.45,35.95],[-9.35,35.95]]]},\\\"properties\\\":{}}]}\",\n    \"name\": \"DRIVERCLIMAPORT\",\n    \"originName\": null,\n    \"alias\": \"rcp85 2100 Stoppage hours wind yearly\",\n    \"temporalResolutionHours\": null,\n    \"spatialResolutionLonDegrees\": 0.1,\n    \"spatialResolutionLatDegrees\": 0.1,\n    \"spatialResolutionLonKm2\": 11.2,\n    \"spatialResolutionLatKm2\": 11.2,\n    \"added\": \"2020-04-02T00:00:00\",\n    \"addedBy\": \"Sheila Abad\",\n    \"productFormat\": \"nc\",\n    \"timeHorizon\": -1,\n    \"idSource\": 6,\n    \"active\": true,\n    \"idProductType\": 7,\n    \"urlProduct\": \"/thredds/catalog/driversclimaport/rcp85/2100/catalog.html\",\n    \"license\": \"Open Access\",\n    \"graphic\": false,\n    \"mercurio\": true,\n    \"startDate\": null,\n    \"endDate\": null,\n    \"urlBase\": \"https://ihthredds.ihcantabria.com\",\n    \"urlXmlLatest\": \"/thredds/catalog/driversclimaport/rcp85/2100/catalog.xml?dataset=DRIVERSCLIMAPORT/rcp85/2100/HW_2100_RCP85.nc\",\n    \"urlCatalog\": \"/thredds/catalog/driversclimaport/rcp85/2100/catalog.xml\"\n  },\n  {\n    \"id\": 188,\n    \"extent\": \"{\\\"type\\\":\\\"FeatureCollection\\\",\\\"features\\\":[{\\\"type\\\":\\\"Feature\\\",\\\"geometry\\\":{\\\"type\\\":\\\"Polygon\\\",\\\"coordinates\\\":[[[-9.35,35.95],[-9.35,43.85],[4.45,43.85],[4.45,35.95],[-9.35,35.95]]]},\\\"properties\\\":{}}]}\",\n    \"name\": \"DRIVERCLIMAPORT\",\n    \"originName\": null,\n    \"alias\": \"rcp85 2100 Wind damage events yearly\",\n    \"temporalResolutionHours\": null,\n    \"spatialResolutionLonDegrees\": 0.1,\n    \"spatialResolutionLatDegrees\": 0.1,\n    \"spatialResolutionLonKm2\": 11.2,\n    \"spatialResolutionLatKm2\": 11.2,\n    \"added\": \"2020-04-02T00:00:00\",\n    \"addedBy\": \"Sheila Abad\",\n    \"productFormat\": \"nc\",\n    \"timeHorizon\": -1,\n    \"idSource\": 6,\n    \"active\": true,\n    \"idProductType\": 7,\n    \"urlProduct\": \"/thredds/catalog/driversclimaport/rcp85/2100/catalog.html\",\n    \"license\": \"Open Access\",\n    \"graphic\": false,\n    \"mercurio\": true,\n    \"startDate\": null,\n    \"endDate\": null,\n    \"urlBase\": \"https://ihthredds.ihcantabria.com\",\n    \"urlXmlLatest\": \"/thredds/catalog/driversclimaport/rcp85/2100/catalog.xml?dataset=DRIVERSCLIMAPORT/rcp85/2100/NW_2100_RCP85.nc\",\n    \"urlCatalog\": \"/thredds/catalog/driversclimaport/rcp85/2100/catalog.xml\"\n  },\n  {\n    \"id\": 189,\n    \"extent\": \"{\\\"type\\\":\\\"FeatureCollection\\\",\\\"features\\\":[{\\\"type\\\":\\\"Feature\\\",\\\"geometry\\\":{\\\"type\\\":\\\"Polygon\\\",\\\"coordinates\\\":[[[-9.35,35.95],[-9.35,43.85],[4.45,43.85],[4.45,35.95],[-9.35,35.95]]]},\\\"properties\\\":{}}]}\",\n    \"name\": \"DRIVERCLIMAPORT\",\n    \"originName\": null,\n    \"alias\": \"rcp85 2100 Average damage wind events\",\n    \"temporalResolutionHours\": null,\n    \"spatialResolutionLonDegrees\": 0.1,\n    \"spatialResolutionLatDegrees\": 0.1,\n    \"spatialResolutionLonKm2\": 11.2,\n    \"spatialResolutionLatKm2\": 11.2,\n    \"added\": \"2020-04-02T00:00:00\",\n    \"addedBy\": \"Sheila Abad\",\n    \"productFormat\": \"nc\",\n    \"timeHorizon\": -1,\n    \"idSource\": 6,\n    \"active\": true,\n    \"idProductType\": 7,\n    \"urlProduct\": \"/thredds/catalog/driversclimaport/rcp85/2100/catalog.html\",\n    \"license\": \"Open Access\",\n    \"graphic\": false,\n    \"mercurio\": true,\n    \"startDate\": null,\n    \"endDate\": null,\n    \"urlBase\": \"https://ihthredds.ihcantabria.com\",\n    \"urlXmlLatest\": \"/thredds/catalog/driversclimaport/rcp85/2100/catalog.xml?dataset=DRIVERSCLIMAPORT/rcp85/2100/DW_2100_RCP85.nc\",\n    \"urlCatalog\": \"/thredds/catalog/driversclimaport/rcp85/2100/catalog.xml\"\n  },\n  {\n    \"id\": 190,\n    \"extent\": \"{\\\"type\\\":\\\"FeatureCollection\\\",\\\"features\\\":[{\\\"type\\\":\\\"Feature\\\",\\\"geometry\\\":{\\\"type\\\":\\\"Polygon\\\",\\\"coordinates\\\":[[[-9.35,35.95],[-9.35,43.85],[4.45,43.85],[4.45,35.95],[-9.35,35.95]]]},\\\"properties\\\":{}}]}\",\n    \"name\": \"DRIVERCLIMAPORT\",\n    \"originName\": null,\n    \"alias\": \"rcp85 2100 Days with high temperature yearly\",\n    \"temporalResolutionHours\": null,\n    \"spatialResolutionLonDegrees\": 0.1,\n    \"spatialResolutionLatDegrees\": 0.1,\n    \"spatialResolutionLonKm2\": 11.2,\n    \"spatialResolutionLatKm2\": 11.2,\n    \"added\": \"2020-04-02T00:00:00\",\n    \"addedBy\": \"Sheila Abad\",\n    \"productFormat\": \"nc\",\n    \"timeHorizon\": -1,\n    \"idSource\": 6,\n    \"active\": true,\n    \"idProductType\": 7,\n    \"urlProduct\": \"/thredds/catalog/driversclimaport/rcp85/2100/catalog.html\",\n    \"license\": \"Open Access\",\n    \"graphic\": false,\n    \"mercurio\": true,\n    \"startDate\": null,\n    \"endDate\": null,\n    \"urlBase\": \"https://ihthredds.ihcantabria.com\",\n    \"urlXmlLatest\": \"/thredds/catalog/driversclimaport/rcp85/2100/catalog.xml?dataset=DRIVERSCLIMAPORT/rcp85/2100/DT_2100_RCP85.nc\",\n    \"urlCatalog\": \"/thredds/catalog/driversclimaport/rcp85/2100/catalog.xml\"\n  },\n  {\n    \"id\": 191,\n    \"extent\": \"{\\\"type\\\":\\\"FeatureCollection\\\",\\\"features\\\":[{\\\"type\\\":\\\"Feature\\\",\\\"geometry\\\":{\\\"type\\\":\\\"Polygon\\\",\\\"coordinates\\\":[[[-9.35,35.95],[-9.35,43.85],[4.45,43.85],[4.45,35.95],[-9.35,35.95]]]},\\\"properties\\\":{}}]}\",\n    \"name\": \"DRIVERCLIMAPORT\",\n    \"originName\": null,\n    \"alias\": \"rcp85 2100 Weighted Mean Annual Pavement Temperature\",\n    \"temporalResolutionHours\": null,\n    \"spatialResolutionLonDegrees\": 0.1,\n    \"spatialResolutionLatDegrees\": 0.1,\n    \"spatialResolutionLonKm2\": 11.2,\n    \"spatialResolutionLatKm2\": 11.2,\n    \"added\": \"2020-04-02T00:00:00\",\n    \"addedBy\": \"Sheila Abad\",\n    \"productFormat\": \"nc\",\n    \"timeHorizon\": -1,\n    \"idSource\": 6,\n    \"active\": true,\n    \"idProductType\": 7,\n    \"urlProduct\": \"/thredds/catalog/driversclimaport/rcp85/2100/catalog.html\",\n    \"license\": \"Open Access\",\n    \"graphic\": false,\n    \"mercurio\": true,\n    \"startDate\": null,\n    \"endDate\": null,\n    \"urlBase\": \"https://ihthredds.ihcantabria.com\",\n    \"urlXmlLatest\": \"/thredds/catalog/driversclimaport/rcp85/2100/catalog.xml?dataset=DRIVERSCLIMAPORT/rcp85/2100/WMAPT_2100_RCP85.nc\",\n    \"urlCatalog\": \"/thredds/catalog/driversclimaport/rcp85/2100/catalog.xml\"\n  },\n  {\n    \"id\": 192,\n    \"extent\": \"{\\\"type\\\":\\\"FeatureCollection\\\",\\\"features\\\":[{\\\"type\\\":\\\"Feature\\\",\\\"geometry\\\":{\\\"type\\\":\\\"Polygon\\\",\\\"coordinates\\\":[[[-9.35,35.95],[-9.35,43.85],[4.45,43.85],[4.45,35.95],[-9.35,35.95]]]},\\\"properties\\\":{}}]}\",\n    \"name\": \"DRIVERCLIMAPORT\",\n    \"originName\": null,\n    \"alias\": \"rcp85 2100 Cooling degree days yearly\",\n    \"temporalResolutionHours\": null,\n    \"spatialResolutionLonDegrees\": 0.1,\n    \"spatialResolutionLatDegrees\": 0.1,\n    \"spatialResolutionLonKm2\": 11.2,\n    \"spatialResolutionLatKm2\": 11.2,\n    \"added\": \"2020-04-02T00:00:00\",\n    \"addedBy\": \"Sheila Abad\",\n    \"productFormat\": \"nc\",\n    \"timeHorizon\": -1,\n    \"idSource\": 6,\n    \"active\": true,\n    \"idProductType\": 7,\n    \"urlProduct\": \"/thredds/catalog/driversclimaport/rcp85/2100/catalog.html\",\n    \"license\": \"Open Access\",\n    \"graphic\": false,\n    \"mercurio\": true,\n    \"startDate\": null,\n    \"endDate\": null,\n    \"urlBase\": \"https://ihthredds.ihcantabria.com\",\n    \"urlXmlLatest\": \"/thredds/catalog/driversclimaport/rcp85/2100/catalog.xml?dataset=DRIVERSCLIMAPORT/rcp85/2100/CDD_2100_RCP85.nc\",\n    \"urlCatalog\": \"/thredds/catalog/driversclimaport/rcp85/2100/catalog.xml\"\n  },\n  {\n    \"id\": 193,\n    \"extent\": \"{\\\"type\\\":\\\"FeatureCollection\\\",\\\"features\\\":[{\\\"type\\\":\\\"Feature\\\",\\\"geometry\\\":{\\\"type\\\":\\\"Polygon\\\",\\\"coordinates\\\":[[[-18.35,27.45],[-18.35,43.95],[4.45,43.95],[4.45,27.45],[-18.35,27.45]]]},\\\"properties\\\":{}}]}\",\n    \"name\": \"DRIVERCLIMAPORT\",\n    \"originName\": null,\n    \"alias\": \"rcp85 2100 Sea Level Rise yearly\",\n    \"temporalResolutionHours\": null,\n    \"spatialResolutionLonDegrees\": 0.1,\n    \"spatialResolutionLatDegrees\": 0.1,\n    \"spatialResolutionLonKm2\": 11.2,\n    \"spatialResolutionLatKm2\": 11.2,\n    \"added\": \"2020-04-02T00:00:00\",\n    \"addedBy\": \"Sheila Abad\",\n    \"productFormat\": \"nc\",\n    \"timeHorizon\": -1,\n    \"idSource\": 6,\n    \"active\": true,\n    \"idProductType\": 7,\n    \"urlProduct\": \"/thredds/catalog/driversclimaport/rcp85/2100/catalog.html\",\n    \"license\": \"Open Access\",\n    \"graphic\": false,\n    \"mercurio\": true,\n    \"startDate\": null,\n    \"endDate\": null,\n    \"urlBase\": \"https://ihthredds.ihcantabria.com\",\n    \"urlXmlLatest\": \"/thredds/catalog/driversclimaport/rcp85/2100/catalog.xml?dataset=DRIVERSCLIMAPORT/rcp85/2100/SLR_2100_RCP85.nc\",\n    \"urlCatalog\": \"/thredds/catalog/driversclimaport/rcp85/2100/catalog.xml\"\n  },\n  {\n    \"id\": 194,\n    \"extent\": \"{\\\"type\\\":\\\"FeatureCollection\\\",\\\"features\\\":[{\\\"type\\\":\\\"Feature\\\",\\\"geometry\\\":{\\\"type\\\":\\\"Polygon\\\",\\\"coordinates\\\":[[[0.0,0.5],[0.0,0.5],[0.0,0.5],[0.0,0.5],[0.0,0.5]]]},\\\"properties\\\":{}}]}\",\n    \"name\": \"test\",\n    \"originName\": null,\n    \"alias\": \"test\",\n    \"temporalResolutionHours\": null,\n    \"spatialResolutionLonDegrees\": 0.5,\n    \"spatialResolutionLatDegrees\": 0.5,\n    \"spatialResolutionLonKm2\": 50.0,\n    \"spatialResolutionLatKm2\": 50.0,\n    \"added\": \"2020-06-04T00:00:00\",\n    \"addedBy\": \"Marco\",\n    \"productFormat\": \"nc\",\n    \"timeHorizon\": -1,\n    \"idSource\": 20,\n    \"active\": true,\n    \"idProductType\": 2,\n    \"urlProduct\": \"/thredds/catalog/test/catalog.html\",\n    \"license\": \"Open Access\",\n    \"graphic\": false,\n    \"mercurio\": true,\n    \"startDate\": null,\n    \"endDate\": null,\n    \"urlBase\": \"https://ihthredds.ihcantabria.com\",\n    \"urlXmlLatest\": \"/thredds/catalog/test/catalog.xml?dataset=test/null_island_test.nc\",\n    \"urlCatalog\": \"/thredds/catalog/test/catalog.xml\"\n  },\n  {\n    \"id\": 195,\n    \"extent\": \"{\\\"type\\\":\\\"FeatureCollection\\\",\\\"features\\\":[{\\\"type\\\":\\\"Feature\\\",\\\"geometry\\\":{\\\"type\\\":\\\"Polygon\\\",\\\"coordinates\\\":[[[-19.0,26.0],[-19.0,56.0],[4.999999046325684,56.0],[4.999999046325684,26.0],[-19.0,26.0]]]},\\\"properties\\\":{}}]}\",\n    \"name\": \"IBI_REANALYSIS_PHYS_005_002\",\n    \"originName\": null,\n    \"alias\": \"IBI Reanalysis Phy 005 002\",\n    \"temporalResolutionHours\": \"1\",\n    \"spatialResolutionLonDegrees\": 0.08,\n    \"spatialResolutionLatDegrees\": 0.08,\n    \"spatialResolutionLonKm2\": 7.0,\n    \"spatialResolutionLatKm2\": 9.0,\n    \"added\": \"2020-09-30T00:00:00\",\n    \"addedBy\": \"Marco\",\n    \"productFormat\": \"nc\",\n    \"timeHorizon\": -1,\n    \"idSource\": 2,\n    \"active\": true,\n    \"idProductType\": 6,\n    \"urlProduct\": \"/thredds/COPERNICUS/CMEMS/IBI_REANALYSIS_PHY_005_002/IBI_REANALYSIS_PHY_005_002.html\",\n    \"license\": \"Open Access\",\n    \"graphic\": true,\n    \"mercurio\": true,\n    \"startDate\": \"1992-01-01T00:30:00\",\n    \"endDate\": \"2019-12-24T23:30:00\",\n    \"urlBase\": \"https://ihthredds.ihcantabria.com\",\n    \"urlXmlLatest\": \"/thredds/COPERNICUS/CMEMS/IBI_REANALYSIS_PHY_005_002/IBI_REANALYSIS_PHY_005_002.xml?dataset=COPERNICUS/CMEMS/IBI_REANALYSIS_PHY_005_002/IBI_REANALYSIS_PHY_005_002.nc\",\n    \"urlCatalog\": \"/thredds/COPERNICUS/CMEMS/IBI_REANALYSIS_PHY_005_002/IBI_REANALYSIS_PHY_005_002.xml\"\n  },\n  {\n    \"id\": 196,\n    \"extent\": \"{\\\"type\\\":\\\"FeatureCollection\\\",\\\"features\\\":[{\\\"type\\\":\\\"Feature\\\",\\\"geometry\\\":{\\\"type\\\":\\\"Polygon\\\",\\\"coordinates\\\":[[[-19.0,26.0],[-19.0,56.0],[4.999999046325684,56.0],[4.999999046325684,26.0],[-19.0,26.0]]]},\\\"properties\\\":{}}]}\",\n    \"name\": \"IBI_REANALYSIS_WAV_005_006\",\n    \"originName\": null,\n    \"alias\": \"IBI Reanalysis Wav 005 006\",\n    \"temporalResolutionHours\": \"1\",\n    \"spatialResolutionLonDegrees\": 0.1,\n    \"spatialResolutionLatDegrees\": 0.1,\n    \"spatialResolutionLonKm2\": 9.0,\n    \"spatialResolutionLatKm2\": 11.0,\n    \"added\": \"2020-10-14T00:00:00\",\n    \"addedBy\": \"Marco\",\n    \"productFormat\": \"nc\",\n    \"timeHorizon\": -1,\n    \"idSource\": 2,\n    \"active\": true,\n    \"idProductType\": 6,\n    \"urlProduct\": \"/thredds/COPERNICUS/CMEMS/IBI_REANALYSIS_WAV_005_006/IBI_REANALYSIS_WAV_005_006.html\",\n    \"license\": \"Open Access\",\n    \"graphic\": true,\n    \"mercurio\": true,\n    \"startDate\": \"1992-01-01T00:00:00\",\n    \"endDate\": \"2019-12-30T00:00:00\",\n    \"urlBase\": \"https://ihthredds.ihcantabria.com\",\n    \"urlXmlLatest\": \"/thredds/COPERNICUS/CMEMS/IBI_REANALYSIS_WAV_005_006/IBI_REANALYSIS_WAV_005_006.xml?dataset=COPERNICUS/CMEMS/IBI_REANALYSIS_WAV_005_006/IBI_REANALYSIS_WAV_005_006.nc\",\n    \"urlCatalog\": \"/thredds/COPERNICUS/CMEMS/IBI_REANALYSIS_WAV_005_006/IBI_REANALYSIS_WAV_005_006.xml\"\n  },\n  {\n    \"id\": 197,\n    \"extent\": \"{\\\"type\\\":\\\"FeatureCollection\\\",\\\"features\\\":[{\\\"type\\\":\\\"Feature\\\",\\\"geometry\\\":{\\\"type\\\":\\\"Polygon\\\",\\\"coordinates\\\":[[[-19.0,26.0],[-19.0,56.0],[4.999999046325684,56.0],[4.999999046325684,26.0],[-19.0,26.0]]]},\\\"properties\\\":{}}]}\",\n    \"name\": \"IBI_REANALYSIS_BIO_005_003\",\n    \"originName\": null,\n    \"alias\": \"IBI Reanalysis Bio 005 003\",\n    \"temporalResolutionHours\": \"24\",\n    \"spatialResolutionLonDegrees\": 0.08,\n    \"spatialResolutionLatDegrees\": 0.08,\n    \"spatialResolutionLonKm2\": 8.0,\n    \"spatialResolutionLatKm2\": 9.0,\n    \"added\": \"2020-10-14T00:00:00\",\n    \"addedBy\": \"Marco\",\n    \"productFormat\": \"nc\",\n    \"timeHorizon\": -1,\n    \"idSource\": 2,\n    \"active\": true,\n    \"idProductType\": 6,\n    \"urlProduct\": \"/thredds/COPERNICUS/CMEMS/IBI_REANALYSIS_BIO_005_003/IBI_REANALYSIS_BIO_005_003.html\",\n    \"license\": \"Open Access\",\n    \"graphic\": true,\n    \"mercurio\": true,\n    \"startDate\": \"1992-01-01T12:00:00\",\n    \"endDate\": \"2019-12-24T12:00:00\",\n    \"urlBase\": \"https://ihthredds.ihcantabria.com\",\n    \"urlXmlLatest\": \"/thredds/COPERNICUS/CMEMS/IBI_REANALYSIS_BIO_005_003/IBI_REANALYSIS_BIO_005_003.xml?dataset=COPERNICUS/CMEMS/IBI_REANALYSIS_BIO_005_003/IBI_REANALYSIS_BIO_005_003.nc\",\n    \"urlCatalog\": \"/thredds/COPERNICUS/CMEMS/IBI_REANALYSIS_BIO_005_003/IBI_REANALYSIS_BIO_005_003.xml\"\n  }\n]\n"
     ]
    }
   ],
   "source": [
    "print(json.dumps(all_products, indent=2))"
   ]
  },
  {
   "cell_type": "code",
   "execution_count": null,
   "metadata": {},
   "outputs": [],
   "source": []
  }
 ],
 "metadata": {
  "kernelspec": {
   "name": "Python 3.8.5 64-bit ('env')",
   "display_name": "Python 3.8.5 64-bit ('env')",
   "metadata": {
    "interpreter": {
     "hash": "a4eba885a2c17fb01c44a3306f93f81a7de86ed20ee7df2c1d57bfe1cf2651e1"
    }
   }
  },
  "language_info": {
   "codemirror_mode": {
    "name": "ipython",
    "version": 3
   },
   "file_extension": ".py",
   "mimetype": "text/x-python",
   "name": "python",
   "nbconvert_exporter": "python",
   "pygments_lexer": "ipython3",
   "version": "3.8.5-final"
  }
 },
 "nbformat": 4,
 "nbformat_minor": 4
}